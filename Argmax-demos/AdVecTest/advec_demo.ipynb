{
 "cells": [
  {
   "cell_type": "code",
   "execution_count": 3,
   "id": "312b5c1f-6686-49f6-9365-c6d658ed2840",
   "metadata": {},
   "outputs": [],
   "source": [
    "import json, re\n",
    "from pathlib import Path\n",
    "from typing import Dict\n",
    "import math\n",
    "import numpy as np"
   ]
  },
  {
   "cell_type": "code",
   "execution_count": 5,
   "id": "c8a205b8-0928-4c15-8ffe-1c3e712750db",
   "metadata": {},
   "outputs": [],
   "source": [
    "vecs = np.load('data/vectors_drive.npy')"
   ]
  },
  {
   "cell_type": "code",
   "execution_count": 6,
   "id": "05fdc0e6-2458-4a04-a649-e2a2d44a664c",
   "metadata": {},
   "outputs": [
    {
     "data": {
      "text/plain": [
       "(89331, 384)"
      ]
     },
     "execution_count": 6,
     "metadata": {},
     "output_type": "execute_result"
    }
   ],
   "source": [
    "vecs.shape"
   ]
  },
  {
   "cell_type": "markdown",
   "id": "f7e33677-4b30-4263-a61e-4440fdd2909d",
   "metadata": {},
   "source": [
    "# Hyperspace config and setup"
   ]
  },
  {
   "cell_type": "code",
   "execution_count": 2,
   "id": "63ea0ce9-ce9a-45b2-9747-2f0e504c3514",
   "metadata": {},
   "outputs": [],
   "source": [
    "import json\n",
    "\n",
    "config = {\n",
    "    \"configuration\": {\n",
    "        \"id\": {\n",
    "            \"type\":\"float\"\n",
    "        },\n",
    "        \"title\":{\n",
    "        \"type\":\"keyword\"\n",
    "        },\n",
    "        \"bundle_id\": {\n",
    "            \"type\":\"keyword\"\n",
    "        },\n",
    "        \"ios\":{\n",
    "        \"type\":\"boolean\"\n",
    "        },\n",
    "        \"categories\": {\n",
    "            \"type\":\"keyword\",\n",
    "            \"struct_type\":\"list\"\n",
    "        },\n",
    "        \"content\": {\n",
    "            \"type\":\"keyword\"\n",
    "        },\n",
    "        \"embedded_app\": {\n",
    "            \"type\": \"dense_vector\",\n",
    "            \"dim\": 384,\n",
    "            \"index_type\": \"brute_force\",\n",
    "            \"metric\": \"IP\"\n",
    "        }\n",
    "    }\n",
    "}\n",
    "\n",
    "with open('advec_config.json', 'w') as f:\n",
    "    f.write(json.dumps(config, indent=2))"
   ]
  },
  {
   "cell_type": "code",
   "execution_count": 3,
   "id": "020898ae-f1ad-4f59-aa76-ab4f1be42175",
   "metadata": {},
   "outputs": [],
   "source": [
    "import hyperspace\n",
    "\n",
    "username = \"amir@argmaxml.com\"\n",
    "password = \"wcEa^w5g4D\"\n",
    "\n",
    "host = \"https://beta.prod.hyper-space.xyz/\"\n",
    "\n",
    "hyperspace_client = hyperspace.HyperspaceClientApi(host=host,\n",
    "                                                   username=username, password= password)\n",
    "\n",
    "collection_name = 'advec'\n"
   ]
  },
  {
   "cell_type": "markdown",
   "id": "f7a316f9-4181-447b-8dc5-a35c46e0fa04",
   "metadata": {},
   "source": [
    "## Load data"
   ]
  },
  {
   "cell_type": "code",
   "execution_count": 40,
   "id": "092053ea-a4e2-4dbb-90c7-4adbfc953384",
   "metadata": {},
   "outputs": [
    {
     "data": {
      "text/plain": [
       "{'collections': {'advec': {'creation_time': '2023-10-01T13:33:29Z',\n",
       "   'last_query_time': '2023-10-02T08:45:41Z',\n",
       "   'size': 89001},\n",
       "  'amazon-images-norm': {'creation_time': '2023-10-02T13:55:17Z',\n",
       "   'last_query_time': '2023-10-03T06:03:49Z',\n",
       "   'size': 100000}}}"
      ]
     },
     "execution_count": 40,
     "metadata": {},
     "output_type": "execute_result"
    }
   ],
   "source": [
    "\n",
    "try:\n",
    "    hyperspace_client.delete_collection(collection_name)\n",
    "except:\n",
    "    pass\n",
    "hyperspace_client.create_collection('advec_config.json', collection_name)\n",
    "hyperspace_client.collections_info()"
   ]
  },
  {
   "cell_type": "code",
   "execution_count": 34,
   "id": "c2aff5d4-9a11-456b-b689-139c4ab985a4",
   "metadata": {},
   "outputs": [],
   "source": [
    "import numpy as np\n",
    "vecs = np.load('data/vectors.npy')\n",
    "metadata_file = open('data/context.jsonl',encoding=\"utf8\")"
   ]
  },
  {
   "cell_type": "code",
   "execution_count": 85,
   "id": "0904d325-495f-410d-8bc6-f84a30bac7af",
   "metadata": {
    "scrolled": true
   },
   "outputs": [
    {
     "name": "stdout",
     "output_type": "stream",
     "text": [
      "0 {'code': 200,\n",
      " 'message': 'Batch successfully added',\n",
      " 'status': 'HTTP/1.1 200 OK'}\n",
      "500 {'code': 200,\n",
      " 'message': 'Batch successfully added',\n",
      " 'status': 'HTTP/1.1 200 OK'}\n",
      "1000 {'code': 200,\n",
      " 'message': 'Batch successfully added',\n",
      " 'status': 'HTTP/1.1 200 OK'}\n",
      "1500 {'code': 200,\n",
      " 'message': 'Batch successfully added',\n",
      " 'status': 'HTTP/1.1 200 OK'}\n",
      "2000 {'code': 200,\n",
      " 'message': 'Batch successfully added',\n",
      " 'status': 'HTTP/1.1 200 OK'}\n",
      "2500 {'code': 200,\n",
      " 'message': 'Batch successfully added',\n",
      " 'status': 'HTTP/1.1 200 OK'}\n",
      "3000 {'code': 200,\n",
      " 'message': 'Batch successfully added',\n",
      " 'status': 'HTTP/1.1 200 OK'}\n",
      "3500 {'code': 200,\n",
      " 'message': 'Batch successfully added',\n",
      " 'status': 'HTTP/1.1 200 OK'}\n",
      "4000 {'code': 200,\n",
      " 'message': 'Batch successfully added',\n",
      " 'status': 'HTTP/1.1 200 OK'}\n",
      "4500 {'code': 200,\n",
      " 'message': 'Batch successfully added',\n",
      " 'status': 'HTTP/1.1 200 OK'}\n",
      "5000 {'code': 200,\n",
      " 'message': 'Batch successfully added',\n",
      " 'status': 'HTTP/1.1 200 OK'}\n",
      "5500 {'code': 200,\n",
      " 'message': 'Batch successfully added',\n",
      " 'status': 'HTTP/1.1 200 OK'}\n",
      "6000 {'code': 200,\n",
      " 'message': 'Batch successfully added',\n",
      " 'status': 'HTTP/1.1 200 OK'}\n",
      "6500 {'code': 200,\n",
      " 'message': 'Batch successfully added',\n",
      " 'status': 'HTTP/1.1 200 OK'}\n",
      "7000 {'code': 200,\n",
      " 'message': 'Batch successfully added',\n",
      " 'status': 'HTTP/1.1 200 OK'}\n",
      "7500 {'code': 200,\n",
      " 'message': 'Batch successfully added',\n",
      " 'status': 'HTTP/1.1 200 OK'}\n",
      "8000 {'code': 200,\n",
      " 'message': 'Batch successfully added',\n",
      " 'status': 'HTTP/1.1 200 OK'}\n",
      "8500 {'code': 200,\n",
      " 'message': 'Batch successfully added',\n",
      " 'status': 'HTTP/1.1 200 OK'}\n",
      "9000 {'code': 200,\n",
      " 'message': 'Batch successfully added',\n",
      " 'status': 'HTTP/1.1 200 OK'}\n",
      "9500 {'code': 200,\n",
      " 'message': 'Batch successfully added',\n",
      " 'status': 'HTTP/1.1 200 OK'}\n",
      "10000 {'code': 200,\n",
      " 'message': 'Batch successfully added',\n",
      " 'status': 'HTTP/1.1 200 OK'}\n",
      "10500 {'code': 200,\n",
      " 'message': 'Batch successfully added',\n",
      " 'status': 'HTTP/1.1 200 OK'}\n",
      "11000 {'code': 200,\n",
      " 'message': 'Batch successfully added',\n",
      " 'status': 'HTTP/1.1 200 OK'}\n",
      "11500 {'code': 200,\n",
      " 'message': 'Batch successfully added',\n",
      " 'status': 'HTTP/1.1 200 OK'}\n",
      "12000 {'code': 200,\n",
      " 'message': 'Batch successfully added',\n",
      " 'status': 'HTTP/1.1 200 OK'}\n",
      "12500 {'code': 200,\n",
      " 'message': 'Batch successfully added',\n",
      " 'status': 'HTTP/1.1 200 OK'}\n",
      "13000 {'code': 200,\n",
      " 'message': 'Batch successfully added',\n",
      " 'status': 'HTTP/1.1 200 OK'}\n",
      "13500 {'code': 200,\n",
      " 'message': 'Batch successfully added',\n",
      " 'status': 'HTTP/1.1 200 OK'}\n",
      "14000 {'code': 200,\n",
      " 'message': 'Batch successfully added',\n",
      " 'status': 'HTTP/1.1 200 OK'}\n",
      "14500 {'code': 200,\n",
      " 'message': 'Batch successfully added',\n",
      " 'status': 'HTTP/1.1 200 OK'}\n",
      "15000 {'code': 200,\n",
      " 'message': 'Batch successfully added',\n",
      " 'status': 'HTTP/1.1 200 OK'}\n",
      "15500 {'code': 200,\n",
      " 'message': 'Batch successfully added',\n",
      " 'status': 'HTTP/1.1 200 OK'}\n",
      "16000 {'code': 200,\n",
      " 'message': 'Batch successfully added',\n",
      " 'status': 'HTTP/1.1 200 OK'}\n",
      "16500 {'code': 200,\n",
      " 'message': 'Batch successfully added',\n",
      " 'status': 'HTTP/1.1 200 OK'}\n",
      "17000 {'code': 200,\n",
      " 'message': 'Batch successfully added',\n",
      " 'status': 'HTTP/1.1 200 OK'}\n",
      "17500 {'code': 200,\n",
      " 'message': 'Batch successfully added',\n",
      " 'status': 'HTTP/1.1 200 OK'}\n",
      "18000 {'code': 200,\n",
      " 'message': 'Batch successfully added',\n",
      " 'status': 'HTTP/1.1 200 OK'}\n",
      "18500 {'code': 200,\n",
      " 'message': 'Batch successfully added',\n",
      " 'status': 'HTTP/1.1 200 OK'}\n",
      "19000 {'code': 200,\n",
      " 'message': 'Batch successfully added',\n",
      " 'status': 'HTTP/1.1 200 OK'}\n",
      "19500 {'code': 200,\n",
      " 'message': 'Batch successfully added',\n",
      " 'status': 'HTTP/1.1 200 OK'}\n",
      "20000 {'code': 200,\n",
      " 'message': 'Batch successfully added',\n",
      " 'status': 'HTTP/1.1 200 OK'}\n",
      "20500 {'code': 200,\n",
      " 'message': 'Batch successfully added',\n",
      " 'status': 'HTTP/1.1 200 OK'}\n",
      "21000 {'code': 200,\n",
      " 'message': 'Batch successfully added',\n",
      " 'status': 'HTTP/1.1 200 OK'}\n",
      "21500 {'code': 200,\n",
      " 'message': 'Batch successfully added',\n",
      " 'status': 'HTTP/1.1 200 OK'}\n",
      "22000 {'code': 200,\n",
      " 'message': 'Batch successfully added',\n",
      " 'status': 'HTTP/1.1 200 OK'}\n",
      "22500 {'code': 200,\n",
      " 'message': 'Batch successfully added',\n",
      " 'status': 'HTTP/1.1 200 OK'}\n",
      "23000 {'code': 200,\n",
      " 'message': 'Batch successfully added',\n",
      " 'status': 'HTTP/1.1 200 OK'}\n",
      "23500 {'code': 200,\n",
      " 'message': 'Batch successfully added',\n",
      " 'status': 'HTTP/1.1 200 OK'}\n",
      "24000 {'code': 200,\n",
      " 'message': 'Batch successfully added',\n",
      " 'status': 'HTTP/1.1 200 OK'}\n",
      "24500 {'code': 200,\n",
      " 'message': 'Batch successfully added',\n",
      " 'status': 'HTTP/1.1 200 OK'}\n",
      "25000 {'code': 200,\n",
      " 'message': 'Batch successfully added',\n",
      " 'status': 'HTTP/1.1 200 OK'}\n",
      "25500 {'code': 200,\n",
      " 'message': 'Batch successfully added',\n",
      " 'status': 'HTTP/1.1 200 OK'}\n",
      "26000 {'code': 200,\n",
      " 'message': 'Batch successfully added',\n",
      " 'status': 'HTTP/1.1 200 OK'}\n",
      "26500 {'code': 200,\n",
      " 'message': 'Batch successfully added',\n",
      " 'status': 'HTTP/1.1 200 OK'}\n",
      "27000 {'code': 200,\n",
      " 'message': 'Batch successfully added',\n",
      " 'status': 'HTTP/1.1 200 OK'}\n",
      "27500 {'code': 200,\n",
      " 'message': 'Batch successfully added',\n",
      " 'status': 'HTTP/1.1 200 OK'}\n",
      "28000 {'code': 200,\n",
      " 'message': 'Batch successfully added',\n",
      " 'status': 'HTTP/1.1 200 OK'}\n",
      "28500 {'code': 200,\n",
      " 'message': 'Batch successfully added',\n",
      " 'status': 'HTTP/1.1 200 OK'}\n",
      "29000 {'code': 200,\n",
      " 'message': 'Batch successfully added',\n",
      " 'status': 'HTTP/1.1 200 OK'}\n",
      "29500 {'code': 200,\n",
      " 'message': 'Batch successfully added',\n",
      " 'status': 'HTTP/1.1 200 OK'}\n",
      "30000 {'code': 200,\n",
      " 'message': 'Batch successfully added',\n",
      " 'status': 'HTTP/1.1 200 OK'}\n",
      "30500 {'code': 200,\n",
      " 'message': 'Batch successfully added',\n",
      " 'status': 'HTTP/1.1 200 OK'}\n",
      "31000 {'code': 200,\n",
      " 'message': 'Batch successfully added',\n",
      " 'status': 'HTTP/1.1 200 OK'}\n",
      "31500 {'code': 200,\n",
      " 'message': 'Batch successfully added',\n",
      " 'status': 'HTTP/1.1 200 OK'}\n",
      "32000 {'code': 200,\n",
      " 'message': 'Batch successfully added',\n",
      " 'status': 'HTTP/1.1 200 OK'}\n",
      "32500 {'code': 200,\n",
      " 'message': 'Batch successfully added',\n",
      " 'status': 'HTTP/1.1 200 OK'}\n",
      "33000 {'code': 200,\n",
      " 'message': 'Batch successfully added',\n",
      " 'status': 'HTTP/1.1 200 OK'}\n",
      "33500 {'code': 200,\n",
      " 'message': 'Batch successfully added',\n",
      " 'status': 'HTTP/1.1 200 OK'}\n",
      "34000 {'code': 200,\n",
      " 'message': 'Batch successfully added',\n",
      " 'status': 'HTTP/1.1 200 OK'}\n",
      "34500 {'code': 200,\n",
      " 'message': 'Batch successfully added',\n",
      " 'status': 'HTTP/1.1 200 OK'}\n",
      "35000 {'code': 200,\n",
      " 'message': 'Batch successfully added',\n",
      " 'status': 'HTTP/1.1 200 OK'}\n",
      "35500 {'code': 200,\n",
      " 'message': 'Batch successfully added',\n",
      " 'status': 'HTTP/1.1 200 OK'}\n",
      "36000 {'code': 200,\n",
      " 'message': 'Batch successfully added',\n",
      " 'status': 'HTTP/1.1 200 OK'}\n",
      "36500 {'code': 200,\n",
      " 'message': 'Batch successfully added',\n",
      " 'status': 'HTTP/1.1 200 OK'}\n",
      "37000 {'code': 200,\n",
      " 'message': 'Batch successfully added',\n",
      " 'status': 'HTTP/1.1 200 OK'}\n",
      "37500 {'code': 200,\n",
      " 'message': 'Batch successfully added',\n",
      " 'status': 'HTTP/1.1 200 OK'}\n",
      "38000 {'code': 200,\n",
      " 'message': 'Batch successfully added',\n",
      " 'status': 'HTTP/1.1 200 OK'}\n",
      "38500 {'code': 200,\n",
      " 'message': 'Batch successfully added',\n",
      " 'status': 'HTTP/1.1 200 OK'}\n",
      "39000 {'code': 200,\n",
      " 'message': 'Batch successfully added',\n",
      " 'status': 'HTTP/1.1 200 OK'}\n",
      "39500 {'code': 200,\n",
      " 'message': 'Batch successfully added',\n",
      " 'status': 'HTTP/1.1 200 OK'}\n",
      "40000 {'code': 200,\n",
      " 'message': 'Batch successfully added',\n",
      " 'status': 'HTTP/1.1 200 OK'}\n",
      "40500 {'code': 200,\n",
      " 'message': 'Batch successfully added',\n",
      " 'status': 'HTTP/1.1 200 OK'}\n",
      "41000 {'code': 200,\n",
      " 'message': 'Batch successfully added',\n",
      " 'status': 'HTTP/1.1 200 OK'}\n",
      "41500 {'code': 200,\n",
      " 'message': 'Batch successfully added',\n",
      " 'status': 'HTTP/1.1 200 OK'}\n",
      "42000 {'code': 200,\n",
      " 'message': 'Batch successfully added',\n",
      " 'status': 'HTTP/1.1 200 OK'}\n",
      "42500 {'code': 200,\n",
      " 'message': 'Batch successfully added',\n",
      " 'status': 'HTTP/1.1 200 OK'}\n",
      "43000 {'code': 200,\n",
      " 'message': 'Batch successfully added',\n",
      " 'status': 'HTTP/1.1 200 OK'}\n",
      "43500 {'code': 200,\n",
      " 'message': 'Batch successfully added',\n",
      " 'status': 'HTTP/1.1 200 OK'}\n",
      "44000 {'code': 200,\n",
      " 'message': 'Batch successfully added',\n",
      " 'status': 'HTTP/1.1 200 OK'}\n",
      "44500 {'code': 200,\n",
      " 'message': 'Batch successfully added',\n",
      " 'status': 'HTTP/1.1 200 OK'}\n",
      "45000 {'code': 200,\n",
      " 'message': 'Batch successfully added',\n",
      " 'status': 'HTTP/1.1 200 OK'}\n",
      "45500 {'code': 200,\n",
      " 'message': 'Batch successfully added',\n",
      " 'status': 'HTTP/1.1 200 OK'}\n",
      "46000 {'code': 200,\n",
      " 'message': 'Batch successfully added',\n",
      " 'status': 'HTTP/1.1 200 OK'}\n",
      "46500 {'code': 200,\n",
      " 'message': 'Batch successfully added',\n",
      " 'status': 'HTTP/1.1 200 OK'}\n",
      "47000 {'code': 200,\n",
      " 'message': 'Batch successfully added',\n",
      " 'status': 'HTTP/1.1 200 OK'}\n",
      "47500 {'code': 200,\n",
      " 'message': 'Batch successfully added',\n",
      " 'status': 'HTTP/1.1 200 OK'}\n",
      "48000 {'code': 200,\n",
      " 'message': 'Batch successfully added',\n",
      " 'status': 'HTTP/1.1 200 OK'}\n",
      "48500 {'code': 200,\n",
      " 'message': 'Batch successfully added',\n",
      " 'status': 'HTTP/1.1 200 OK'}\n",
      "49000 {'code': 200,\n",
      " 'message': 'Batch successfully added',\n",
      " 'status': 'HTTP/1.1 200 OK'}\n",
      "49500 {'code': 200,\n",
      " 'message': 'Batch successfully added',\n",
      " 'status': 'HTTP/1.1 200 OK'}\n",
      "50000 {'code': 200,\n",
      " 'message': 'Batch successfully added',\n",
      " 'status': 'HTTP/1.1 200 OK'}\n",
      "50500 {'code': 200,\n",
      " 'message': 'Batch successfully added',\n",
      " 'status': 'HTTP/1.1 200 OK'}\n",
      "51000 {'code': 200,\n",
      " 'message': 'Batch successfully added',\n",
      " 'status': 'HTTP/1.1 200 OK'}\n",
      "51500 {'code': 200,\n",
      " 'message': 'Batch successfully added',\n",
      " 'status': 'HTTP/1.1 200 OK'}\n",
      "52000 {'code': 200,\n",
      " 'message': 'Batch successfully added',\n",
      " 'status': 'HTTP/1.1 200 OK'}\n",
      "52500 {'code': 200,\n",
      " 'message': 'Batch successfully added',\n",
      " 'status': 'HTTP/1.1 200 OK'}\n",
      "53000 {'code': 200,\n",
      " 'message': 'Batch successfully added',\n",
      " 'status': 'HTTP/1.1 200 OK'}\n",
      "53500 {'code': 200,\n",
      " 'message': 'Batch successfully added',\n",
      " 'status': 'HTTP/1.1 200 OK'}\n",
      "54000 {'code': 200,\n",
      " 'message': 'Batch successfully added',\n",
      " 'status': 'HTTP/1.1 200 OK'}\n",
      "54500 {'code': 200,\n",
      " 'message': 'Batch successfully added',\n",
      " 'status': 'HTTP/1.1 200 OK'}\n",
      "55000 {'code': 200,\n",
      " 'message': 'Batch successfully added',\n",
      " 'status': 'HTTP/1.1 200 OK'}\n",
      "55500 {'code': 200,\n",
      " 'message': 'Batch successfully added',\n",
      " 'status': 'HTTP/1.1 200 OK'}\n",
      "56000 {'code': 200,\n",
      " 'message': 'Batch successfully added',\n",
      " 'status': 'HTTP/1.1 200 OK'}\n",
      "56500 {'code': 200,\n",
      " 'message': 'Batch successfully added',\n",
      " 'status': 'HTTP/1.1 200 OK'}\n",
      "57000 {'code': 200,\n",
      " 'message': 'Batch successfully added',\n",
      " 'status': 'HTTP/1.1 200 OK'}\n",
      "57500 {'code': 200,\n",
      " 'message': 'Batch successfully added',\n",
      " 'status': 'HTTP/1.1 200 OK'}\n",
      "58000 {'code': 200,\n",
      " 'message': 'Batch successfully added',\n",
      " 'status': 'HTTP/1.1 200 OK'}\n",
      "58500 {'code': 200,\n",
      " 'message': 'Batch successfully added',\n",
      " 'status': 'HTTP/1.1 200 OK'}\n",
      "59000 {'code': 200,\n",
      " 'message': 'Batch successfully added',\n",
      " 'status': 'HTTP/1.1 200 OK'}\n",
      "59500 {'code': 200,\n",
      " 'message': 'Batch successfully added',\n",
      " 'status': 'HTTP/1.1 200 OK'}\n",
      "60000 {'code': 200,\n",
      " 'message': 'Batch successfully added',\n",
      " 'status': 'HTTP/1.1 200 OK'}\n",
      "60500 {'code': 200,\n",
      " 'message': 'Batch successfully added',\n",
      " 'status': 'HTTP/1.1 200 OK'}\n",
      "61000 {'code': 200,\n",
      " 'message': 'Batch successfully added',\n",
      " 'status': 'HTTP/1.1 200 OK'}\n",
      "61500 {'code': 200,\n",
      " 'message': 'Batch successfully added',\n",
      " 'status': 'HTTP/1.1 200 OK'}\n",
      "62000 {'code': 200,\n",
      " 'message': 'Batch successfully added',\n",
      " 'status': 'HTTP/1.1 200 OK'}\n",
      "62500 {'code': 200,\n",
      " 'message': 'Batch successfully added',\n",
      " 'status': 'HTTP/1.1 200 OK'}\n",
      "63000 {'code': 200,\n",
      " 'message': 'Batch successfully added',\n",
      " 'status': 'HTTP/1.1 200 OK'}\n",
      "63500 {'code': 200,\n",
      " 'message': 'Batch successfully added',\n",
      " 'status': 'HTTP/1.1 200 OK'}\n",
      "64000 {'code': 200,\n",
      " 'message': 'Batch successfully added',\n",
      " 'status': 'HTTP/1.1 200 OK'}\n",
      "64500 {'code': 200,\n",
      " 'message': 'Batch successfully added',\n",
      " 'status': 'HTTP/1.1 200 OK'}\n",
      "65000 {'code': 200,\n",
      " 'message': 'Batch successfully added',\n",
      " 'status': 'HTTP/1.1 200 OK'}\n",
      "65500 {'code': 200,\n",
      " 'message': 'Batch successfully added',\n",
      " 'status': 'HTTP/1.1 200 OK'}\n",
      "66000 {'code': 200,\n",
      " 'message': 'Batch successfully added',\n",
      " 'status': 'HTTP/1.1 200 OK'}\n",
      "66500 {'code': 200,\n",
      " 'message': 'Batch successfully added',\n",
      " 'status': 'HTTP/1.1 200 OK'}\n",
      "67000 {'code': 200,\n",
      " 'message': 'Batch successfully added',\n",
      " 'status': 'HTTP/1.1 200 OK'}\n",
      "67500 {'code': 200,\n",
      " 'message': 'Batch successfully added',\n",
      " 'status': 'HTTP/1.1 200 OK'}\n",
      "68000 {'code': 200,\n",
      " 'message': 'Batch successfully added',\n",
      " 'status': 'HTTP/1.1 200 OK'}\n",
      "68500 {'code': 200,\n",
      " 'message': 'Batch successfully added',\n",
      " 'status': 'HTTP/1.1 200 OK'}\n",
      "69000 {'code': 200,\n",
      " 'message': 'Batch successfully added',\n",
      " 'status': 'HTTP/1.1 200 OK'}\n",
      "69500 {'code': 200,\n",
      " 'message': 'Batch successfully added',\n",
      " 'status': 'HTTP/1.1 200 OK'}\n",
      "70000 {'code': 200,\n",
      " 'message': 'Batch successfully added',\n",
      " 'status': 'HTTP/1.1 200 OK'}\n",
      "70500 {'code': 200,\n",
      " 'message': 'Batch successfully added',\n",
      " 'status': 'HTTP/1.1 200 OK'}\n",
      "71000 {'code': 200,\n",
      " 'message': 'Batch successfully added',\n",
      " 'status': 'HTTP/1.1 200 OK'}\n",
      "71500 {'code': 200,\n",
      " 'message': 'Batch successfully added',\n",
      " 'status': 'HTTP/1.1 200 OK'}\n",
      "72000 {'code': 200,\n",
      " 'message': 'Batch successfully added',\n",
      " 'status': 'HTTP/1.1 200 OK'}\n",
      "72500 {'code': 200,\n",
      " 'message': 'Batch successfully added',\n",
      " 'status': 'HTTP/1.1 200 OK'}\n",
      "73000 {'code': 200,\n",
      " 'message': 'Batch successfully added',\n",
      " 'status': 'HTTP/1.1 200 OK'}\n",
      "73500 {'code': 200,\n",
      " 'message': 'Batch successfully added',\n",
      " 'status': 'HTTP/1.1 200 OK'}\n",
      "74000 {'code': 200,\n",
      " 'message': 'Batch successfully added',\n",
      " 'status': 'HTTP/1.1 200 OK'}\n",
      "74500 {'code': 200,\n",
      " 'message': 'Batch successfully added',\n",
      " 'status': 'HTTP/1.1 200 OK'}\n",
      "75000 {'code': 200,\n",
      " 'message': 'Batch successfully added',\n",
      " 'status': 'HTTP/1.1 200 OK'}\n",
      "75500 {'code': 200,\n",
      " 'message': 'Batch successfully added',\n",
      " 'status': 'HTTP/1.1 200 OK'}\n",
      "76000 {'code': 200,\n",
      " 'message': 'Batch successfully added',\n",
      " 'status': 'HTTP/1.1 200 OK'}\n",
      "76500 {'code': 200,\n",
      " 'message': 'Batch successfully added',\n",
      " 'status': 'HTTP/1.1 200 OK'}\n",
      "77000 {'code': 200,\n",
      " 'message': 'Batch successfully added',\n",
      " 'status': 'HTTP/1.1 200 OK'}\n",
      "77500 {'code': 200,\n",
      " 'message': 'Batch successfully added',\n",
      " 'status': 'HTTP/1.1 200 OK'}\n",
      "78000 {'code': 200,\n",
      " 'message': 'Batch successfully added',\n",
      " 'status': 'HTTP/1.1 200 OK'}\n",
      "78500 {'code': 200,\n",
      " 'message': 'Batch successfully added',\n",
      " 'status': 'HTTP/1.1 200 OK'}\n",
      "79000 {'code': 200,\n",
      " 'message': 'Batch successfully added',\n",
      " 'status': 'HTTP/1.1 200 OK'}\n",
      "79500 {'code': 200,\n",
      " 'message': 'Batch successfully added',\n",
      " 'status': 'HTTP/1.1 200 OK'}\n",
      "80000 {'code': 200,\n",
      " 'message': 'Batch successfully added',\n",
      " 'status': 'HTTP/1.1 200 OK'}\n",
      "80500 {'code': 200,\n",
      " 'message': 'Batch successfully added',\n",
      " 'status': 'HTTP/1.1 200 OK'}\n",
      "81000 {'code': 200,\n",
      " 'message': 'Batch successfully added',\n",
      " 'status': 'HTTP/1.1 200 OK'}\n",
      "81500 {'code': 200,\n",
      " 'message': 'Batch successfully added',\n",
      " 'status': 'HTTP/1.1 200 OK'}\n",
      "82000 {'code': 200,\n",
      " 'message': 'Batch successfully added',\n",
      " 'status': 'HTTP/1.1 200 OK'}\n",
      "82500 {'code': 200,\n",
      " 'message': 'Batch successfully added',\n",
      " 'status': 'HTTP/1.1 200 OK'}\n",
      "83000 {'code': 200,\n",
      " 'message': 'Batch successfully added',\n",
      " 'status': 'HTTP/1.1 200 OK'}\n",
      "83500 {'code': 200,\n",
      " 'message': 'Batch successfully added',\n",
      " 'status': 'HTTP/1.1 200 OK'}\n",
      "84000 {'code': 200,\n",
      " 'message': 'Batch successfully added',\n",
      " 'status': 'HTTP/1.1 200 OK'}\n",
      "84500 {'code': 200,\n",
      " 'message': 'Batch successfully added',\n",
      " 'status': 'HTTP/1.1 200 OK'}\n",
      "85000 {'code': 200,\n",
      " 'message': 'Batch successfully added',\n",
      " 'status': 'HTTP/1.1 200 OK'}\n",
      "85500 {'code': 200,\n",
      " 'message': 'Batch successfully added',\n",
      " 'status': 'HTTP/1.1 200 OK'}\n",
      "86000 {'code': 200,\n",
      " 'message': 'Batch successfully added',\n",
      " 'status': 'HTTP/1.1 200 OK'}\n",
      "86500 {'code': 200,\n",
      " 'message': 'Batch successfully added',\n",
      " 'status': 'HTTP/1.1 200 OK'}\n",
      "87000 {'code': 200,\n",
      " 'message': 'Batch successfully added',\n",
      " 'status': 'HTTP/1.1 200 OK'}\n",
      "87500 {'code': 200,\n",
      " 'message': 'Batch successfully added',\n",
      " 'status': 'HTTP/1.1 200 OK'}\n",
      "88000 {'code': 200,\n",
      " 'message': 'Batch successfully added',\n",
      " 'status': 'HTTP/1.1 200 OK'}\n",
      "88500 {'code': 200,\n",
      " 'message': 'Batch successfully added',\n",
      " 'status': 'HTTP/1.1 200 OK'}\n",
      "89000 {'code': 200,\n",
      " 'message': 'Batch successfully added',\n",
      " 'status': 'HTTP/1.1 200 OK'}\n"
     ]
    }
   ],
   "source": [
    "BATCH_SIZE = 500\n",
    "\n",
    "batch = []\n",
    "for i, (metadata_row, vec) in enumerate(zip(metadata_file, vecs)):\n",
    "    row = {key: value for key, value in json.loads(metadata_row).items() if key in config[\"configuration\"].keys()}\n",
    "    row['embedded_app'] = np.ndarray.tolist(vec)\n",
    "\n",
    "    batch.append(hyperspace.Document(str(i), row))\n",
    "\n",
    "    if i % BATCH_SIZE == 0:\n",
    "        response = hyperspace_client.add_batch(batch, collection_name)\n",
    "        batch.clear()\n",
    "        print(i, response)\n",
    "response = hyperspace_client.add_batch(batch, collection_name)\n",
    "batch.clear()\n",
    "print(i, response)\n",
    "hyperspace_client.commit(collection_name)"
   ]
  },
  {
   "cell_type": "code",
   "execution_count": 41,
   "id": "8bac72a3-45c7-445e-8f00-e206608969f5",
   "metadata": {},
   "outputs": [
    {
     "data": {
      "text/plain": [
       "{'collections': {'advec': {'creation_time': '2023-10-01T13:33:29Z',\n",
       "   'last_query_time': '2023-10-02T08:45:41Z',\n",
       "   'size': 89001},\n",
       "  'amazon-images-norm': {'creation_time': '2023-10-02T13:55:17Z',\n",
       "   'last_query_time': '2023-10-03T06:03:49Z',\n",
       "   'size': 100000}}}"
      ]
     },
     "execution_count": 41,
     "metadata": {},
     "output_type": "execute_result"
    }
   ],
   "source": [
    "hyperspace_client.collections_info()"
   ]
  },
  {
   "cell_type": "markdown",
   "id": "4eaab0c5-85f6-4cd9-a0c7-4cf0cfae5325",
   "metadata": {},
   "source": [
    "# Vector search"
   ]
  },
  {
   "cell_type": "code",
   "execution_count": 7,
   "id": "5ff8391b-b679-43f7-bf79-00a14aef2981",
   "metadata": {},
   "outputs": [
    {
     "name": "stdout",
     "output_type": "stream",
     "text": [
      "Sensors: Temp and Humidity\n",
      "['WEATHER', 'APPLICATION']\n"
     ]
    }
   ],
   "source": [
    "input_document = hyperspace_client.get_document(collection_name, 42)\n",
    "print(input_document['title'] + \"\\n\" + str(input_document['categories']))"
   ]
  },
  {
   "cell_type": "code",
   "execution_count": 8,
   "id": "1ca689dd-b0f9-4ff4-aaea-c041b7135bb9",
   "metadata": {},
   "outputs": [],
   "source": [
    "\n",
    "query_with_knn = {\n",
    "    'params': input_document,\n",
    "    'knn' : {\n",
    "        'embedded_app' : {\"boost\":1},\n",
    "        'query' : {'boost':0}\n",
    "    }\n",
    "}\n",
    "\n",
    "results = hyperspace_client.search(query_with_knn,\n",
    "                                        size=5,\n",
    "                                        collection_name=collection_name)\n",
    "\n",
    "def print_res(result,keys=[\"title\",\"bundle_id\",\"categories\"]):\n",
    "    for i,result in enumerate(results['similarity']):\n",
    "        vector_api_response = hyperspace_client.get_document(document_id=result['document_id'], collection_name=collection_name)\n",
    "        response = f\"{i+1} - {result['document_id']} : {result['score']} --- \"\n",
    "        keys_str = \" - \".join([str(vector_api_response[k]) for k in keys])\n",
    "        print(response+keys_str)"
   ]
  },
  {
   "cell_type": "code",
   "execution_count": 9,
   "id": "a9e888c0-05b2-4773-b725-b11cebdaf978",
   "metadata": {},
   "outputs": [
    {
     "name": "stdout",
     "output_type": "stream",
     "text": [
      "1 - 12145 : 1.0000001192092896 --- Sensors: Temp and Humidity - com.ydvisual.s4envtrak - ['WEATHER', 'APPLICATION']\n",
      "2 - 42 : 1.0000001192092896 --- Sensors: Temp and Humidity - com.ydvisual.s4envtrak - ['WEATHER', 'APPLICATION']\n",
      "3 - 43618 : 0.9984776973724365 --- Temperature humidity barometeF - jp.metersfree - ['TOOLS', 'APPLICATION']\n",
      "4 - 46921 : 0.9973560571670532 --- Real Mercury Thermometer - com.discipleskies.dsthermometer - ['WEATHER', 'APPLICATION']\n",
      "5 - 9002 : 0.9973560571670532 --- Real Mercury Thermometer - com.discipleskies.dsthermometer - ['WEATHER', 'APPLICATION']\n"
     ]
    }
   ],
   "source": [
    "print_res(results)"
   ]
  },
  {
   "cell_type": "markdown",
   "id": "5f29e4ba-6e8b-43f7-97ff-3037b705dff0",
   "metadata": {},
   "source": [
    "## Classic score"
   ]
  },
  {
   "cell_type": "code",
   "execution_count": 17,
   "id": "f2a02dd2-9a38-40a2-9ead-a8619cab534c",
   "metadata": {},
   "outputs": [
    {
     "data": {
      "text/plain": [
       "{'code': 200, 'message': 'Function was set successfully', 'status': 'OK'}"
      ]
     },
     "execution_count": 17,
     "metadata": {},
     "output_type": "execute_result"
    }
   ],
   "source": [
    "#classic score func\n",
    "sf_file = 'classic_score.py'\n",
    "hyperspace_client.set_function(sf_file, collection_name=collection_name, function_name='classic_score')"
   ]
  },
  {
   "cell_type": "code",
   "execution_count": 18,
   "id": "b21109fb-558d-4ef5-b29b-c19ea3acee8c",
   "metadata": {},
   "outputs": [
    {
     "data": {
      "text/plain": [
       "\"Sensors: Temp and Humidity\\n['WEATHER', 'APPLICATION']\""
      ]
     },
     "execution_count": 18,
     "metadata": {},
     "output_type": "execute_result"
    }
   ],
   "source": [
    "input_document = hyperspace_client.get_document(collection_name, 42)\n",
    "input_document['title'] + \"\\n\" + str(input_document['categories'])"
   ]
  },
  {
   "cell_type": "code",
   "execution_count": 25,
   "id": "f5fa75ff-6559-462e-b5fb-60f8cfb268ce",
   "metadata": {},
   "outputs": [
    {
     "name": "stdout",
     "output_type": "stream",
     "text": [
      "1 - 46921 : 20.662134170532227 --- Real Mercury Thermometer - com.discipleskies.dsthermometer - ['WEATHER', 'APPLICATION']\n",
      "2 - 9002 : 20.662134170532227 --- Real Mercury Thermometer - com.discipleskies.dsthermometer - ['WEATHER', 'APPLICATION']\n",
      "3 - 50635 : 20.660837173461914 --- Smart thermometer - com.naavsystems.smartthermo - ['WEATHER', 'APPLICATION']\n",
      "4 - 52176 : 20.66031265258789 --- Sun Alarm - com.vvse.sunalarm - ['WEATHER', 'APPLICATION']\n",
      "5 - 11144 : 20.659549713134766 --- Temperature: Phone, Room, City - com.ppn.temperature.checker - ['WEATHER', 'APPLICATION']\n",
      "6 - 74829 : 20.659549713134766 --- Temperature: Phone, Room, City - com.ppn.temperature.checker - ['WEATHER', 'APPLICATION']\n",
      "7 - 84340 : 20.659549713134766 --- Temperature: Phone, Room, City - com.ppn.temperature.checker - ['WEATHER', 'APPLICATION']\n",
      "8 - 17381 : 19.664777755737305 --- NOAA Buoys Live Marine Weather - com.sherpaoutdoorapp.noaaweatherbuoys - ['WEATHER', 'APPLICATION']\n",
      "9 - 17629 : 19.664777755737305 --- Images of the Sun from SOHO - com.silentlexx.sohowrapper - ['WEATHER', 'APPLICATION']\n",
      "10 - 17894 : 19.664777755737305 --- OnTheSnow Ski & Snow Report - com.skireport - ['WEATHER', 'APPLICATION']\n"
     ]
    }
   ],
   "source": [
    "query_with_knn = {\n",
    "    'params': input_document,\n",
    "    'knn' : {\n",
    "        'embedded_app' : {\"boost\":1},\n",
    "        'query' : {'boost':1}\n",
    "    }\n",
    "}\n",
    "\n",
    "results = hyperspace_client.search(query_with_knn,\n",
    "                                        size=10,\n",
    "                                   function_name=\"classic_score\",\n",
    "                                        collection_name=collection_name)\n",
    "print_res(results,[\"title\",\"bundle_id\",\"categories\"])"
   ]
  },
  {
   "cell_type": "markdown",
   "id": "31b4bd2a-3fb0-432d-9f29-e556fd0cd870",
   "metadata": {},
   "source": [
    "## Generate new embeddings and search"
   ]
  },
  {
   "cell_type": "code",
   "execution_count": 13,
   "id": "dfd1e3b2-3be5-42d2-ab8f-6aa68e708e75",
   "metadata": {},
   "outputs": [
    {
     "name": "stderr",
     "output_type": "stream",
     "text": [
      "C:\\Users\\Amir Loewenthal\\PycharmProjects\\QuickStart\\venv\\lib\\site-packages\\tqdm\\auto.py:21: TqdmWarning: IProgress not found. Please update jupyter and ipywidgets. See https://ipywidgets.readthedocs.io/en/stable/user_install.html\n",
      "  from .autonotebook import tqdm as notebook_tqdm\n"
     ]
    }
   ],
   "source": [
    "from sentence_transformers import SentenceTransformer\n",
    "emb_model = SentenceTransformer('BAAI/bge-small-en')"
   ]
  },
  {
   "cell_type": "code",
   "execution_count": 14,
   "id": "06782dbc-447f-46b2-b477-9be8984431e6",
   "metadata": {},
   "outputs": [],
   "source": [
    "sim_sentence = \"\"\"a great app for gaming with my friends \"\"\"\n",
    "# Embedding using sentence-transformers - irrelevant at advec-be deployment machine\n",
    "sim_embedding = emb_model.encode([sim_sentence], normalize_embeddings=True)[0]\n",
    "\n",
    "query_with_knn = {\n",
    "    'params': {\n",
    "        \n",
    "        'embedded_app':sim_embedding.tolist()\n",
    "    },\n",
    "    'knn' : {\n",
    "        'embedded_app' : {\"boost\":1},\n",
    "\n",
    "    }\n",
    "}\n"
   ]
  },
  {
   "cell_type": "code",
   "execution_count": 15,
   "id": "c9cd527c-4133-4f4d-bac8-f8c132d0d1d5",
   "metadata": {},
   "outputs": [
    {
     "name": "stdout",
     "output_type": "stream",
     "text": [
      "CPU times: total: 203 ms\n",
      "Wall time: 177 ms\n"
     ]
    }
   ],
   "source": [
    "%%time\n",
    "results = hyperspace_client.search(query_with_knn,\n",
    "                                        size=20,\n",
    "                                        collection_name=collection_name)"
   ]
  },
  {
   "cell_type": "code",
   "execution_count": 16,
   "id": "a29d5c16-eece-4dc7-bb74-d7cfe7b192b1",
   "metadata": {},
   "outputs": [
    {
     "name": "stdout",
     "output_type": "stream",
     "text": [
      "1 - 20141 : 0.8744263648986816 --- Game Offline 3D no Wi Fi - com.chillapps.gameoffline3d\n",
      "2 - 70640 : 0.8744263648986816 --- Game Offline 3D no Wi Fi - com.chillapps.gameoffline3d\n",
      "3 - 76652 : 0.8744263648986816 --- Game Offline 3D no Wi Fi - com.chillapps.gameoffline3d\n",
      "4 - 37344 : 0.8736395835876465 --- Vlinder avatar maker: Anime - com.dressup.doll.vlinder.avatar.maker.anime\n",
      "5 - 50248 : 0.8733617663383484 --- Real Fireworks - com.mustafademir.realfireworks\n",
      "6 - 40079 : 0.8724929690361023 --- Dragon Blast - com.dragonblast.free\n",
      "7 - 42537 : 0.8724929690361023 --- Monster Blast - com.candy.cute.monster.blast.gp\n",
      "8 - 9564 : 0.8724929690361023 --- Dragon Blast - com.dragonblast.free\n",
      "9 - 74551 : 0.871880054473877 --- KurtMaster2D - com.plbm.plbm1\n",
      "10 - 84062 : 0.871880054473877 --- KurtMaster2D - com.plbm.plbm1\n",
      "11 - 39177 : 0.871452808380127 --- ReallyMake: Pottery Sculpting - 1191748553\n",
      "12 - 50148 : 0.8714419603347778 --- KoGaMa Brazil - com.multiverse.brkogama\n",
      "13 - 50151 : 0.8714419603347778 --- KoGaMa - com.multiverse.kogama\n",
      "14 - 30644 : 0.8712177276611328 --- バレずにレンダダーン - 連打ゲーム - com.bare.rendadada\n",
      "15 - 47513 : 0.8711833953857422 --- Best Jigsaw Puzzles - 1063670998\n",
      "16 - 49972 : 0.8711833953857422 --- Best Jigsaw Puzzles - com.bestjigsawpuzzles\n",
      "17 - 60791 : 0.8711833953857422 --- Best Jigsaw Puzzles - 1063670998\n",
      "18 - 63692 : 0.8711833953857422 --- Best Jigsaw Puzzles - com.bestjigsawpuzzles\n",
      "19 - 13615 : 0.870692789554596 --- ASMR Coloring! - 1329724092\n",
      "20 - 4785 : 0.870692789554596 --- ASMR Coloring! - 1329724092\n"
     ]
    }
   ],
   "source": [
    "results\n",
    "print_res(results,['title','bundle_id'])"
   ]
  },
  {
   "cell_type": "markdown",
   "id": "1d96433e-80fe-47b2-befb-9197e5ec75cf",
   "metadata": {},
   "source": [
    "## Hybrid\n",
    "We search for similar descriptions but filter out apps that are not from ios using score function"
   ]
  },
  {
   "cell_type": "code",
   "execution_count": 29,
   "id": "de753460-a8ca-400a-a066-5b843c5da963",
   "metadata": {},
   "outputs": [
    {
     "ename": "ApiException",
     "evalue": "(400)\nReason: Bad Request\nHTTP response headers: HTTPHeaderDict({'Date': 'Tue, 03 Oct 2023 15:33:48 GMT', 'Content-Type': 'application/json', 'Content-Length': '130', 'Connection': 'keep-alive', 'Access-Control-Allow-Methods': 'GET, POST, OPTIONS', 'Access-Control-Allow-Headers': 'DNT, User-Agent, X-Requested-With, If-Modified-Since, Cache-Control, Content-Type, Range, Authorization', 'Access-Control-Max-Age': '1728000', 'Access-Control-Allow-Origin': '*'})\nHTTP response body: b'{\"status\":\"Error\",\"code\":400,\"message\":\"Line 5: Operations of constant strings in the ranking logic are currently not supported.\"}'\n",
     "output_type": "error",
     "traceback": [
      "\u001b[1;31m---------------------------------------------------------------------------\u001b[0m",
      "\u001b[1;31mApiException\u001b[0m                              Traceback (most recent call last)",
      "Cell \u001b[1;32mIn[29], line 3\u001b[0m\n\u001b[0;32m      1\u001b[0m \u001b[38;5;66;03m#classic score func\u001b[39;00m\n\u001b[0;32m      2\u001b[0m sf_file \u001b[38;5;241m=\u001b[39m \u001b[38;5;124m'\u001b[39m\u001b[38;5;124mcomplex_score_1.py\u001b[39m\u001b[38;5;124m'\u001b[39m\n\u001b[1;32m----> 3\u001b[0m \u001b[43mhyperspace_client\u001b[49m\u001b[38;5;241;43m.\u001b[39;49m\u001b[43mset_function\u001b[49m\u001b[43m(\u001b[49m\u001b[43msf_file\u001b[49m\u001b[43m,\u001b[49m\u001b[43m \u001b[49m\u001b[43mcollection_name\u001b[49m\u001b[38;5;241;43m=\u001b[39;49m\u001b[43mcollection_name\u001b[49m\u001b[43m,\u001b[49m\u001b[43m \u001b[49m\u001b[43mfunction_name\u001b[49m\u001b[38;5;241;43m=\u001b[39;49m\u001b[38;5;124;43m'\u001b[39;49m\u001b[38;5;124;43mcat_ratio_score\u001b[39;49m\u001b[38;5;124;43m'\u001b[39;49m\u001b[43m)\u001b[49m\n",
      "File \u001b[1;32m~\\PycharmProjects\\QuickStart\\venv\\lib\\site-packages\\hyperspace\\api\\hyperspace_api.py:1445\u001b[0m, in \u001b[0;36mHyperspaceApi.set_function\u001b[1;34m(self, file, collection_name, function_name, **kwargs)\u001b[0m\n\u001b[0;32m   1443\u001b[0m     \u001b[38;5;28;01mreturn\u001b[39;00m \u001b[38;5;28mself\u001b[39m\u001b[38;5;241m.\u001b[39mset_function_with_http_info(file, collection_name, function_name, \u001b[38;5;241m*\u001b[39m\u001b[38;5;241m*\u001b[39mkwargs)  \u001b[38;5;66;03m# noqa: E501\u001b[39;00m\n\u001b[0;32m   1444\u001b[0m \u001b[38;5;28;01melse\u001b[39;00m:\n\u001b[1;32m-> 1445\u001b[0m     (data) \u001b[38;5;241m=\u001b[39m \u001b[38;5;28mself\u001b[39m\u001b[38;5;241m.\u001b[39mset_function_with_http_info(file, collection_name, function_name, \u001b[38;5;241m*\u001b[39m\u001b[38;5;241m*\u001b[39mkwargs)  \u001b[38;5;66;03m# noqa: E501\u001b[39;00m\n\u001b[0;32m   1446\u001b[0m     \u001b[38;5;28;01mreturn\u001b[39;00m data\n",
      "File \u001b[1;32m~\\PycharmProjects\\QuickStart\\venv\\lib\\site-packages\\hyperspace\\api\\hyperspace_api.py:1522\u001b[0m, in \u001b[0;36mHyperspaceApi.set_function_with_http_info\u001b[1;34m(self, file, collection_name, function_name, **kwargs)\u001b[0m\n\u001b[0;32m   1519\u001b[0m \u001b[38;5;66;03m# Authentication setting\u001b[39;00m\n\u001b[0;32m   1520\u001b[0m auth_settings \u001b[38;5;241m=\u001b[39m [\u001b[38;5;124m'\u001b[39m\u001b[38;5;124mbearer\u001b[39m\u001b[38;5;124m'\u001b[39m]  \u001b[38;5;66;03m# noqa: E501\u001b[39;00m\n\u001b[1;32m-> 1522\u001b[0m \u001b[38;5;28;01mreturn\u001b[39;00m \u001b[38;5;28;43mself\u001b[39;49m\u001b[38;5;241;43m.\u001b[39;49m\u001b[43mapi_client\u001b[49m\u001b[38;5;241;43m.\u001b[39;49m\u001b[43mcall_api\u001b[49m\u001b[43m(\u001b[49m\n\u001b[0;32m   1523\u001b[0m \u001b[43m    \u001b[49m\u001b[38;5;124;43m'\u001b[39;49m\u001b[38;5;124;43m/api/v1/\u001b[39;49m\u001b[38;5;132;43;01m{collectionName}\u001b[39;49;00m\u001b[38;5;124;43m/function/\u001b[39;49m\u001b[38;5;132;43;01m{functionName}\u001b[39;49;00m\u001b[38;5;124;43m'\u001b[39;49m\u001b[43m,\u001b[49m\u001b[43m \u001b[49m\u001b[38;5;124;43m'\u001b[39;49m\u001b[38;5;124;43mPUT\u001b[39;49m\u001b[38;5;124;43m'\u001b[39;49m\u001b[43m,\u001b[49m\n\u001b[0;32m   1524\u001b[0m \u001b[43m    \u001b[49m\u001b[43mpath_params\u001b[49m\u001b[43m,\u001b[49m\n\u001b[0;32m   1525\u001b[0m \u001b[43m    \u001b[49m\u001b[43mquery_params\u001b[49m\u001b[43m,\u001b[49m\n\u001b[0;32m   1526\u001b[0m \u001b[43m    \u001b[49m\u001b[43mheader_params\u001b[49m\u001b[43m,\u001b[49m\n\u001b[0;32m   1527\u001b[0m \u001b[43m    \u001b[49m\u001b[43mbody\u001b[49m\u001b[38;5;241;43m=\u001b[39;49m\u001b[43mbody_params\u001b[49m\u001b[43m,\u001b[49m\n\u001b[0;32m   1528\u001b[0m \u001b[43m    \u001b[49m\u001b[43mpost_params\u001b[49m\u001b[38;5;241;43m=\u001b[39;49m\u001b[43mform_params\u001b[49m\u001b[43m,\u001b[49m\n\u001b[0;32m   1529\u001b[0m \u001b[43m    \u001b[49m\u001b[43mfiles\u001b[49m\u001b[38;5;241;43m=\u001b[39;49m\u001b[43mlocal_var_files\u001b[49m\u001b[43m,\u001b[49m\n\u001b[0;32m   1530\u001b[0m \u001b[43m    \u001b[49m\u001b[43mresponse_type\u001b[49m\u001b[38;5;241;43m=\u001b[39;49m\u001b[38;5;124;43m'\u001b[39;49m\u001b[38;5;124;43mStatusDto\u001b[39;49m\u001b[38;5;124;43m'\u001b[39;49m\u001b[43m,\u001b[49m\u001b[43m  \u001b[49m\u001b[38;5;66;43;03m# noqa: E501\u001b[39;49;00m\n\u001b[0;32m   1531\u001b[0m \u001b[43m    \u001b[49m\u001b[43mauth_settings\u001b[49m\u001b[38;5;241;43m=\u001b[39;49m\u001b[43mauth_settings\u001b[49m\u001b[43m,\u001b[49m\n\u001b[0;32m   1532\u001b[0m \u001b[43m    \u001b[49m\u001b[43masync_req\u001b[49m\u001b[38;5;241;43m=\u001b[39;49m\u001b[43mparams\u001b[49m\u001b[38;5;241;43m.\u001b[39;49m\u001b[43mget\u001b[49m\u001b[43m(\u001b[49m\u001b[38;5;124;43m'\u001b[39;49m\u001b[38;5;124;43masync_req\u001b[39;49m\u001b[38;5;124;43m'\u001b[39;49m\u001b[43m)\u001b[49m\u001b[43m,\u001b[49m\n\u001b[0;32m   1533\u001b[0m \u001b[43m    \u001b[49m\u001b[43m_return_http_data_only\u001b[49m\u001b[38;5;241;43m=\u001b[39;49m\u001b[43mparams\u001b[49m\u001b[38;5;241;43m.\u001b[39;49m\u001b[43mget\u001b[49m\u001b[43m(\u001b[49m\u001b[38;5;124;43m'\u001b[39;49m\u001b[38;5;124;43m_return_http_data_only\u001b[39;49m\u001b[38;5;124;43m'\u001b[39;49m\u001b[43m)\u001b[49m\u001b[43m,\u001b[49m\n\u001b[0;32m   1534\u001b[0m \u001b[43m    \u001b[49m\u001b[43m_preload_content\u001b[49m\u001b[38;5;241;43m=\u001b[39;49m\u001b[43mparams\u001b[49m\u001b[38;5;241;43m.\u001b[39;49m\u001b[43mget\u001b[49m\u001b[43m(\u001b[49m\u001b[38;5;124;43m'\u001b[39;49m\u001b[38;5;124;43m_preload_content\u001b[39;49m\u001b[38;5;124;43m'\u001b[39;49m\u001b[43m,\u001b[49m\u001b[43m \u001b[49m\u001b[38;5;28;43;01mTrue\u001b[39;49;00m\u001b[43m)\u001b[49m\u001b[43m,\u001b[49m\n\u001b[0;32m   1535\u001b[0m \u001b[43m    \u001b[49m\u001b[43m_request_timeout\u001b[49m\u001b[38;5;241;43m=\u001b[39;49m\u001b[43mparams\u001b[49m\u001b[38;5;241;43m.\u001b[39;49m\u001b[43mget\u001b[49m\u001b[43m(\u001b[49m\u001b[38;5;124;43m'\u001b[39;49m\u001b[38;5;124;43m_request_timeout\u001b[39;49m\u001b[38;5;124;43m'\u001b[39;49m\u001b[43m)\u001b[49m\u001b[43m,\u001b[49m\n\u001b[0;32m   1536\u001b[0m \u001b[43m    \u001b[49m\u001b[43mcollection_formats\u001b[49m\u001b[38;5;241;43m=\u001b[39;49m\u001b[43mcollection_formats\u001b[49m\u001b[43m)\u001b[49m\n",
      "File \u001b[1;32m~\\PycharmProjects\\QuickStart\\venv\\lib\\site-packages\\hyperspace\\hyperspace_client.py:60\u001b[0m, in \u001b[0;36mHyperspaceClientApi.__init__.<locals>.retry_jwt\u001b[1;34m(*args, **kwargs)\u001b[0m\n\u001b[0;32m     58\u001b[0m \u001b[38;5;28;01mdef\u001b[39;00m \u001b[38;5;21mretry_jwt\u001b[39m(\u001b[38;5;241m*\u001b[39margs, \u001b[38;5;241m*\u001b[39m\u001b[38;5;241m*\u001b[39mkwargs):\n\u001b[0;32m     59\u001b[0m     \u001b[38;5;28;01mtry\u001b[39;00m:\n\u001b[1;32m---> 60\u001b[0m         \u001b[38;5;28;01mreturn\u001b[39;00m old_func_call_api(\u001b[38;5;241m*\u001b[39margs, \u001b[38;5;241m*\u001b[39m\u001b[38;5;241m*\u001b[39mkwargs)\n\u001b[0;32m     61\u001b[0m     \u001b[38;5;28;01mexcept\u001b[39;00m ApiException \u001b[38;5;28;01mas\u001b[39;00m e:\n\u001b[0;32m     62\u001b[0m         \u001b[38;5;28;01mif\u001b[39;00m \u001b[38;5;124m\"\u001b[39m\u001b[38;5;124mtoken expired\u001b[39m\u001b[38;5;124m\"\u001b[39m \u001b[38;5;129;01min\u001b[39;00m \u001b[38;5;28mstr\u001b[39m(e\u001b[38;5;241m.\u001b[39mbody):\n",
      "File \u001b[1;32m~\\PycharmProjects\\QuickStart\\venv\\lib\\site-packages\\hyperspace\\api_client.py:316\u001b[0m, in \u001b[0;36mApiClient.call_api\u001b[1;34m(self, resource_path, method, path_params, query_params, header_params, body, post_params, files, response_type, auth_settings, async_req, _return_http_data_only, collection_formats, _preload_content, _request_timeout)\u001b[0m\n\u001b[0;32m    279\u001b[0m \u001b[38;5;250m\u001b[39m\u001b[38;5;124;03m\"\"\"Makes the HTTP request (synchronous) and returns deserialized data.\u001b[39;00m\n\u001b[0;32m    280\u001b[0m \n\u001b[0;32m    281\u001b[0m \u001b[38;5;124;03mTo make an async request, set the async_req parameter.\u001b[39;00m\n\u001b[1;32m   (...)\u001b[0m\n\u001b[0;32m    313\u001b[0m \u001b[38;5;124;03m    then the method will return the response directly.\u001b[39;00m\n\u001b[0;32m    314\u001b[0m \u001b[38;5;124;03m\"\"\"\u001b[39;00m\n\u001b[0;32m    315\u001b[0m \u001b[38;5;28;01mif\u001b[39;00m \u001b[38;5;129;01mnot\u001b[39;00m async_req:\n\u001b[1;32m--> 316\u001b[0m     \u001b[38;5;28;01mreturn\u001b[39;00m \u001b[38;5;28;43mself\u001b[39;49m\u001b[38;5;241;43m.\u001b[39;49m\u001b[43m__call_api\u001b[49m\u001b[43m(\u001b[49m\u001b[43mresource_path\u001b[49m\u001b[43m,\u001b[49m\u001b[43m \u001b[49m\u001b[43mmethod\u001b[49m\u001b[43m,\u001b[49m\n\u001b[0;32m    317\u001b[0m \u001b[43m                           \u001b[49m\u001b[43mpath_params\u001b[49m\u001b[43m,\u001b[49m\u001b[43m \u001b[49m\u001b[43mquery_params\u001b[49m\u001b[43m,\u001b[49m\u001b[43m \u001b[49m\u001b[43mheader_params\u001b[49m\u001b[43m,\u001b[49m\n\u001b[0;32m    318\u001b[0m \u001b[43m                           \u001b[49m\u001b[43mbody\u001b[49m\u001b[43m,\u001b[49m\u001b[43m \u001b[49m\u001b[43mpost_params\u001b[49m\u001b[43m,\u001b[49m\u001b[43m \u001b[49m\u001b[43mfiles\u001b[49m\u001b[43m,\u001b[49m\n\u001b[0;32m    319\u001b[0m \u001b[43m                           \u001b[49m\u001b[43mresponse_type\u001b[49m\u001b[43m,\u001b[49m\u001b[43m \u001b[49m\u001b[43mauth_settings\u001b[49m\u001b[43m,\u001b[49m\n\u001b[0;32m    320\u001b[0m \u001b[43m                           \u001b[49m\u001b[43m_return_http_data_only\u001b[49m\u001b[43m,\u001b[49m\u001b[43m \u001b[49m\u001b[43mcollection_formats\u001b[49m\u001b[43m,\u001b[49m\n\u001b[0;32m    321\u001b[0m \u001b[43m                           \u001b[49m\u001b[43m_preload_content\u001b[49m\u001b[43m,\u001b[49m\u001b[43m \u001b[49m\u001b[43m_request_timeout\u001b[49m\u001b[43m)\u001b[49m\n\u001b[0;32m    322\u001b[0m \u001b[38;5;28;01melse\u001b[39;00m:\n\u001b[0;32m    323\u001b[0m     thread \u001b[38;5;241m=\u001b[39m \u001b[38;5;28mself\u001b[39m\u001b[38;5;241m.\u001b[39mpool\u001b[38;5;241m.\u001b[39mapply_async(\u001b[38;5;28mself\u001b[39m\u001b[38;5;241m.\u001b[39m__call_api, (resource_path,\n\u001b[0;32m    324\u001b[0m                                    method, path_params, query_params,\n\u001b[0;32m    325\u001b[0m                                    header_params, body,\n\u001b[1;32m   (...)\u001b[0m\n\u001b[0;32m    329\u001b[0m                                    collection_formats,\n\u001b[0;32m    330\u001b[0m                                    _preload_content, _request_timeout))\n",
      "File \u001b[1;32m~\\PycharmProjects\\QuickStart\\venv\\lib\\site-packages\\hyperspace\\api_client.py:148\u001b[0m, in \u001b[0;36mApiClient.__call_api\u001b[1;34m(self, resource_path, method, path_params, query_params, header_params, body, post_params, files, response_type, auth_settings, _return_http_data_only, collection_formats, _preload_content, _request_timeout)\u001b[0m\n\u001b[0;32m    145\u001b[0m url \u001b[38;5;241m=\u001b[39m \u001b[38;5;28mself\u001b[39m\u001b[38;5;241m.\u001b[39mconfiguration\u001b[38;5;241m.\u001b[39mhost \u001b[38;5;241m+\u001b[39m resource_path\n\u001b[0;32m    147\u001b[0m \u001b[38;5;66;03m# perform request and return response\u001b[39;00m\n\u001b[1;32m--> 148\u001b[0m response_data \u001b[38;5;241m=\u001b[39m \u001b[38;5;28;43mself\u001b[39;49m\u001b[38;5;241;43m.\u001b[39;49m\u001b[43mrequest\u001b[49m\u001b[43m(\u001b[49m\n\u001b[0;32m    149\u001b[0m \u001b[43m    \u001b[49m\u001b[43mmethod\u001b[49m\u001b[43m,\u001b[49m\u001b[43m \u001b[49m\u001b[43murl\u001b[49m\u001b[43m,\u001b[49m\u001b[43m \u001b[49m\u001b[43mquery_params\u001b[49m\u001b[38;5;241;43m=\u001b[39;49m\u001b[43mquery_params\u001b[49m\u001b[43m,\u001b[49m\u001b[43m \u001b[49m\u001b[43mheaders\u001b[49m\u001b[38;5;241;43m=\u001b[39;49m\u001b[43mheader_params\u001b[49m\u001b[43m,\u001b[49m\n\u001b[0;32m    150\u001b[0m \u001b[43m    \u001b[49m\u001b[43mpost_params\u001b[49m\u001b[38;5;241;43m=\u001b[39;49m\u001b[43mpost_params\u001b[49m\u001b[43m,\u001b[49m\u001b[43m \u001b[49m\u001b[43mbody\u001b[49m\u001b[38;5;241;43m=\u001b[39;49m\u001b[43mbody\u001b[49m\u001b[43m,\u001b[49m\n\u001b[0;32m    151\u001b[0m \u001b[43m    \u001b[49m\u001b[43m_preload_content\u001b[49m\u001b[38;5;241;43m=\u001b[39;49m\u001b[43m_preload_content\u001b[49m\u001b[43m,\u001b[49m\n\u001b[0;32m    152\u001b[0m \u001b[43m    \u001b[49m\u001b[43m_request_timeout\u001b[49m\u001b[38;5;241;43m=\u001b[39;49m\u001b[43m_request_timeout\u001b[49m\u001b[43m)\u001b[49m\n\u001b[0;32m    154\u001b[0m \u001b[38;5;28mself\u001b[39m\u001b[38;5;241m.\u001b[39mlast_response \u001b[38;5;241m=\u001b[39m response_data\n\u001b[0;32m    156\u001b[0m return_data \u001b[38;5;241m=\u001b[39m response_data\n",
      "File \u001b[1;32m~\\PycharmProjects\\QuickStart\\venv\\lib\\site-packages\\hyperspace\\api_client.py:366\u001b[0m, in \u001b[0;36mApiClient.request\u001b[1;34m(self, method, url, query_params, headers, post_params, body, _preload_content, _request_timeout)\u001b[0m\n\u001b[0;32m    358\u001b[0m     \u001b[38;5;28;01mreturn\u001b[39;00m \u001b[38;5;28mself\u001b[39m\u001b[38;5;241m.\u001b[39mrest_client\u001b[38;5;241m.\u001b[39mPOST(url,\n\u001b[0;32m    359\u001b[0m                                  query_params\u001b[38;5;241m=\u001b[39mquery_params,\n\u001b[0;32m    360\u001b[0m                                  headers\u001b[38;5;241m=\u001b[39mheaders,\n\u001b[1;32m   (...)\u001b[0m\n\u001b[0;32m    363\u001b[0m                                  _request_timeout\u001b[38;5;241m=\u001b[39m_request_timeout,\n\u001b[0;32m    364\u001b[0m                                  body\u001b[38;5;241m=\u001b[39mbody)\n\u001b[0;32m    365\u001b[0m \u001b[38;5;28;01melif\u001b[39;00m method \u001b[38;5;241m==\u001b[39m \u001b[38;5;124m\"\u001b[39m\u001b[38;5;124mPUT\u001b[39m\u001b[38;5;124m\"\u001b[39m:\n\u001b[1;32m--> 366\u001b[0m     \u001b[38;5;28;01mreturn\u001b[39;00m \u001b[38;5;28;43mself\u001b[39;49m\u001b[38;5;241;43m.\u001b[39;49m\u001b[43mrest_client\u001b[49m\u001b[38;5;241;43m.\u001b[39;49m\u001b[43mPUT\u001b[49m\u001b[43m(\u001b[49m\u001b[43murl\u001b[49m\u001b[43m,\u001b[49m\n\u001b[0;32m    367\u001b[0m \u001b[43m                                \u001b[49m\u001b[43mquery_params\u001b[49m\u001b[38;5;241;43m=\u001b[39;49m\u001b[43mquery_params\u001b[49m\u001b[43m,\u001b[49m\n\u001b[0;32m    368\u001b[0m \u001b[43m                                \u001b[49m\u001b[43mheaders\u001b[49m\u001b[38;5;241;43m=\u001b[39;49m\u001b[43mheaders\u001b[49m\u001b[43m,\u001b[49m\n\u001b[0;32m    369\u001b[0m \u001b[43m                                \u001b[49m\u001b[43mpost_params\u001b[49m\u001b[38;5;241;43m=\u001b[39;49m\u001b[43mpost_params\u001b[49m\u001b[43m,\u001b[49m\n\u001b[0;32m    370\u001b[0m \u001b[43m                                \u001b[49m\u001b[43m_preload_content\u001b[49m\u001b[38;5;241;43m=\u001b[39;49m\u001b[43m_preload_content\u001b[49m\u001b[43m,\u001b[49m\n\u001b[0;32m    371\u001b[0m \u001b[43m                                \u001b[49m\u001b[43m_request_timeout\u001b[49m\u001b[38;5;241;43m=\u001b[39;49m\u001b[43m_request_timeout\u001b[49m\u001b[43m,\u001b[49m\n\u001b[0;32m    372\u001b[0m \u001b[43m                                \u001b[49m\u001b[43mbody\u001b[49m\u001b[38;5;241;43m=\u001b[39;49m\u001b[43mbody\u001b[49m\u001b[43m)\u001b[49m\n\u001b[0;32m    373\u001b[0m \u001b[38;5;28;01melif\u001b[39;00m method \u001b[38;5;241m==\u001b[39m \u001b[38;5;124m\"\u001b[39m\u001b[38;5;124mPATCH\u001b[39m\u001b[38;5;124m\"\u001b[39m:\n\u001b[0;32m    374\u001b[0m     \u001b[38;5;28;01mreturn\u001b[39;00m \u001b[38;5;28mself\u001b[39m\u001b[38;5;241m.\u001b[39mrest_client\u001b[38;5;241m.\u001b[39mPATCH(url,\n\u001b[0;32m    375\u001b[0m                                   query_params\u001b[38;5;241m=\u001b[39mquery_params,\n\u001b[0;32m    376\u001b[0m                                   headers\u001b[38;5;241m=\u001b[39mheaders,\n\u001b[1;32m   (...)\u001b[0m\n\u001b[0;32m    379\u001b[0m                                   _request_timeout\u001b[38;5;241m=\u001b[39m_request_timeout,\n\u001b[0;32m    380\u001b[0m                                   body\u001b[38;5;241m=\u001b[39mbody)\n",
      "File \u001b[1;32m~\\PycharmProjects\\QuickStart\\venv\\lib\\site-packages\\hyperspace\\rest.py:273\u001b[0m, in \u001b[0;36mRESTClientObject.PUT\u001b[1;34m(self, url, headers, query_params, post_params, body, _preload_content, _request_timeout)\u001b[0m\n\u001b[0;32m    271\u001b[0m \u001b[38;5;28;01mdef\u001b[39;00m \u001b[38;5;21mPUT\u001b[39m(\u001b[38;5;28mself\u001b[39m, url, headers\u001b[38;5;241m=\u001b[39m\u001b[38;5;28;01mNone\u001b[39;00m, query_params\u001b[38;5;241m=\u001b[39m\u001b[38;5;28;01mNone\u001b[39;00m, post_params\u001b[38;5;241m=\u001b[39m\u001b[38;5;28;01mNone\u001b[39;00m,\n\u001b[0;32m    272\u001b[0m         body\u001b[38;5;241m=\u001b[39m\u001b[38;5;28;01mNone\u001b[39;00m, _preload_content\u001b[38;5;241m=\u001b[39m\u001b[38;5;28;01mTrue\u001b[39;00m, _request_timeout\u001b[38;5;241m=\u001b[39m\u001b[38;5;28;01mNone\u001b[39;00m):\n\u001b[1;32m--> 273\u001b[0m     \u001b[38;5;28;01mreturn\u001b[39;00m \u001b[38;5;28;43mself\u001b[39;49m\u001b[38;5;241;43m.\u001b[39;49m\u001b[43mrequest\u001b[49m\u001b[43m(\u001b[49m\u001b[38;5;124;43m\"\u001b[39;49m\u001b[38;5;124;43mPUT\u001b[39;49m\u001b[38;5;124;43m\"\u001b[39;49m\u001b[43m,\u001b[49m\u001b[43m \u001b[49m\u001b[43murl\u001b[49m\u001b[43m,\u001b[49m\n\u001b[0;32m    274\u001b[0m \u001b[43m                        \u001b[49m\u001b[43mheaders\u001b[49m\u001b[38;5;241;43m=\u001b[39;49m\u001b[43mheaders\u001b[49m\u001b[43m,\u001b[49m\n\u001b[0;32m    275\u001b[0m \u001b[43m                        \u001b[49m\u001b[43mquery_params\u001b[49m\u001b[38;5;241;43m=\u001b[39;49m\u001b[43mquery_params\u001b[49m\u001b[43m,\u001b[49m\n\u001b[0;32m    276\u001b[0m \u001b[43m                        \u001b[49m\u001b[43mpost_params\u001b[49m\u001b[38;5;241;43m=\u001b[39;49m\u001b[43mpost_params\u001b[49m\u001b[43m,\u001b[49m\n\u001b[0;32m    277\u001b[0m \u001b[43m                        \u001b[49m\u001b[43m_preload_content\u001b[49m\u001b[38;5;241;43m=\u001b[39;49m\u001b[43m_preload_content\u001b[49m\u001b[43m,\u001b[49m\n\u001b[0;32m    278\u001b[0m \u001b[43m                        \u001b[49m\u001b[43m_request_timeout\u001b[49m\u001b[38;5;241;43m=\u001b[39;49m\u001b[43m_request_timeout\u001b[49m\u001b[43m,\u001b[49m\n\u001b[0;32m    279\u001b[0m \u001b[43m                        \u001b[49m\u001b[43mbody\u001b[49m\u001b[38;5;241;43m=\u001b[39;49m\u001b[43mbody\u001b[49m\u001b[43m)\u001b[49m\n",
      "File \u001b[1;32m~\\PycharmProjects\\QuickStart\\venv\\lib\\site-packages\\hyperspace\\rest.py:222\u001b[0m, in \u001b[0;36mRESTClientObject.request\u001b[1;34m(self, method, url, query_params, headers, body, post_params, _preload_content, _request_timeout)\u001b[0m\n\u001b[0;32m    219\u001b[0m     logger\u001b[38;5;241m.\u001b[39mdebug(\u001b[38;5;124m\"\u001b[39m\u001b[38;5;124mresponse body: \u001b[39m\u001b[38;5;132;01m%s\u001b[39;00m\u001b[38;5;124m\"\u001b[39m, r\u001b[38;5;241m.\u001b[39mdata)\n\u001b[0;32m    221\u001b[0m \u001b[38;5;28;01mif\u001b[39;00m \u001b[38;5;129;01mnot\u001b[39;00m \u001b[38;5;241m200\u001b[39m \u001b[38;5;241m<\u001b[39m\u001b[38;5;241m=\u001b[39m r\u001b[38;5;241m.\u001b[39mstatus \u001b[38;5;241m<\u001b[39m\u001b[38;5;241m=\u001b[39m \u001b[38;5;241m299\u001b[39m:\n\u001b[1;32m--> 222\u001b[0m     \u001b[38;5;28;01mraise\u001b[39;00m ApiException(http_resp\u001b[38;5;241m=\u001b[39mr)\n\u001b[0;32m    224\u001b[0m \u001b[38;5;28;01mreturn\u001b[39;00m r\n",
      "\u001b[1;31mApiException\u001b[0m: (400)\nReason: Bad Request\nHTTP response headers: HTTPHeaderDict({'Date': 'Tue, 03 Oct 2023 15:33:48 GMT', 'Content-Type': 'application/json', 'Content-Length': '130', 'Connection': 'keep-alive', 'Access-Control-Allow-Methods': 'GET, POST, OPTIONS', 'Access-Control-Allow-Headers': 'DNT, User-Agent, X-Requested-With, If-Modified-Since, Cache-Control, Content-Type, Range, Authorization', 'Access-Control-Max-Age': '1728000', 'Access-Control-Allow-Origin': '*'})\nHTTP response body: b'{\"status\":\"Error\",\"code\":400,\"message\":\"Line 5: Operations of constant strings in the ranking logic are currently not supported.\"}'\n"
     ]
    }
   ],
   "source": [
    "#classic score func\n",
    "sf_file = 'complex_score_1.py'\n",
    "hyperspace_client.set_function(sf_file, collection_name=collection_name, function_name='cat_ratio_score')"
   ]
  },
  {
   "cell_type": "code",
   "execution_count": 84,
   "id": "b07eaf8c-2b68-4d9a-8d15-d5e1c24b2aa7",
   "metadata": {},
   "outputs": [
    {
     "data": {
      "text/plain": [
       "\"Fish Island - Fishing Paradise\\n['Game', 'Petualangan', 'Kasual']\""
      ]
     },
     "execution_count": 84,
     "metadata": {},
     "output_type": "execute_result"
    }
   ],
   "source": [
    "input_document = hyperspace_client.get_document(collection_name, 71960)\n",
    "input_document['title'] + \"\\n\" + str(input_document['categories'])"
   ]
  },
  {
   "cell_type": "code",
   "execution_count": 92,
   "id": "5fff6916-3310-4653-98e9-6ec9dc68c1d1",
   "metadata": {},
   "outputs": [],
   "source": [
    "query_with_knn = {\n",
    "    'params': input_document,\n",
    "    'knn' : {\n",
    "        'embedded_app' : {\"boost\":1},\n",
    "        'query' : {'boost':1}\n",
    "    }\n",
    "}\n",
    "\n",
    "results = hyperspace_client.search(query_with_knn,\n",
    "                                        size=10,\n",
    "                                   function_name=\"ios_score\",\n",
    "                                        collection_name=collection_name)\n",
    "print_res(results,[\"ios\",\"title\",\"bundle_id\",\"categories\"])"
   ]
  },
  {
   "cell_type": "code",
   "execution_count": 93,
   "id": "02155162-025b-4bff-b7d0-5d97ca8f9297",
   "metadata": {},
   "outputs": [
    {
     "data": {
      "text/plain": [
       "{'candidates': 1, 'similarity': [], 'took_ms': 3.02952}"
      ]
     },
     "execution_count": 93,
     "metadata": {},
     "output_type": "execute_result"
    }
   ],
   "source": [
    "results"
   ]
  }
 ],
 "metadata": {
  "kernelspec": {
   "display_name": "hyperspace_venv",
   "language": "python",
   "name": "hyperspace_venv"
  },
  "language_info": {
   "codemirror_mode": {
    "name": "ipython",
    "version": 3
   },
   "file_extension": ".py",
   "mimetype": "text/x-python",
   "name": "python",
   "nbconvert_exporter": "python",
   "pygments_lexer": "ipython3",
   "version": "3.10.11"
  }
 },
 "nbformat": 4,
 "nbformat_minor": 5
}
