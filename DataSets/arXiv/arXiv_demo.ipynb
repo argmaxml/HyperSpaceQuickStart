{
  "cells": [
    {
      "cell_type": "markdown",
      "metadata": {
        "id": "CWfay6K6ncTj"
      },
      "source": [
        "![63f78014766fd30436c18a79_Hyperspace - navbar logo.png](data:image/png;base64,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)"
      ],
      "id": "CWfay6K6ncTj"
    },
    {
      "cell_type": "markdown",
      "metadata": {
        "id": "1Kone1nET7HS"
      },
      "source": [
        "#  Academic Papers Hybrid Search with Hyperspace\n",
        "This notebook demonstrates the use of Hyperspace engine for a hybrid search for academic papers matching - a combination of vector search and keyword matching.\n",
        "We will build a simple filtering function, which filters papers of the same category, gives bias to paper by same submitter an negative bias for papers without given license. We first select a paper as input for the query\n",
        "\n",
        "# The Datset\n",
        "The dataset includes a list of academic papers from arXiv, and their metadata. The dataset can be downloaded from [here](http://hyperspace-datasets.s3.amazonaws.com/arXiv_data.zip).\n",
        "We will use the combination of an embedded vector data and metadata, to create a hybrid search.\n",
        "\n",
        "\n",
        "## The Metadata Fields\n",
        "The metadata includes the following fields:\n",
        "1. **id** [float] - paper unique id\n",
        "2. **title** [string] - paper title\n",
        "3. **submitter** [string] - name of person who submitted the paper\n",
        "4. **categories** [list[string]] - list of categories which include the paper\n",
        "5. **label** [list[string]] - labels aplied to paper\n",
        "6. **license** [string] - license type\n",
        "7. **update_date_ts** [integer] - update time in unix format\n",
        "\n",
        "\n",
        "# Setting up the Hyperspace environment\n",
        "Working with Hyperspace requires the followin steps\n",
        "\n",
        "1. Install the client API\n",
        "2. Create data config file\n",
        "3. Connect to a server\n",
        "4. Create collection\n",
        "5. Ingest data\n",
        "6. Run query"
      ],
      "id": "1Kone1nET7HS"
    },
    {
      "cell_type": "markdown",
      "metadata": {
        "id": "SZwFmp6tVLZ_"
      },
      "source": [
        "## 1. Install the client API\n",
        "Hyperspace API can be installed directly from git, using the following command"
      ],
      "id": "SZwFmp6tVLZ_"
    },
    {
      "cell_type": "code",
      "execution_count": null,
      "metadata": {
        "colab": {
          "base_uri": "https://localhost:8080/"
        },
        "id": "WkkNOdYyZ7Ew",
        "outputId": "57224bdb-8460-4613-f973-05f8abc9b8e9"
      },
      "outputs": [
        {
          "output_type": "stream",
          "name": "stdout",
          "text": [
            "Collecting git+https://github.com/hyper-space-io/hyperspace-py\n",
            "  Cloning https://github.com/hyper-space-io/hyperspace-py to /tmp/pip-req-build-fi8u9fjf\n",
            "  Running command git clone --filter=blob:none --quiet https://github.com/hyper-space-io/hyperspace-py /tmp/pip-req-build-fi8u9fjf\n",
            "  Resolved https://github.com/hyper-space-io/hyperspace-py to commit 2bf116d8871d27401cc6032ababc99f72a78dc24\n",
            "  Preparing metadata (setup.py) ... \u001b[?25l\u001b[?25hdone\n",
            "Requirement already satisfied: urllib3>=1.15 in /usr/local/lib/python3.10/dist-packages (from hyperspace==1.0.0) (2.0.4)\n",
            "Requirement already satisfied: six>=1.10 in /usr/local/lib/python3.10/dist-packages (from hyperspace==1.0.0) (1.16.0)\n",
            "Requirement already satisfied: certifi in /usr/local/lib/python3.10/dist-packages (from hyperspace==1.0.0) (2023.7.22)\n",
            "Requirement already satisfied: python-dateutil in /usr/local/lib/python3.10/dist-packages (from hyperspace==1.0.0) (2.8.2)\n",
            "Building wheels for collected packages: hyperspace\n",
            "  Building wheel for hyperspace (setup.py) ... \u001b[?25l\u001b[?25hdone\n",
            "  Created wheel for hyperspace: filename=hyperspace-1.0.0-py3-none-any.whl size=36068 sha256=69cc8a8115372b9699079bc7a3b2633b0c15f36aae2e2c2191162249a9f6db9e\n",
            "  Stored in directory: /tmp/pip-ephem-wheel-cache-2kfj1yxi/wheels/c4/96/59/f4b91d653fdbfc819e48a7dacbea1c9f3de59a1bc113aa840d\n",
            "Successfully built hyperspace\n",
            "Installing collected packages: hyperspace\n",
            "Successfully installed hyperspace-1.0.0\n"
          ]
        }
      ],
      "source": [
        "pip install git+https://github.com/hyper-space-io/hyperspace-py"
      ],
      "id": "WkkNOdYyZ7Ew"
    },
    {
      "cell_type": "markdown",
      "metadata": {
        "id": "TCZSwM6DVeDm"
      },
      "source": [
        "#2. Connect to a server\n",
        "\n",
        "Once the Hyperspace API is installed, the database can be accessed by creating a local instance of the Hyperspace client. This step requires host address, username and password"
      ],
      "id": "TCZSwM6DVeDm"
    },
    {
      "cell_type": "code",
      "execution_count": null,
      "metadata": {
        "id": "17a978a2"
      },
      "outputs": [],
      "source": [
        "import hyperspace\n",
        "from getpass import getpass\n",
        "\n",
        "username = 'username provided by hyperspace'\n",
        "password = 'password provided by hyperspace'\n",
        "\n",
        "host = 'https://search-master-demo.development.hyper-space.xyz'\n",
        "\n",
        "hyperspace_client = hyperspace.HyperspaceClientApi(host=host,\n",
        "                                                   username=username, password= getpass(\"Password:\"))\n"
      ],
      "id": "17a978a2"
    },
    {
      "cell_type": "markdown",
      "metadata": {
        "id": "KiZGq3v8V4vL"
      },
      "source": [
        "We check the status before proceeding"
      ],
      "id": "KiZGq3v8V4vL"
    },
    {
      "cell_type": "code",
      "execution_count": null,
      "metadata": {
        "colab": {
          "base_uri": "https://localhost:8080/",
          "height": 126
        },
        "id": "cH_lWsLLza0n",
        "outputId": "56844882-e6f2-4fa7-bbea-d688e94d20df"
      },
      "outputs": [
        {
          "output_type": "display_data",
          "data": {
            "text/plain": [
              "[{'Collections size': {'all-MiniLM-L6-v2_arXiv_titles': 1720000},\n",
              "  'FPGA memory usage in GB': '0.6836GB',\n",
              "  'FPGA memory usage in percentage': '0.6836%',\n",
              "  'Hostname': 'hyperspace-demo-0',\n",
              "  'Number of total vectors': 1720000},\n",
              " {'Number of data nodes': 1}]"
            ]
          },
          "metadata": {}
        }
      ],
      "source": [
        "collections_info = hyperspace_client.collections_info()\n",
        "display(collections_info)"
      ],
      "id": "cH_lWsLLza0n"
    },
    {
      "cell_type": "markdown",
      "metadata": {
        "id": "HXmdh3YGVfQV"
      },
      "source": [
        "#3.   Create a Data Schema File\n",
        "\n",
        "Similarly to other search databases, Hyper-Space database requires a configuration file that outlines the data schema. Here, we create a config file that corresponds to the fields of the given dataset.\n",
        "\n",
        "For vector fields, we also provide the index type to be used, and the metric. . Current options for index include \"**brute_force**\", \"**hnsw**\", \"**ivf**\", and \"**bin_ivf**\" for binary vectors, and \"**IP**\" (inner product) as a metric for floating point vectors and \"**Hamming**\" ([hamming distance](https://en.wikipedia.org/wiki/Hamming_distance)) for binary vectors.\n",
        "Here, we use \"brute_force\" (exact KNN) with inner product."
      ],
      "id": "HXmdh3YGVfQV"
    },
    {
      "cell_type": "code",
      "execution_count": null,
      "metadata": {
        "id": "976b2177"
      },
      "outputs": [],
      "source": [
        "import json\n",
        "\n",
        "config = {\n",
        "    \"configuration\": {\n",
        "        \"id\": {\n",
        "            \"type\":\"float\"\n",
        "        },\n",
        "        \"title\": {\n",
        "            \"type\":\"keyword\"\n",
        "        },\n",
        "        \"submitter\": {\n",
        "            \"type\":\"keyword\"\n",
        "        },\n",
        "        \"categories\": {\n",
        "            \"type\":\"keyword\",\n",
        "            \"struct_type\":\"list\"\n",
        "        },\n",
        "        \"labels\": {\n",
        "            \"type\":\"keyword\",\n",
        "            \"struct_type\":\"list\"\n",
        "        },\n",
        "        \"license\": {\n",
        "            \"type\":\"keyword\"\n",
        "        },\n",
        "        \"update_date\": {\n",
        "            \"type\":\"keyword\"\n",
        "        },\n",
        "        \"update_date_ts\": {\n",
        "            \"type\":\"integer\"\n",
        "        },\n",
        "        \"embedded_abstract\": {\n",
        "            \"type\": \"dense_vector\",\n",
        "            \"dim\": 384,\n",
        "            \"index_type\": \"brute_force\",\n",
        "            \"metric\": \"IP\"\n",
        "        }\n",
        "    }\n",
        "}\n",
        "\n",
        "with open('arXiv_config.json', 'w') as f:\n",
        "    f.write(json.dumps(config, indent=2))\n",
        "\n"
      ],
      "id": "976b2177"
    },
    {
      "cell_type": "markdown",
      "metadata": {
        "id": "7RTDkUsr3ead"
      },
      "source": [
        "## 4. Create Collection\n",
        "The Hyerspace engine stroes data in Collections, where each collecction commonly hosts data of similar context, etc. Each search is then perfomed within a collection. We create a collection using the command \"**create_collection**(schema_filename, collection_name)\"."
      ],
      "id": "7RTDkUsr3ead"
    },
    {
      "cell_type": "code",
      "execution_count": null,
      "metadata": {
        "colab": {
          "background_save": true
        },
        "id": "aOj7VVTtlM_o"
      },
      "outputs": [],
      "source": [
        "collection_name = 'all-MiniLM-L6-v2_arXiv_titles'\n",
        "\n",
        "try:\n",
        "    hyperspace_client.delete_collection(collection_name)\n",
        "except:\n",
        "    pass\n",
        "hyperspace_client.create_collection('arXiv_config.json', collection_name)\n",
        "hyperspace_client.collections_info()"
      ],
      "id": "aOj7VVTtlM_o"
    },
    {
      "cell_type": "markdown",
      "metadata": {
        "id": "lUpgHD2VWFXd"
      },
      "source": [
        "# 5. Ingest data\n",
        "\n",
        "In the next step we ingest the dataset in batches of 250 documents. This number can be controlled by user, and in particular, can be increased in order improve ingestion time. We add batches of data using the command **add_batch**(batch, collection_name)."
      ],
      "id": "lUpgHD2VWFXd"
    },
    {
      "cell_type": "code",
      "execution_count": null,
      "metadata": {
        "id": "2YfCosjCPGhl"
      },
      "outputs": [],
      "source": [
        "import numpy as np\n",
        "vecs = np.load('1m-vectors.npy')\n",
        "metadata_file = open('1m-payloads.jsonl')"
      ],
      "id": "2YfCosjCPGhl"
    },
    {
      "cell_type": "code",
      "execution_count": null,
      "metadata": {
        "id": "aocQ5xgbZf-S"
      },
      "outputs": [],
      "source": [
        "BATCH_SIZE = 500\n",
        "\n",
        "batch = []\n",
        "for i, (metadata_row, vec) in enumerate(zip(metadata_file, vecs)):\n",
        "    row = {key: value for key, value in json.loads(metadata_row).items() if key in config[\"configuration\"].keys()}\n",
        "    row['categories'] = row['categories'].split()\n",
        "    row['embedded_abstract'] = np.ndarray.tolist(vec)\n",
        "\n",
        "    batch.append(hyperspace.Document(str(i), row))\n",
        "\n",
        "    if i % BATCH_SIZE == 0:\n",
        "        response = hyperspace_client.add_batch(batch, collection_name)\n",
        "        batch.clear()\n",
        "        print(i, response)\n",
        "\n",
        "hyperspace_client.commit(collection_name)"
      ],
      "id": "aocQ5xgbZf-S"
    },
    {
      "cell_type": "markdown",
      "metadata": {
        "id": "8lRgTyKwWJ84"
      },
      "source": [
        "# 6. Define Logic and Run a Query\n",
        "We will build a hybrid search query using Hyperspace. In the query,  we will randomly select a paper from the database and search for similar papers. The query object weights under the \"boost\" fields, allow to contorl the relative weights of the classic search and vector search scores. We will first select the input document, and search for similar papers in the next step."
      ],
      "id": "8lRgTyKwWJ84"
    },
    {
      "cell_type": "code",
      "execution_count": null,
      "metadata": {
        "colab": {
          "base_uri": "https://localhost:8080/"
        },
        "id": "0YdFBOCsOJka",
        "outputId": "5450ecba-0631-43b6-d6b7-ad459346df12"
      },
      "outputs": [
        {
          "output_type": "stream",
          "name": "stdout",
          "text": [
            "Lagrangian quantum field theory in momentum picture. IV. Commutation\n",
            "  relations for free fields \n",
            "======================================\n",
            " Bozhidar Zakhariev Iliev \n",
            " ['hep-th']\n"
          ]
        }
      ],
      "source": [
        "input_document = hyperspace_client.get_document(collection_name, 65)\n",
        "print(input_document['title'], \"\\n======================================\\n\", input_document['submitter'], \"\\n\", input_document['categories'])"
      ],
      "id": "0YdFBOCsOJka"
    },
    {
      "cell_type": "code",
      "source": [
        "input_document.keys()"
      ],
      "metadata": {
        "colab": {
          "base_uri": "https://localhost:8080/"
        },
        "id": "BI2jWYOb705w",
        "outputId": "0194d61c-c48f-4cf4-eb82-431e4f0117f3"
      },
      "id": "BI2jWYOb705w",
      "execution_count": null,
      "outputs": [
        {
          "output_type": "execute_result",
          "data": {
            "text/plain": [
              "dict_keys(['categories', 'embedded_abstract', 'id', 'labels', 'license', 'submitter', 'title', 'update_date', 'update_date_ts'])"
            ]
          },
          "metadata": {},
          "execution_count": 14
        }
      ]
    },
    {
      "cell_type": "code",
      "execution_count": null,
      "metadata": {
        "colab": {
          "base_uri": "https://localhost:8080/"
        },
        "id": "5ff98e9d",
        "outputId": "274e25ca-490b-4aed-e436-cd53da3aa830"
      },
      "outputs": [
        {
          "output_type": "stream",
          "name": "stdout",
          "text": [
            "1 id 65 : Lagrangian quantum field theory in momentum picture. IV. Commutation\n",
            "  relations for free fields , Bozhidar Zakhariev Iliev , ['hep-th']\n",
            "2 id 342280 : A General Field-Covariant Formulation Of Quantum Field Theory , Damiano Anselmi , ['hep-th', 'hep-ph', 'math-ph', 'math.MP']\n",
            "3 id 834408 : A Free-Field Lagrangian for a Gauge Theory of the CPT Symmetry , Kurt Koltko , ['physics.gen-ph', 'astro-ph.GA', 'hep-th']\n",
            "4 id 1120808 : Towards Divergence-free Theory of Quantum Fields , Nagabhushana Prabhu , ['physics.gen-ph', 'hep-th']\n",
            "5 id 1663058 : Momentum Gauge Fields and Non-Commutative Space-Time , Eduardo Guendelman I , ['quant-ph', 'gr-qc', 'hep-th']\n"
          ]
        }
      ],
      "source": [
        "from pprint import pprint\n",
        "response = hyperspace_client.set_function('arXiv_score_func.py', collection_name=collection_name, function_name='similarity_sf')\n",
        "\n",
        "\n",
        "query_with_knn = {\n",
        "    'params': input_document,\n",
        "     \"query\": {\"boost\": 1},\n",
        "    'embedded_abstract':{\"boost\": 10}\n",
        "}\n",
        "\n",
        "results = hyperspace_client.search(query_with_knn,\n",
        "                                        size=5,\n",
        "                                        function_name='similarity_sf',\n",
        "                                        collection_name=collection_name)\n",
        "\n",
        "for i, result in enumerate(results['similarity']):\n",
        "  vector_api_response = hyperspace_client.get_document(document_id=result['document_id'], collection_name=collection_name)\n",
        "  print(i + 1, \"id\", result['document_id'],  \":\", vector_api_response['title'], \",\", vector_api_response['submitter'], \",\", vector_api_response['categories'])\n"
      ],
      "id": "5ff98e9d"
    },
    {
      "cell_type": "markdown",
      "metadata": {
        "id": "5uRO_8UUQIzk"
      },
      "source": [
        "The returned documents have similar submitter name, as expected from the metadata filtering.\n",
        "\n",
        "This notebook gave a simple example of the use of the Hyperspace engine for hybrid search. Hyperspace can support complicated use cases with large databases, in extremley low latency."
      ],
      "id": "5uRO_8UUQIzk"
    }
  ],
  "metadata": {
    "colab": {
      "provenance": []
    },
    "kernelspec": {
      "display_name": "Python 3 (ipykernel)",
      "language": "python",
      "name": "python3"
    },
    "language_info": {
      "codemirror_mode": {
        "name": "ipython",
        "version": 3
      },
      "file_extension": ".py",
      "mimetype": "text/x-python",
      "name": "python",
      "nbconvert_exporter": "python",
      "pygments_lexer": "ipython3",
      "version": "3.9.13"
    }
  },
  "nbformat": 4,
  "nbformat_minor": 5
}
