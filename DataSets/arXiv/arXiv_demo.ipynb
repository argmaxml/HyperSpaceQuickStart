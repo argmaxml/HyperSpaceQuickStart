{
  "cells": [
    {
      "cell_type": "markdown",
      "metadata": {
        "id": "1Kone1nET7HS"
      },
      "source": [
        "# Arxiv Papers Clustering By Title\n",
        "This notebook demonstrates the use of Hyper Space engine for a hybrid search. The dataset is taken from [benchmarking sets]( https://github.com/qdrant/ann-filtering-benchmark-datasets#data) and includes a list of academic papers from arXiv, and thier metadata.\n",
        "We will use the combination of an embedded vector data and metadata, to create a hybrid search\n",
        "\n",
        "## Setting up the Hyper Space environment\n",
        "Setting the enviorment requires the following steps\n",
        "\n",
        "\n",
        "1.   Download and install the client API\n",
        "2.   Create data config file\n",
        "3. Connect to a server\n",
        "4.   Create collection\n",
        "5. Ingest data\n",
        "6. Run query"
      ],
      "id": "1Kone1nET7HS"
    },
    {
      "cell_type": "markdown",
      "metadata": {
        "id": "SZwFmp6tVLZ_"
      },
      "source": [
        "#install the hyper-space client\n",
        "We first install the Hyperspace client, provided by Hyperspace\n"
      ],
      "id": "SZwFmp6tVLZ_"
    },
    {
      "cell_type": "code",
      "execution_count": null,
      "metadata": {
        "id": "l1DTYoFb1vnF"
      },
      "outputs": [],
      "source": [
        "!pip install search_master.zip newlinejson\n",
        "# hide output"
      ],
      "id": "l1DTYoFb1vnF"
    },
    {
      "cell_type": "markdown",
      "source": [
        "import required libraries, include Hyperspace, before continuing"
      ],
      "metadata": {
        "id": "VhioG_LRekS1"
      },
      "id": "VhioG_LRekS1"
    },
    {
      "cell_type": "code",
      "execution_count": null,
      "metadata": {
        "id": "8NVXuwyozUi7"
      },
      "outputs": [],
      "source": [
        "import numpy as np\n",
        "import json\n",
        "import search_master as hyperspace"
      ],
      "id": "8NVXuwyozUi7"
    },
    {
      "cell_type": "markdown",
      "metadata": {
        "id": "TCZSwM6DVeDm"
      },
      "source": [
        "###Connect to server\n",
        "Hyper-space engine can be used by connecting to a remote machine with pre-provided credendtials."
      ],
      "id": "TCZSwM6DVeDm"
    },
    {
      "cell_type": "code",
      "execution_count": null,
      "metadata": {
        "id": "17a978a2"
      },
      "outputs": [],
      "source": [
        "conf = hyperspace.configuration.Configuration()\n",
        "conf.host = 'https://search-master-demo.development.hyper-space.xyz'\n",
        "\n",
        "hyperspace_client = hyperspace.SearchMasterApi(api_client=hyperspace.api_client.ApiClient(configuration=conf))\n",
        "login_response = hyperspace_client.login({\"username\": username, \"password\": password})\n",
        "api_client = hyperspace.api_client.ApiClient(configuration=conf,\n",
        "                                                header_name='Authorization',\n",
        "                                                header_value=\"Bearer \" + login_response.token)\n",
        "\n",
        "hyperspace_client = hyperspace.SearchMasterApi(api_client=api_client)\n"
      ],
      "id": "17a978a2"
    },
    {
      "cell_type": "code",
      "execution_count": null,
      "metadata": {
        "id": "cH_lWsLLza0n"
      },
      "outputs": [],
      "source": [
        "hyperspace_client.cluster_status()"
      ],
      "id": "cH_lWsLLza0n"
    },
    {
      "cell_type": "markdown",
      "metadata": {
        "id": "HXmdh3YGVfQV"
      },
      "source": [
        "###Configuration file\n",
        "\n",
        "Similarly to other search databases, Hyper-Space database requires a configuration file which outlines the data scheme."
      ],
      "id": "HXmdh3YGVfQV"
    },
    {
      "cell_type": "code",
      "execution_count": 6,
      "metadata": {
        "id": "976b2177"
      },
      "outputs": [],
      "source": [
        "\n",
        "config = {\n",
        "    \"configuration\": {\n",
        "        \"id\": {\n",
        "            \"type\":\"float\"\n",
        "        },\n",
        "        \"title\": {\n",
        "            \"type\":\"keyword\"\n",
        "        },\n",
        "        \"submitter\": {\n",
        "            \"type\":\"keyword\"\n",
        "        },\n",
        "        \"categories\": {\n",
        "            \"type\":\"keyword\",\n",
        "            \"struct_type\":\"list\"\n",
        "        },\n",
        "        \"labels\": {\n",
        "            \"type\":\"keyword\",\n",
        "            \"struct_type\":\"list\"\n",
        "        },\n",
        "        \"license\": {\n",
        "            \"type\":\"keyword\"\n",
        "        },\n",
        "        \"update_date\": {\n",
        "            \"type\":\"keyword\"\n",
        "        },\n",
        "        \"update_date_ts\": {\n",
        "            \"type\":\"integer\"\n",
        "        },\n",
        "        \"embedded_abstract\": {\n",
        "            \"type\": \"dense_vector\",\n",
        "            \"dim\": 384,\n",
        "            \"metric\": \"IP\"\n",
        "        }\n",
        "    }\n",
        "}\n",
        "\n",
        "with open('arXiv_config.json', 'w') as f:\n",
        "    f.write(json.dumps(config, indent=2))\n",
        "\n"
      ],
      "id": "976b2177"
    },
    {
      "cell_type": "markdown",
      "metadata": {
        "id": "jiOEgki668Z1"
      },
      "source": [
        "We start with the metadata filtering. The metadata includes the following fields:\n",
        "\n",
        "\n",
        "1.   **id [float]** - unique id per paper\n",
        "2.   **title [string]** - the paper title\n",
        "3. **submitter [string]** - the name of person who submitted the paper\n",
        "4. **categories [list[string]]** - list of categories which include the paper\n",
        "5. **label [list[string]]** - labels aplied to paper\n",
        "6. **license [string]** - license type\n",
        "7. **update_date_ts [integer]** - update time in unix format\n",
        "\n",
        "We build a simple filtering function, which filters papers of the same category, gives bias to paper by same submitter an negative bias for papers without given license. We first select a paper as input for the query\n"
      ],
      "id": "jiOEgki668Z1"
    },
    {
      "cell_type": "markdown",
      "metadata": {
        "id": "7RTDkUsr3ead"
      },
      "source": [
        "### Create Collection\n",
        "Collections are used to store data of similar context, etc. We create a hyper-space collection, using the config file."
      ],
      "id": "7RTDkUsr3ead"
    },
    {
      "cell_type": "code",
      "execution_count": null,
      "metadata": {
        "colab": {
          "base_uri": "https://localhost:8080/"
        },
        "id": "aOj7VVTtlM_o",
        "outputId": "f1dfcb73-1c07-4d69-dde9-1bf3385c1d38"
      },
      "outputs": [
        {
          "output_type": "execute_result",
          "data": {
            "text/plain": [
              "[{'Collections size': {'all-MiniLM-L6-v2%20ArXiv%20titles': 0},\n",
              "  'FPGA memory usage in GB': '0.0080GB',\n",
              "  'FPGA memory usage in percentage': '0.0080%',\n",
              "  'Hostname': 'hyperspace-demo-0',\n",
              "  'Number of total vectors': 0},\n",
              " {'Number of data nodes': 1}]"
            ]
          },
          "metadata": {},
          "execution_count": 107
        }
      ],
      "source": [
        "hyperspace_client = search_master.SearchMasterApi(api_client=api_client)\n",
        "\n",
        "collection_name = 'all-MiniLM-L6-v2 ArXiv titles'\n",
        "\n",
        "hyperspace_client.delete_collection(collection_name)\n",
        "hyperspace_client.create_collection('arXiv_config.json', collection_name)\n",
        "hyperspace_client.cluster_status()"
      ],
      "id": "aOj7VVTtlM_o"
    },
    {
      "cell_type": "markdown",
      "metadata": {
        "id": "lUpgHD2VWFXd"
      },
      "source": [
        "### Ingest data\n",
        "\n",
        "We load the datasets from and ingest it in batches"
      ],
      "id": "lUpgHD2VWFXd"
    },
    {
      "cell_type": "code",
      "execution_count": null,
      "metadata": {
        "id": "94de3343"
      },
      "outputs": [],
      "source": [
        "vecs = np.load('/content/drive/MyDrive/Data/ArXiv/vectors.npy')\n",
        "metadata_file = open('/content/drive/MyDrive/Data/ArXiv/payloads.jsonl')"
      ],
      "id": "94de3343"
    },
    {
      "cell_type": "code",
      "source": [
        "from search_master import VectorDto\n",
        "\n",
        "BATCH_SIZE = 500\n",
        "\n",
        "batch = []\n",
        "for i, (metadata_row, vec) in enumerate(zip(metadata_file, vecs)):\n",
        "    row = {key: value for key, value in json.loads(metadata_row).items() if key in config[\"configuration\"].keys()}\n",
        "    row['categories'] = row['categories'].split()\n",
        "    row['embedded_abstract'] = np.ndarray.tolist(vec)\n",
        "\n",
        "    batch.append(VectorDto(str(i), row))\n",
        "\n",
        "    if i % BATCH_SIZE == 0:\n",
        "        response = hyperspace_client.add_batch(batch, collection_name)\n",
        "        batch.clear()\n",
        "        print(i, response)\n",
        "\n",
        "hyperspace_client.commit(collection_name)"
      ],
      "metadata": {
        "id": "aocQ5xgbZf-S"
      },
      "id": "aocQ5xgbZf-S",
      "execution_count": null,
      "outputs": []
    },
    {
      "cell_type": "markdown",
      "metadata": {
        "id": "8lRgTyKwWJ84"
      },
      "source": [
        "#Define Logic and Run a Query\n",
        "We will build a hybrid search query using Hyper-space. In the query,  we will select a paper and find smilar papers."
      ],
      "id": "8lRgTyKwWJ84"
    },
    {
      "cell_type": "markdown",
      "metadata": {
        "id": "jiOEgki668Z1"
      },
      "source": [
        "Let's start with the metadata filtering. \n"
        "We build a simple filtering function, which filters papers of the same category, gives bias to paper by same submitter an negative bias for papers without given license. We first select a paper as input for the query\n"
      ],
      "id": "jiOEgki668Z1"
    },
    {
      "cell_type": "code",
      "execution_count": null,
      "metadata": {
        "colab": {
          "base_uri": "https://localhost:8080/"
        },
        "id": "0YdFBOCsOJka",
        "outputId": "a86dffb3-c5e8-4b49-dc6f-85b5f04db766"
      },
      "outputs": [
        {
          "output_type": "stream",
          "name": "stdout",
          "text": [
            "Hall field induced magnetoresistance oscillations of a two-dimensional\n",
            "  electron system \n",
            "======================================\n",
            " Alejandro Kunold \n",
            " ['cond-mat.mes-hall']\n"
          ]
        }
      ],
      "source": [
        "input_vector = hyperspace_client.find_vector_by_id(collection_name, 65)\n",
        "print(input_vector['title'], \"\\n======================================\\n\", input_vector['submitter'], \"\\n\", input_vector['categories'])"
      ],
      "id": "0YdFBOCsOJka"
    },
    {
      "cell_type": "markdown",
      "metadata": {
        "id": "U8l3bNPKbMfg"
      },
      "source": [
        "We run a query which combines similarity and vector search. The vector search fields must be properly defined in the query, with corresponding weight"
      ],
      "id": "U8l3bNPKbMfg"
    },
    {
      "cell_type": "code",
      "execution_count": null,
      "metadata": {
        "colab": {
          "base_uri": "https://localhost:8080/"
        },
        "id": "5ff98e9d",
        "outputId": "ed12d4ba-068c-4a36-fb5f-db10276dbb2a"
      },
      "outputs": [
        {
          "output_type": "stream",
          "name": "stdout",
          "text": [
            "1 . vector id 65 : Hall field induced magnetoresistance oscillations of a two-dimensional\n",
            "  electron system , Alejandro Kunold , ['cond-mat.mes-hall']\n",
            "\n",
            "\n",
            "2 . vector id 366812 : Quantum and classical dissipation of charged particles , Alejandro Kunold , ['quant-ph', 'cond-mat.mes-hall']\n",
            "\n",
            "\n",
            "3 . vector id 117319 : Non linear transport theory for negative-differential resistance states\n",
            "  of two dimensional electron systems in strong magnetic fields , Alejandro Kunold , ['cond-mat.mes-hall']\n",
            "\n",
            "\n",
            "4 . vector id 242529 : Symmetry breaking as the origin of zero-differential resistance states\n",
            "  of a 2DEG in strong magnetic fields , Alejandro Kunold , ['cond-mat.mes-hall', 'cond-mat.other']\n",
            "\n",
            "\n",
            "5 . vector id 178121 : Impact of heavy hole-light hole coupling on optical selection rules in\n",
            "  GaAs quantum dots , Alejandro Kunold , ['cond-mat.mes-hall']\n",
            "\n",
            "\n"
          ]
        }
      ],
      "source": [
        "from pprint import pprint\n",
        "response = hyperspace_client.set_function('/content/drive/MyDrive/Data/ArXiv/score_func.py', collection_name=collection_name, function_name='similarity_sf')\n",
        "\n",
        "query_with_knn = {\n",
        "    'vector_Content': input_vector,\n",
        "    'boost': {\n",
        "        'query': 0.4,\n",
        "        'embedded_abstract': 0.2\n",
        "    }\n",
        "}\n",
        "\n",
        "results = hyperspace_client.search_data(query_with_knn,\n",
        "                                        size=5,\n",
        "                                        function_name='similarity_sf',\n",
        "                                        collection_name=collection_name)\n",
        "\n",
        "for i, result in enumerate(results['similarity']):\n",
        "  vector_api_response = hyperspace_client.find_vector_by_id(vector_id=result['vector_id'], collection_name=collection_name)\n",
        "  print(i + 1, \". vector id\", result['vector_id'],  \":\", vector_api_response['title'], \",\", vector_api_response['submitter'], \",\", vector_api_response['categories'])\n",
        "  print(\"\\n\")\n"
      ],
      "id": "5ff98e9d"
    }
  ],
  "metadata": {
    "colab": {
      "provenance": []
    },
    "kernelspec": {
      "display_name": "Python 3 (ipykernel)",
      "language": "python",
      "name": "python3"
    },
    "language_info": {
      "codemirror_mode": {
        "name": "ipython",
        "version": 3
      },
      "file_extension": ".py",
      "mimetype": "text/x-python",
      "name": "python",
      "nbconvert_exporter": "python",
      "pygments_lexer": "ipython3",
      "version": "3.9.13"
    }
  },
  "nbformat": 4,
  "nbformat_minor": 5
}
