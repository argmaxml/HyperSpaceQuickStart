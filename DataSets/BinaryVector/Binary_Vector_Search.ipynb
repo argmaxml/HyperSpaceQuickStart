{
  "cells": [
    {
      "cell_type": "markdown",
      "source": [
        "#  Binary Vector and Metadata Search with Hyperspace\n",
        "This notebook demonstrates the use of Hyperspace engine for a hybrid search, which combines vector search of binaryy vectors and metadata filtering over their corresponding metadata.\n",
        "\n",
        "# The Dataset\n",
        "The dataset includes randomly generated binary vectors of dimension 800 and corresponding metadata, that describes stores.\n",
        "\n",
        "## The Dataset Fields\n",
        "The metadata includes the following fields:\n",
        "1. **country** [string] - The Country in which the store is located\n",
        "2. **city** [string] - The city in which the store is located\n",
        "3. **street** [keyword] - The street in which the store is located\n",
        "4. **zip_code** [integer] - The store zipcode\n",
        "5. **open_now** [boolean] - Is the store open\n",
        "6. **vertical** [keyword] - The store vertical (industry)\n",
        "\n",
        "# Setting up the Hyper Space environment\n",
        "Setting the environment and running the query includes the following steps\n",
        "\n",
        "1. Download and install the client API\n",
        "2. Connect to a server\n",
        "3. Create data schema file\n",
        "4. Create collection\n",
        "5. Ingest data\n",
        "6. Define Logic and Run a Query\n"
      ],
      "metadata": {
        "id": "DQf1g53MLo9r"
      },
      "id": "DQf1g53MLo9r"
    },
    {
      "cell_type": "markdown",
      "source": [
        "# 1. Install the client API\n",
        "Hyperspace API can be installed directly from git, using the following command"
      ],
      "metadata": {
        "id": "qol984iQq_O4"
      },
      "id": "qol984iQq_O4"
    },
    {
      "cell_type": "code",
      "source": [
        "pip install git+https://github.com/hyper-space-io/hyperspace-py"
      ],
      "metadata": {
        "id": "U6p1YrVOL19j"
      },
      "id": "U6p1YrVOL19j",
      "execution_count": null,
      "outputs": []
    },
    {
      "cell_type": "markdown",
      "source": [
        "# 2. Connect to a server\n",
        "\n",
        "Once the Hyperspace API is installed, the database can be accessed by creating a local instance of the Hyperspace client. This step requires host address, username and password"
      ],
      "metadata": {
        "id": "EtEeKuxJ7E2Q"
      },
      "id": "EtEeKuxJ7E2Q"
    },
    {
      "cell_type": "code",
      "execution_count": null,
      "id": "4161f9f8",
      "metadata": {
        "id": "4161f9f8"
      },
      "outputs": [],
      "source": [
        "import hyperspace\n",
        "\n",
        "hyperspace_client = hyperspace.HyperspaceClientApi(host='https://search-master-demo.development.hyper-space.xyz',\n",
        "                                                   username=username, password=password)"
      ]
    },
    {
      "cell_type": "markdown",
      "source": [
        "#3.   Create a Data Schema File\n",
        "\n",
        "Similarly to other search databases, Hyper-Space database requires a configuration file that outlines the data schema. Here, we create a config file that corresponds to the fields of the given dataset.\n",
        "\n",
        "For vector fields, we also provide the index type to be used, and the metric. . Current options for index include \"**brute_force**\", \"**hnsw**\", \"**ivf**\", and \"**bin_ivf**\" for binary vectors, and \"**IP**\" (inner product) as a metric for floating point vectors and \"**Hamming**\" ([hamming distance](https://en.wikipedia.org/wiki/Hamming_distance)) for binary vectors.\n",
        "Note that the key 'low_cardinality' enables faster search for low cardinality fields."
      ],
      "metadata": {
        "id": "6BG-FyOlujHE"
      },
      "id": "6BG-FyOlujHE"
    },
    {
      "cell_type": "code",
      "execution_count": null,
      "id": "976b2177",
      "metadata": {
        "id": "976b2177"
      },
      "outputs": [],
      "source": [
        "import json\n",
        "vector_dimension = 800 # bits\n",
        "config = {\n",
        "    \"configuration\": {\n",
        "        'city': {\"type\": 'keyword'},\n",
        "        'country': {\"type\": 'keyword'},\n",
        "        'open_now': {\"type\": 'boolean'},\n",
        "        'zip_code': {\"type\": 'integer'},\n",
        "        'street': {\"type\": 'keyword'},\n",
        "        'vertical': {\"type\": 'keyword', 'low_cardinality': True},\n",
        "        \"vector\": {\n",
        "            \"type\": \"dense_vector\",\n",
        "            \"index_type\": \"bin_ivf\",\n",
        "            \"dim\": vector_dimension,\n",
        "            \"metric\": \"hamming\"\n",
        "        }\n",
        "    }\n",
        "}\n",
        "\n",
        "with open('config.json', 'w') as f:\n",
        "    f.write(json.dumps(config, indent=2))\n"
      ]
    },
    {
      "cell_type": "markdown",
      "source": [
        "## 4. Create Collection\n",
        "The Hyerspace engine stroes data in Collections, where each collecction commonly hosts data of similar context, etc. Each search is then perfomed within a collection. We create a collection using the command \"**create_collection**(schema_filename, collection_name)\"."
      ],
      "metadata": {
        "id": "g1DHlx75uklY"
      },
      "id": "g1DHlx75uklY"
    },
    {
      "cell_type": "code",
      "execution_count": null,
      "id": "2a787dba",
      "metadata": {
        "id": "2a787dba"
      },
      "outputs": [],
      "source": [
        "collection_name = 'GeneratedData'\n",
        "delete_collection = False\n",
        "\n",
        "if delete_collection:\n",
        "    hyperspace_client.delete_collection(collection_name)\n",
        "\n",
        "hyperspace_client.create_collection('config.json', collection_name)"
      ]
    },
    {
      "cell_type": "markdown",
      "source": [
        "# 5. Ingest data\n",
        "\n",
        "In the next step we ingest the dataset in batches of 250 documents. This number can be controlled by user, and in particular, can be increased in order improve ingestion time. We add batches of data using the command **add_batch**(batch, collection_name)."
      ],
      "metadata": {
        "id": "9eUT0cBRu31m"
      },
      "id": "9eUT0cBRu31m"
    },
    {
      "cell_type": "code",
      "source": [
        "import random\n",
        "import secrets\n",
        "import base64\n",
        "\n",
        "def generate_data(metadata, vector_dimension):\n",
        "    data_point = random.choice(metadata)\n",
        "    random_bytes = secrets.token_bytes(vector_dimension // 8)\n",
        "    data_point['vector'] =  base64.b64encode(random_bytes).decode()\n",
        "    return data_point"
      ],
      "metadata": {
        "id": "_XCNBaIHLjZZ"
      },
      "id": "_XCNBaIHLjZZ",
      "execution_count": null,
      "outputs": []
    },
    {
      "cell_type": "code",
      "execution_count": null,
      "id": "95086784",
      "metadata": {
        "id": "95086784"
      },
      "outputs": [],
      "source": [
        "import pickle\n",
        "with open(\"Generated_data.hsv\", 'rb') as file:\n",
        "  metadata = pickle.load(file)\n",
        "\n",
        "BATCH_SIZE = 250\n",
        "\n",
        "batch = []\n",
        "data = []\n",
        "\n",
        "\n",
        "for i, vec in enumerate(range(100000)):\n",
        "    data_point = generate_data(metadata, vector_dimension)\n",
        "    batch.append(hyperspace.Document(str(i), data_point))\n",
        "\n",
        "    if (i+1) % BATCH_SIZE == 0:\n",
        "        response = hyperspace_client.add_batch(batch, collection_name)\n",
        "        print(i, response)\n",
        "        batch.clear()\n",
        "\n",
        "if batch:\n",
        "    hyperspace_client.add_batch(batch, collection_name)\n",
        "\n",
        "response = hyperspace_client.add_batch(batch, collection_name)\n",
        "\n",
        "hyperspace_client.commit(collection_name)\n",
        "\n"
      ]
    },
    {
      "cell_type": "code",
      "source": [
        "data_point"
      ],
      "metadata": {
        "colab": {
          "base_uri": "https://localhost:8080/"
        },
        "id": "-h7z75jMWjdk",
        "outputId": "cfb355d7-b5b1-4fda-b02f-18b282fdefa9"
      },
      "id": "-h7z75jMWjdk",
      "execution_count": null,
      "outputs": [
        {
          "output_type": "execute_result",
          "data": {
            "text/plain": [
              "{'city': 'North Mistyview',\n",
              " 'country': 'Gibraltar',\n",
              " 'open_now': True,\n",
              " 'zip_code': 31158,\n",
              " 'street': 'banana',\n",
              " 'vector': '9BHcg8G55CcOpuKrwHePARQnqT2NERUXcWY4u40tRCZKI+5/VA6lRb7I3mCfVeeOZvF2y11I8H8A9DJ4RLZY8aY8r44eaQr8vHgBjFDve1OCoNm+My0O2O+7BvUbiJj80CFgQg=='}"
            ]
          },
          "metadata": {},
          "execution_count": 10
        }
      ]
    },
    {
      "cell_type": "markdown",
      "source": [
        "#6. Define Logic and Run a Query\n",
        "We will build a hybrid search query using Hyper-space. In the query,  we will select a document and find similar ones."
      ],
      "metadata": {
        "id": "Yjo-yZwXDjkS"
      },
      "id": "Yjo-yZwXDjkS"
    },
    {
      "cell_type": "code",
      "execution_count": null,
      "id": "5c6e2ccb",
      "metadata": {
        "id": "5c6e2ccb"
      },
      "outputs": [],
      "source": [
        "score_function_filename = 'binary_score_function.py'\n",
        "hyperspace_client.set_function(score_function_filename, collection_name=collection_name, function_name='score_function')"
      ]
    },
    {
      "cell_type": "code",
      "execution_count": null,
      "id": "5ff98e9d",
      "metadata": {
        "id": "5ff98e9d"
      },
      "outputs": [],
      "source": [
        "import random\n",
        "from pprint import pprint\n",
        "\n",
        "input_vector =  {'vector': base64.b64encode(secrets.token_bytes(vector_dimension // 8)).decode(), 'country': 'France'}\n",
        "\n",
        "query = {\n",
        "    'params': input_vector,\n",
        "    \"knn\": {\n",
        "        \"query\": {\"boost\": 1},\n",
        "        \"vector\": {\n",
        "            \"boost\": 10,\n",
        "        }\n",
        "    }\n",
        "}\n",
        "\n",
        "results = hyperspace_client.search(query,\n",
        "                                        size=15,\n",
        "                                        function_name='score_function',\n",
        "                                        collection_name=collection_name)\n",
        "candidates = results['candidates']\n",
        "\n",
        "print(f\"Query run time: {results['took_ms']:.2f}ms\")\n",
        "print(f'query run time / candidates+1 = {results[\"took_ms\"] / (results[\"candidates\"] + 1):.2f}')\n",
        "pprint(results['similarity'])\n"
      ]
    },
    {
      "cell_type": "markdown",
      "source": [
        "# Results\n",
        "Let's view the results. Since the vectors are random, it is hard to evaluate the quality of the vector search, beyond the fact that results are sorted by Hamming distance. On the classic search side, we can see that the filters behave as expected."
      ],
      "metadata": {
        "id": "5lzGiQ3ON9bW"
      },
      "id": "5lzGiQ3ON9bW"
    },
    {
      "cell_type": "code",
      "execution_count": null,
      "id": "ddd7d6a1",
      "metadata": {
        "id": "ddd7d6a1"
      },
      "outputs": [],
      "source": [
        "for i, x in enumerate(results['similarity']):\n",
        "  vector = hyperspace_client.get_document(collection_name, x[\"document_id\"])\n",
        "  print(i, vector)"
      ]
    },
    {
      "cell_type": "markdown",
      "source": [
        "This notebook gave a simple example of the use of the Hyperspace engine for hybrid search. Hyperspace can support signficantly more complicated use cases with large databases, in extremley low latency."
      ],
      "metadata": {
        "id": "HHUPLwHjNE67"
      },
      "id": "HHUPLwHjNE67"
    }
  ],
  "metadata": {
    "kernelspec": {
      "display_name": "Python 3 (ipykernel)",
      "language": "python",
      "name": "python3"
    },
    "language_info": {
      "codemirror_mode": {
        "name": "ipython",
        "version": 3
      },
      "file_extension": ".py",
      "mimetype": "text/x-python",
      "name": "python",
      "nbconvert_exporter": "python",
      "pygments_lexer": "ipython3",
      "version": "3.9.13"
    },
    "colab": {
      "provenance": []
    }
  },
  "nbformat": 4,
  "nbformat_minor": 5
}