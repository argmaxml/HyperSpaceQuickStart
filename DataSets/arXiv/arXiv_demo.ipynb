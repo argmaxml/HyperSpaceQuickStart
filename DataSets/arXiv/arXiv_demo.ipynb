{
  "cells": [
    {
      "cell_type": "markdown",
      "metadata": {
        "id": "1Kone1nET7HS"
      },
      "source": [
        "#  Academic Papers Hybrid Search with Hyperspace\n",
        "This notebook demonstrates the use of Hyperspace engine for a hybrid search for academic papers matching - a combination of vector search and keyword matching.\n",
        "We will build a simple filtering function, which filters papers of the same category, gives bias to paper by same submitter an negative bias for papers without given license. We first select a paper as input for the query\n",
        "\n",
        "# The Datset\n",
        "The dataset is taken from [kaggle]( https://www.kaggle.com/datasets/Cornell-University/arxiv) and includes a list of academic papers from arXiv, and their metadata.\n",
        "We will use the combination of an embedded vector data and metadata, to create a hybrid search.\n",
        "\n",
        "\n",
        "## The Metadata Fields\n",
        "The metadata includes the following fields:\n",
        "1. **id** [float] - paper unique id\n",
        "2. **title** [string] - paper title\n",
        "3. **submitter** [string] - name of person who submitted the paper\n",
        "4. **categories** [list[string]] - list of categories which include the paper\n",
        "5. **label** [list[string]] - labels aplied to paper\n",
        "6. **license** [string] - license type\n",
        "7. **update_date_ts** [integer] - update time in unix format\n",
        "\n",
        "\n",
        "# Setting up the Hyperspace environment\n",
        "Working with Hyperspace requires the followin steps\n",
        "\n",
        "1. Install the client API\n",
        "2. Create data config file\n",
        "3. Connect to a server\n",
        "4. Create collection\n",
        "5. Ingest data\n",
        "6. Run query"
      ],
      "id": "1Kone1nET7HS"
    },
    {
      "cell_type": "code",
      "execution_count": null,
      "metadata": {
        "colab": {
          "base_uri": "https://localhost:8080/"
        },
        "id": "UlNkF15T4Lae",
        "outputId": "d0e95230-5c01-4d18-b714-d2d4157dbcb6"
      },
      "outputs": [
        {
          "output_type": "stream",
          "name": "stdout",
          "text": [
            "Mounted at /content/drive\n"
          ]
        }
      ],
      "source": [
        "from google.colab import drive\n",
        "drive.mount('/content/drive')\n",
        "username = \"yanivt@hyper-space.io\"\n",
        "password = 'gaU2Fs4h%NVj'"
      ],
      "id": "UlNkF15T4Lae"
    },
    {
      "cell_type": "markdown",
      "metadata": {
        "id": "SZwFmp6tVLZ_"
      },
      "source": [
        "## 1. Install the client API\n",
        "Hyperspace API can be installed directly from git, using the following command"
      ],
      "id": "SZwFmp6tVLZ_"
    },
    {
      "cell_type": "code",
      "source": [
        "pip install git+https://github.com/hyper-space-io/hyperspace-py"
      ],
      "metadata": {
        "colab": {
          "base_uri": "https://localhost:8080/"
        },
        "id": "WkkNOdYyZ7Ew",
        "outputId": "f9e7db17-990c-4771-a4e6-424c8a93d476"
      },
      "id": "WkkNOdYyZ7Ew",
      "execution_count": null,
      "outputs": [
        {
          "output_type": "stream",
          "name": "stdout",
          "text": [
            "Collecting git+https://github.com/hyper-space-io/hyperspace-py\n",
            "  Cloning https://github.com/hyper-space-io/hyperspace-py to /tmp/pip-req-build-yue8jaqq\n",
            "  Running command git clone --filter=blob:none --quiet https://github.com/hyper-space-io/hyperspace-py /tmp/pip-req-build-yue8jaqq\n",
            "  Resolved https://github.com/hyper-space-io/hyperspace-py to commit 43ea7a0e58f97c21460cf64e860c3d8f7c29d20d\n",
            "  Preparing metadata (setup.py) ... \u001b[?25l\u001b[?25hdone\n",
            "Requirement already satisfied: urllib3>=1.15 in /usr/local/lib/python3.10/dist-packages (from hyperspace==1.0.0) (1.26.16)\n",
            "Requirement already satisfied: six>=1.10 in /usr/local/lib/python3.10/dist-packages (from hyperspace==1.0.0) (1.16.0)\n",
            "Requirement already satisfied: certifi in /usr/local/lib/python3.10/dist-packages (from hyperspace==1.0.0) (2023.7.22)\n",
            "Requirement already satisfied: python-dateutil in /usr/local/lib/python3.10/dist-packages (from hyperspace==1.0.0) (2.8.2)\n",
            "Building wheels for collected packages: hyperspace\n",
            "  Building wheel for hyperspace (setup.py) ... \u001b[?25l\u001b[?25hdone\n",
            "  Created wheel for hyperspace: filename=hyperspace-1.0.0-py3-none-any.whl size=32263 sha256=0fb4b7df02cd1eaa29f173bbe9a7eab0f737c9b97d846b1eef7e9a85d1b0b2c8\n",
            "  Stored in directory: /tmp/pip-ephem-wheel-cache-l7b5_pwq/wheels/c4/96/59/f4b91d653fdbfc819e48a7dacbea1c9f3de59a1bc113aa840d\n",
            "Successfully built hyperspace\n",
            "Installing collected packages: hyperspace\n",
            "Successfully installed hyperspace-1.0.0\n"
          ]
        }
      ]
    },
    {
      "cell_type": "markdown",
      "metadata": {
        "id": "TCZSwM6DVeDm"
      },
      "source": [
        "#2. Connect to a server\n",
        "\n",
        "Once the Hyperspace API is installed, the database can be accessed by creating a local instance of the Hyperspace client. This step requires host address, username and password"
      ],
      "id": "TCZSwM6DVeDm"
    },
    {
      "cell_type": "code",
      "execution_count": null,
      "metadata": {
        "id": "17a978a2"
      },
      "outputs": [],
      "source": [
        "import hyperspace\n",
        "\n",
        "host = 'https://search-master-demo.development.hyper-space.xyz'\n",
        "\n",
        "hyperspace_client = hyperspace.HyperspaceClientApi(host=host,\n",
        "                                                   username=username, password=password)\n"
      ],
      "id": "17a978a2"
    },
    {
      "cell_type": "markdown",
      "source": [
        "We check the status before proceeding"
      ],
      "metadata": {
        "id": "KiZGq3v8V4vL"
      },
      "id": "KiZGq3v8V4vL"
    },
    {
      "cell_type": "code",
      "execution_count": null,
      "metadata": {
        "id": "cH_lWsLLza0n",
        "colab": {
          "base_uri": "https://localhost:8080/",
          "height": 104
        },
        "outputId": "33b15f37-a009-4791-943f-0f394cf9d5d4"
      },
      "outputs": [
        {
          "output_type": "display_data",
          "data": {
            "text/plain": [
              "[{'FPGA memory usage in GB': '0.0078GB',\n",
              "  'FPGA memory usage in percentage': '0.0078%',\n",
              "  'Hostname': 'hyperspace-demo-0',\n",
              "  'Number of total vectors': 0},\n",
              " {'Number of data nodes': 1}]"
            ]
          },
          "metadata": {}
        }
      ],
      "source": [
        "cluster_status = hyperspace_client.cluster_status()\n",
        "display(cluster_status)"
      ],
      "id": "cH_lWsLLza0n"
    },
    {
      "cell_type": "markdown",
      "metadata": {
        "id": "HXmdh3YGVfQV"
      },
      "source": [
        "#3.   Create a Data Schema File\n",
        "\n",
        "Similarly to other search databases, Hyper-Space database requires a configuration file that outlines the data schema. Here, we create a config file that corresponds to the fields of the given dataset.\n",
        "\n",
        "For vector fields, we also provide the index type to be used, and the metric. . Current options for index include \"**brute_force**\", \"**hnsw**\", \"**ivf**\", and \"**bin_ivf**\" for binary vectors, and \"**IP**\" (inner product) as a metric for floating point vectors and \"**Hamming**\" ([hamming distance](https://en.wikipedia.org/wiki/Hamming_distance)) for binary vectors.\n",
        "Here, we use \"brute_force\" (exact KNN) with inner product."
      ],
      "id": "HXmdh3YGVfQV"
    },
    {
      "cell_type": "code",
      "execution_count": null,
      "metadata": {
        "id": "976b2177"
      },
      "outputs": [],
      "source": [
        "import json\n",
        "\n",
        "config = {\n",
        "    \"configuration\": {\n",
        "        \"id\": {\n",
        "            \"type\":\"float\"\n",
        "        },\n",
        "        \"title\": {\n",
        "            \"type\":\"keyword\"\n",
        "        },\n",
        "        \"submitter\": {\n",
        "            \"type\":\"keyword\"\n",
        "        },\n",
        "        \"categories\": {\n",
        "            \"type\":\"keyword\",\n",
        "            \"struct_type\":\"list\"\n",
        "        },\n",
        "        \"labels\": {\n",
        "            \"type\":\"keyword\",\n",
        "            \"struct_type\":\"list\"\n",
        "        },\n",
        "        \"license\": {\n",
        "            \"type\":\"keyword\"\n",
        "        },\n",
        "        \"update_date\": {\n",
        "            \"type\":\"keyword\"\n",
        "        },\n",
        "        \"update_date_ts\": {\n",
        "            \"type\":\"integer\"\n",
        "        },\n",
        "        \"embedded_abstract\": {\n",
        "            \"type\": \"dense_vector\",\n",
        "            \"dim\": 384,\n",
        "            \"index_type\": \"brute_force\",\n",
        "            \"metric\": \"IP\"\n",
        "        }\n",
        "    }\n",
        "}\n",
        "\n",
        "with open('arXiv_config.json', 'w') as f:\n",
        "    f.write(json.dumps(config, indent=2))\n",
        "\n"
      ],
      "id": "976b2177"
    },
    {
      "cell_type": "markdown",
      "metadata": {
        "id": "7RTDkUsr3ead"
      },
      "source": [
        "## 4. Create Collection\n",
        "The Hyerspace engine stroes data in Collections, where each collecction commonly hosts data of similar context, etc. Each search is then perfomed within a collection. We create a collection using the command \"**create_collection**(schema_filename, collection_name)\"."
      ],
      "id": "7RTDkUsr3ead"
    },
    {
      "cell_type": "code",
      "execution_count": null,
      "metadata": {
        "id": "aOj7VVTtlM_o"
      },
      "outputs": [],
      "source": [
        "collection_name = 'all-MiniLM-L6-v2 ArXiv titles'\n",
        "\n",
        "# hyperspace_client.delete_collection(collection_name)\n",
        "hyperspace_client.create_collection('arXiv_config.json', collection_name)\n",
        "hyperspace_client.cluster_status()"
      ],
      "id": "aOj7VVTtlM_o"
    },
    {
      "cell_type": "markdown",
      "metadata": {
        "id": "lUpgHD2VWFXd"
      },
      "source": [
        "# 5. Ingest data\n",
        "\n",
        "In the next step we ingest the dataset in batches of 250 documents. This number can be controlled by user, and in particular, can be increased in order improve ingestion time. We add batches of data using the command **add_batch**(batch, collection_name)."
      ],
      "id": "lUpgHD2VWFXd"
    },
    {
      "cell_type": "code",
      "source": [
        "import numpy as np\n",
        "vecs = np.load('/content/drive/MyDrive/Data/ArXiv/vectors.npy')\n",
        "metadata_file = open('/content/drive/MyDrive/Data/ArXiv/payloads.jsonl')"
      ],
      "metadata": {
        "id": "2YfCosjCPGhl"
      },
      "id": "2YfCosjCPGhl",
      "execution_count": null,
      "outputs": []
    },
    {
      "cell_type": "code",
      "source": [
        "BATCH_SIZE = 500\n",
        "\n",
        "batch = []\n",
        "for i, (metadata_row, vec) in enumerate(zip(metadata_file, vecs)):\n",
        "    row = {key: value for key, value in json.loads(metadata_row).items() if key in config[\"configuration\"].keys()}\n",
        "    row['categories'] = row['categories'].split()\n",
        "    row['embedded_abstract'] = np.ndarray.tolist(vec)\n",
        "\n",
        "    batch.append(hyperspace.Document(str(i), row))\n",
        "\n",
        "    if i % BATCH_SIZE == 0:\n",
        "        response = hyperspace_client.add_batch(batch, collection_name)\n",
        "        batch.clear()\n",
        "        print(i, response)\n",
        "\n",
        "hyperspace_client.commit(collection_name)"
      ],
      "metadata": {
        "id": "aocQ5xgbZf-S"
      },
      "id": "aocQ5xgbZf-S",
      "execution_count": null,
      "outputs": []
    },
    {
      "cell_type": "markdown",
      "metadata": {
        "id": "8lRgTyKwWJ84"
      },
      "source": [
        "# 6. Define Logic and Run a Query\n",
        "We will build a hybrid search query using Hyperspace. In the query,  we will randomly select a paper from the database and search for similar papers. The query object weights under the \"boost\" fields, allow to contorl the relative weights of the classic search and vector search scores. We will first select the input document, and search for similar papers in the next step."
      ],
      "id": "8lRgTyKwWJ84"
    },
    {
      "cell_type": "code",
      "execution_count": null,
      "metadata": {
        "colab": {
          "base_uri": "https://localhost:8080/"
        },
        "id": "0YdFBOCsOJka",
        "outputId": "a86dffb3-c5e8-4b49-dc6f-85b5f04db766"
      },
      "outputs": [
        {
          "output_type": "stream",
          "name": "stdout",
          "text": [
            "Hall field induced magnetoresistance oscillations of a two-dimensional\n",
            "  electron system \n",
            "======================================\n",
            " Alejandro Kunold \n",
            " ['cond-mat.mes-hall']\n"
          ]
        }
      ],
      "source": [
        "input_document = hyperspace_client.get_document(collection_name, 65)\n",
        "print(input_document['title'], \"\\n======================================\\n\", input_document['submitter'], \"\\n\", input_document['categories'])"
      ],
      "id": "0YdFBOCsOJka"
    },
    {
      "cell_type": "code",
      "execution_count": null,
      "metadata": {
        "colab": {
          "base_uri": "https://localhost:8080/"
        },
        "id": "5ff98e9d",
        "outputId": "ed12d4ba-068c-4a36-fb5f-db10276dbb2a"
      },
      "outputs": [
        {
          "output_type": "stream",
          "name": "stdout",
          "text": [
            "1 . vector id 65 : Hall field induced magnetoresistance oscillations of a two-dimensional\n",
            "  electron system , Alejandro Kunold , ['cond-mat.mes-hall']\n",
            "\n",
            "\n",
            "2 . vector id 366812 : Quantum and classical dissipation of charged particles , Alejandro Kunold , ['quant-ph', 'cond-mat.mes-hall']\n",
            "\n",
            "\n",
            "3 . vector id 117319 : Non linear transport theory for negative-differential resistance states\n",
            "  of two dimensional electron systems in strong magnetic fields , Alejandro Kunold , ['cond-mat.mes-hall']\n",
            "\n",
            "\n",
            "4 . vector id 242529 : Symmetry breaking as the origin of zero-differential resistance states\n",
            "  of a 2DEG in strong magnetic fields , Alejandro Kunold , ['cond-mat.mes-hall', 'cond-mat.other']\n",
            "\n",
            "\n",
            "5 . vector id 178121 : Impact of heavy hole-light hole coupling on optical selection rules in\n",
            "  GaAs quantum dots , Alejandro Kunold , ['cond-mat.mes-hall']\n",
            "\n",
            "\n"
          ]
        }
      ],
      "source": [
        "from pprint import pprint\n",
        "response = hyperspace_client.set_function('/content/drive/MyDrive/Data/ArXiv/score_func.py', collection_name=collection_name, function_name='similarity_sf')\n",
        "\n",
        "query_with_knn = {\n",
        "    'vector_Content': input_document,\n",
        "    'boost': {\n",
        "        'query': 0.4,\n",
        "        'embedded_abstract': 0.2\n",
        "    }\n",
        "}\n",
        "\n",
        "results = hyperspace_client.search_data(query_with_knn,\n",
        "                                        size=5,\n",
        "                                        function_name='similarity_sf',\n",
        "                                        collection_name=collection_name)\n",
        "\n",
        "for i, result in enumerate(results['similarity']):\n",
        "  vector_api_response = hyperspace_client.find_vector_by_id(vector_id=result['vector_id'], collection_name=collection_name)\n",
        "  print(i + 1, \"vector id\", result['vector_id'],  \":\", vector_api_response['title'], \",\", vector_api_response['submitter'], \",\", vector_api_response['categories'])\n",
        "  print(\"\\n\")\n"
      ],
      "id": "5ff98e9d"
    },
    {
      "cell_type": "markdown",
      "source": [
        "The returned documents have similar submitter name, as expected from the metadata filtering.\n",
        "\n",
        "This notebook gave a simple example of the use of the Hyperspace engine for hybrid search. Hyperspace can support complicated use cases with large databases, in extremley low latency."
      ],
      "metadata": {
        "id": "5uRO_8UUQIzk"
      },
      "id": "5uRO_8UUQIzk"
    }
  ],
  "metadata": {
    "colab": {
      "provenance": []
    },
    "kernelspec": {
      "display_name": "Python 3 (ipykernel)",
      "language": "python",
      "name": "python3"
    },
    "language_info": {
      "codemirror_mode": {
        "name": "ipython",
        "version": 3
      },
      "file_extension": ".py",
      "mimetype": "text/x-python",
      "name": "python",
      "nbconvert_exporter": "python",
      "pygments_lexer": "ipython3",
      "version": "3.9.13"
    }
  },
  "nbformat": 4,
  "nbformat_minor": 5
}