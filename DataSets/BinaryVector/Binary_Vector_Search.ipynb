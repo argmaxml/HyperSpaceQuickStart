{
  "cells": [
    {
      "cell_type": "markdown",
      "source": [
        "#  Binary vector and metadata search with Hyperspace\n",
        "This notebook demonstrates the use of Hyperspace engine for a combining binary vector search and metadata filtering\n",
        "\n",
        "# The Dataset\n",
        "The dataset is randomly generated to include binary vectorS of dimension 800 and corresponding metadata.\n",
        "\n",
        "## Setting up the Hyper Space environment\n",
        "Setting the environment requires the following steps\n",
        "\n",
        "1. Download and install the client API\n",
        "2. Connect to a server\n",
        "3. Create data schema file\n",
        "4. Create collection\n",
        "5. Ingest data\n",
        "6. Define Logic and Run a Query\n"
      ],
      "metadata": {
        "id": "DQf1g53MLo9r"
      },
      "id": "DQf1g53MLo9r"
    },
    {
      "cell_type": "markdown",
      "source": [
        "# 1. Download and install the client API\n",
        "Installation of Hyperspace cliend is quite simple and includes the following line"
      ],
      "metadata": {
        "id": "qol984iQq_O4"
      },
      "id": "qol984iQq_O4"
    },
    {
      "cell_type": "code",
      "source": [
        "pip install git+https://github.com/hyper-space-io/hyperspace-py"
      ],
      "metadata": {
        "id": "U6p1YrVOL19j"
      },
      "id": "U6p1YrVOL19j",
      "execution_count": null,
      "outputs": []
    },
    {
      "cell_type": "markdown",
      "source": [
        "#2. Connect to a server\n",
        "\n",
        "Using the Hyper-space engine can be done connecting to a remote machine with pre-provided credendtials. The process is standard"
      ],
      "metadata": {
        "id": "EtEeKuxJ7E2Q"
      },
      "id": "EtEeKuxJ7E2Q"
    },
    {
      "cell_type": "code",
      "execution_count": 3,
      "id": "4161f9f8",
      "metadata": {
        "id": "4161f9f8"
      },
      "outputs": [],
      "source": [
        "import hyperspace\n",
        "\n",
        "hyperspace_client = hyperspace.HyperspaceClientApi(host='https://search-master-demo.development.hyper-space.xyz',\n",
        "                                                   username=username, password=password)"
      ]
    },
    {
      "cell_type": "markdown",
      "source": [
        "#3.   Create data schema file\n",
        "\n",
        "Similarly to other search databases, Hyper-Space database requires a configuration file which outlines the data schema. We create a config file which corresponds to the fields of the random data. Note that the key 'low_cardinality' enables faster search for low cardinality fields.\n",
        "\n",
        "The similarity of the binary vector will be calculated using [hamming distance](https://en.wikipedia.org/wiki/Hamming_distance)"
      ],
      "metadata": {
        "id": "6BG-FyOlujHE"
      },
      "id": "6BG-FyOlujHE"
    },
    {
      "cell_type": "code",
      "execution_count": 4,
      "id": "976b2177",
      "metadata": {
        "id": "976b2177"
      },
      "outputs": [],
      "source": [
        "import json\n",
        "vector_dimension = 800 # bits\n",
        "config = {\n",
        "    \"configuration\": {\n",
        "        'city': {\"type\": 'keyword'},\n",
        "        'country': {\"type\": 'keyword'},\n",
        "        'open_now': {\"type\": 'boolean'},\n",
        "        'zip_code': {\"type\": 'integer'},\n",
        "        'street': {\"type\": 'keyword'},\n",
        "        'vertical': {\"type\": 'keyword', 'low_cardinality': True},\n",
        "        \"vector\": {\n",
        "            \"type\": \"dense_vector\",\n",
        "            \"index_type\": \"bin_ivf\",\n",
        "            \"dim\": vector_dimension,\n",
        "            \"metric\": \"hamming\"\n",
        "        }\n",
        "    }\n",
        "}\n",
        "\n",
        "with open('config.json', 'w') as f:\n",
        "    f.write(json.dumps(config, indent=2))\n"
      ]
    },
    {
      "cell_type": "markdown",
      "source": [
        "#4. Create Collection\n",
        "Collections are used to store data of similar context, etc."
      ],
      "metadata": {
        "id": "g1DHlx75uklY"
      },
      "id": "g1DHlx75uklY"
    },
    {
      "cell_type": "code",
      "execution_count": null,
      "id": "2a787dba",
      "metadata": {
        "id": "2a787dba"
      },
      "outputs": [],
      "source": [
        "collection_name = 'GeneratedData'\n",
        "try:\n",
        "    hyperspace_client.delete_collection(collection_name)\n",
        "except:\n",
        "    pass\n",
        "\n",
        "hyperspace_client.create_collection('config.json', collection_name)"
      ]
    },
    {
      "cell_type": "markdown",
      "source": [
        "#5 Ingest data\n",
        "\n",
        "We ingest the dataset in batches of 250"
      ],
      "metadata": {
        "id": "9eUT0cBRu31m"
      },
      "id": "9eUT0cBRu31m"
    },
    {
      "cell_type": "code",
      "execution_count": null,
      "id": "95086784",
      "metadata": {
        "id": "95086784"
      },
      "outputs": [],
      "source": [
        "import secrets\n",
        "import base64\n",
        "import pickle\n",
        "import random\n",
        "with open(\"Generated_data.hsv\", 'rb') as file:\n",
        "  metadata = pickle.load(file)\n",
        "\n",
        "BATCH_SIZE = 250\n",
        "\n",
        "batch = []\n",
        "data = []\n",
        "\n",
        "\n",
        "for i, vec in enumerate(range(100000)):\n",
        "    data_point = random.choice(metadata)\n",
        "\n",
        "    random_bytes = secrets.token_bytes(vector_dimension // 8)\n",
        "    data_point['vector'] =  base64.b64encode(random_bytes).decode()\n",
        "    batch.append(hyperspace.Document(str(i), data_point))\n",
        "    if (i+1) % BATCH_SIZE == 0:\n",
        "        response = hyperspace_client.add_batch(batch, collection_name)\n",
        "        print(i, response)\n",
        "        batch.clear()\n",
        "\n",
        "if batch:\n",
        "    hyperspace_client.add_batch(batch, collection_name)\n",
        "\n",
        "response = hyperspace_client.add_batch(batch, collection_name)\n",
        "\n",
        "hyperspace_client.commit(collection_name)\n",
        "\n"
      ]
    },
    {
      "cell_type": "code",
      "source": [
        "data_point"
      ],
      "metadata": {
        "colab": {
          "base_uri": "https://localhost:8080/"
        },
        "id": "-h7z75jMWjdk",
        "outputId": "cfb355d7-b5b1-4fda-b02f-18b282fdefa9"
      },
      "id": "-h7z75jMWjdk",
      "execution_count": null,
      "outputs": [
        {
          "output_type": "execute_result",
          "data": {
            "text/plain": [
              "{'city': 'North Mistyview',\n",
              " 'country': 'Gibraltar',\n",
              " 'open_now': True,\n",
              " 'zip_code': 31158,\n",
              " 'street': 'banana',\n",
              " 'vector': '9BHcg8G55CcOpuKrwHePARQnqT2NERUXcWY4u40tRCZKI+5/VA6lRb7I3mCfVeeOZvF2y11I8H8A9DJ4RLZY8aY8r44eaQr8vHgBjFDve1OCoNm+My0O2O+7BvUbiJj80CFgQg=='}"
            ]
          },
          "metadata": {},
          "execution_count": 10
        }
      ]
    },
    {
      "cell_type": "markdown",
      "source": [
        "#6. Define Logic and Run a Query\n",
        "We will build a hybrid search query using Hyper-space. In the query,  we will select a document and find similar ones. The query object weights under the \"boost\" fields, allow to contorl the relative weights of the classic search and vector search scores."
      ],
      "metadata": {
        "id": "Yjo-yZwXDjkS"
      },
      "id": "Yjo-yZwXDjkS"
    },
    {
      "cell_type": "code",
      "execution_count": null,
      "id": "5c6e2ccb",
      "metadata": {
        "id": "5c6e2ccb"
      },
      "outputs": [],
      "source": [
        "score_function_filename = 'binary_score_function.py'\n",
        "hyperspace_client.set_function(score_function_filename, collection_name=collection_name, function_name='score_function')"
      ]
    },
    {
      "cell_type": "code",
      "execution_count": null,
      "id": "5ff98e9d",
      "metadata": {
        "id": "5ff98e9d"
      },
      "outputs": [],
      "source": [
        "import random\n",
        "from pprint import pprint\n",
        "\n",
        "input_vector =  {'vector': base64.b64encode(secrets.token_bytes(vector_dimension // 8)).decode(), 'country': 'France'}\n",
        "\n",
        "query = {\n",
        "    'params': input_vector,\n",
        "    \"knn\": {\n",
        "        \"query\": {\"boost\": 1},\n",
        "        \"vector\": {\n",
        "            \"boost\": 10,\n",
        "        }\n",
        "    }\n",
        "}\n",
        "\n",
        "results = hyperspace_client.search(query,\n",
        "                                        size=15,\n",
        "                                        function_name='score_function',\n",
        "                                        collection_name=collection_name)\n",
        "\n",
        "candidates = results['candidates']\n",
        "\n",
        "\n",
        "\n",
        "print(f\"Query run time: {results['took_ms']:.2f}ms\")\n",
        "print(f'query run time / candidates+1 = {results[\"took_ms\"] / (results[\"candidates\"] + 1):.2f}')\n",
        "print()\n",
        "pprint(results['similarity'])\n"
      ]
    },
    {
      "cell_type": "markdown",
      "source": [
        "# Results\n",
        "Let's view the results"
      ],
      "metadata": {
        "id": "5lzGiQ3ON9bW"
      },
      "id": "5lzGiQ3ON9bW"
    },
    {
      "cell_type": "code",
      "execution_count": null,
      "id": "ddd7d6a1",
      "metadata": {
        "id": "ddd7d6a1"
      },
      "outputs": [],
      "source": [
        "for i, x in enumerate(results['similarity']):\n",
        "  vector = hyperspace_client.get_document(collection_name, x[\"document_id\"])\n",
        "  print(i, vector)"
      ]
    }
  ],
  "metadata": {
    "kernelspec": {
      "display_name": "Python 3 (ipykernel)",
      "language": "python",
      "name": "python3"
    },
    "language_info": {
      "codemirror_mode": {
        "name": "ipython",
        "version": 3
      },
      "file_extension": ".py",
      "mimetype": "text/x-python",
      "name": "python",
      "nbconvert_exporter": "python",
      "pygments_lexer": "ipython3",
      "version": "3.9.13"
    },
    "colab": {
      "provenance": []
    }
  },
  "nbformat": 4,
  "nbformat_minor": 5
}
