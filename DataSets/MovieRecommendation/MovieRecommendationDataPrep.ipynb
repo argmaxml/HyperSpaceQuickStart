{
  "cells": [
    {
      "cell_type": "markdown",
      "metadata": {
        "id": "mv-I3CgcYxYL"
      },
      "source": [
        "# Movie Recommendation Data Preparation\n",
        "\n",
        "This notebook includes preprocessing of a kaggle movie recommendation dataset.\n",
        "The data is taken from [MovieLens Latest Datasets](https://grouplens.org/datasets/movielens/latest/) and was downloaded from [Kaggle movie recommender system dataset ](https://www.kaggle.com/code/rounakbanik/movie-recommender-systems). The data includes 40954 valid movies."
      ]
    },
    {
      "cell_type": "markdown",
      "metadata": {
        "id": "9gDLKKkcq26b"
      },
      "source": [
        "# Importing Libraries\n",
        "We will start by importing relevant libraries"
      ]
    },
    {
      "cell_type": "code",
      "execution_count": 1,
      "metadata": {
        "id": "ZO8M5pKg4EmI"
      },
      "outputs": [],
      "source": [
        "import pandas as pd\n",
        "import numpy as np\n",
        "import warnings\n",
        "from sklearn.feature_extraction.text import TfidfVectorizer\n",
        "warnings.filterwarnings('ignore')\n",
        "import ast\n",
        "\n",
        "from matplotlib import pyplot as plt\n",
        "import seaborn as sns\n",
        "import sys\n"
      ]
    },
    {
      "cell_type": "markdown",
      "metadata": {
        "id": "fE-1OyKuFe38"
      },
      "source": [
        "We first load the movie metadata from a csv file"
      ]
    },
    {
      "cell_type": "code",
      "execution_count": 3,
      "metadata": {
        "colab": {
          "base_uri": "https://localhost:8080/"
        },
        "id": "fCs3k081qeQk",
        "outputId": "a7a90dda-14bc-484d-fdaa-55885472b9d4"
      },
      "outputs": [
        {
          "output_type": "stream",
          "name": "stdout",
          "text": [
            "<class 'pandas.core.frame.DataFrame'>\n",
            "RangeIndex: 45466 entries, 0 to 45465\n",
            "Data columns (total 24 columns):\n",
            " #   Column                 Non-Null Count  Dtype  \n",
            "---  ------                 --------------  -----  \n",
            " 0   adult                  45466 non-null  object \n",
            " 1   belongs_to_collection  4494 non-null   object \n",
            " 2   budget                 45466 non-null  object \n",
            " 3   genres                 45466 non-null  object \n",
            " 4   homepage               7782 non-null   object \n",
            " 5   id                     45466 non-null  object \n",
            " 6   imdb_id                45449 non-null  object \n",
            " 7   original_language      45455 non-null  object \n",
            " 8   original_title         45466 non-null  object \n",
            " 9   overview               44512 non-null  object \n",
            " 10  popularity             45461 non-null  object \n",
            " 11  poster_path            45080 non-null  object \n",
            " 12  production_companies   45463 non-null  object \n",
            " 13  production_countries   45463 non-null  object \n",
            " 14  release_date           45379 non-null  object \n",
            " 15  revenue                45460 non-null  float64\n",
            " 16  runtime                45203 non-null  float64\n",
            " 17  spoken_languages       45460 non-null  object \n",
            " 18  status                 45379 non-null  object \n",
            " 19  tagline                20412 non-null  object \n",
            " 20  title                  45460 non-null  object \n",
            " 21  video                  45460 non-null  object \n",
            " 22  vote_average           45460 non-null  float64\n",
            " 23  vote_count             45460 non-null  float64\n",
            "dtypes: float64(4), object(20)\n",
            "memory usage: 8.3+ MB\n"
          ]
        }
      ],
      "source": [
        "df = pd.read_csv('movies_metadata.csv')\n",
        "df.info()"
      ]
    },
    {
      "cell_type": "markdown",
      "metadata": {
        "id": "BFnEehjJ7KJ_"
      },
      "source": [
        "# **Data Preparation**\n",
        "The data includes a lot of duplications, with \"spoken_languages\" including both code and name of languages, etc.\n",
        "The first step is clean and prepare the data.\n",
        "* Syntax standartization\n",
        "* Nan handling\n",
        "* Remove duplications\n",
        "* Remove irrelevant columns\n",
        "* Flattening nested objects and removing duplicated entries"
      ]
    },
    {
      "cell_type": "code",
      "execution_count": 4,
      "metadata": {
        "id": "zP-xTFnwxWr2"
      },
      "outputs": [],
      "source": [
        "# Remove duplicates by only keeping last entry\n",
        "df = df[~df[\"title\"].duplicated(keep='last')]\n",
        "\n",
        "# We will use overview, title and release date. We therefore remove entries without those\n",
        "df = df[~df[\"title\"].isna()]\n",
        "df = df[~df[\"overview\"].isna()]\n",
        "df = df[~df[\"release_date\"].isna()]\n",
        "\n",
        "# We remove colums we won't use\n",
        "for col in ['homepage','imdb_id','video', 'original_title','poster_path','original_language']:\n",
        "  del(df[col])"
      ]
    },
    {
      "cell_type": "code",
      "execution_count": 5,
      "metadata": {
        "colab": {
          "base_uri": "https://localhost:8080/"
        },
        "id": "N9oWyug7rNXY",
        "outputId": "5d0bb10a-308b-4a29-cecb-42222ef13a8e"
      },
      "outputs": [
        {
          "output_type": "stream",
          "name": "stdout",
          "text": [
            "<class 'pandas.core.frame.DataFrame'>\n",
            "Int64Index: 40951 entries, 0 to 45465\n",
            "Data columns (total 18 columns):\n",
            " #   Column                 Non-Null Count  Dtype  \n",
            "---  ------                 --------------  -----  \n",
            " 0   adult                  40951 non-null  object \n",
            " 1   belongs_to_collection  40951 non-null  object \n",
            " 2   budget                 40951 non-null  int64  \n",
            " 3   genres                 40951 non-null  object \n",
            " 4   id                     40951 non-null  int64  \n",
            " 5   overview               40951 non-null  object \n",
            " 6   popularity             40951 non-null  float64\n",
            " 7   production_companies   40951 non-null  object \n",
            " 8   production_countries   40951 non-null  object \n",
            " 9   release_date           40951 non-null  object \n",
            " 10  revenue                40951 non-null  float64\n",
            " 11  runtime_days           40951 non-null  float64\n",
            " 12  spoken_languages       40951 non-null  object \n",
            " 13  tagline                40951 non-null  object \n",
            " 14  title                  40951 non-null  object \n",
            " 15  vote_average           40951 non-null  float64\n",
            " 16  vote_count             40951 non-null  float64\n",
            " 17  year                   40951 non-null  object \n",
            "dtypes: float64(5), int64(2), object(11)\n",
            "memory usage: 5.9+ MB\n"
          ]
        }
      ],
      "source": [
        "# Normalizing data types and flattening dictionaries to lists\n",
        "df['belongs_to_collection'] = df['belongs_to_collection'].fillna('{}')\n",
        "df['belongs_to_collection'] = df['belongs_to_collection'].apply(lambda x: ast.literal_eval(x))\n",
        "df['belongs_to_collection'] = df['belongs_to_collection'].map(lambda x: x['name'] if 'name' in x else 'None')\n",
        "\n",
        "df['budget'] = df['budget'].apply(lambda x: ast.literal_eval(x))\n",
        "\n",
        "df['spoken_languages'] = df['spoken_languages'].apply(lambda x: ast.literal_eval(x))\n",
        "df['spoken_languages'] = df['spoken_languages'].apply(lambda x: [d['iso_639_1'] for d in x])\n",
        "\n",
        "df['genres'] = df['genres'].apply(lambda x: ast.literal_eval(x))\n",
        "df['genres'] = df['genres'].apply(lambda x: [d['name'] for d in x])\n",
        "\n",
        "df['popularity'] = df['popularity'].apply(float)\n",
        "\n",
        "df['production_countries'] = df['production_countries'].apply(lambda x: ast.literal_eval(x))\n",
        "df['production_countries'] = df['production_countries'].apply(lambda x: [d['iso_3166_1'] for d in x])\n",
        "\n",
        "df['id'] = df['id'].apply(lambda x: ast.literal_eval(x))\n",
        "\n",
        "df['production_companies'] = df['production_companies'].apply(lambda x: ast.literal_eval(x))\n",
        "df['production_companies'] = df['production_companies'].apply(lambda x: [d['name'] for d in x])\n",
        "\n",
        "df['year'] = pd.to_datetime(df['release_date'], errors='coerce').apply(lambda x: str(x).split('-')[0])\n",
        "\n",
        "df['overview'] = df['overview'].fillna('')\n",
        "df['tagline'] = df['tagline'].fillna('')\n",
        "df['release_date'].fillna('1900')\n",
        "\n",
        "df.rename(columns = {\"runtime\":\"runtime_days\"}, inplace = True)\n",
        "df['status'] = df['status'].fillna('Released')\n",
        "\n",
        "# Only keep released movies. assume missing statuses are \"Released\".\n",
        "df = df[df['status']=='Released']\n",
        "del(df['status'])\n",
        "\n",
        "df.info()\n"
      ]
    },
    {
      "cell_type": "markdown",
      "metadata": {
        "id": "D4TqBtT_cB2P"
      },
      "source": [
        "# **Movie Rating**\n",
        "We will provide query boost for high rated movies. Fot the rating, we use the IMDB score, defined as\n",
        "(WR) = $(\\frac{v}{v + m} . R) + (\\frac{m}{v + m} . C)$\n",
        ", where:\n",
        "* *v* = number of votes\n",
        "* *m* = minimum required votes to be rated\n",
        "* *R* = average movies rating\n",
        "* *C* = mean vote across all movies\n",
        "\n",
        "we will take m to be the 0.95 quantile\n"
      ]
    },
    {
      "cell_type": "code",
      "execution_count": 6,
      "metadata": {
        "colab": {
          "base_uri": "https://localhost:8080/",
          "height": 472
        },
        "id": "i0SkT7-ecvTy",
        "outputId": "59fcec4e-8235-47af-a6b4-9978154cac79"
      },
      "outputs": [
        {
          "output_type": "display_data",
          "data": {
            "text/plain": [
              "<Figure size 640x480 with 1 Axes>"
            ],
            "image/png": "[encoded data removed]"
          },
          "metadata": {}
        }
      ],
      "source": [
        "def weighted_rating(x, m, C):\n",
        "    v = x['vote_count']\n",
        "    R = x['vote_average']\n",
        "    return v * R / (v + m) + m * C / (m + v)\n",
        "\n",
        "vote_counts = df[df['vote_count'].notnull()]['vote_count'].astype('int')\n",
        "C = df[df['vote_average'].notnull()]['vote_average'].astype('int').mean()\n",
        "m = vote_counts.quantile(0.95)\n",
        "\n",
        "df['rating'] = df.apply(lambda x: weighted_rating(x, m, C), axis=1)\n",
        "df['rating'].plot.hist(bins=20)\n",
        "plt.title('Rating Distribution')\n",
        "plt.xlabel('Rating')\n",
        "plt.ylabel('N entries')\n",
        "del(df['vote_average'])\n",
        "del(df['vote_count'])\n",
        "df.reset_index(inplace=True)\n"
      ]
    },
    {
      "cell_type": "code",
      "execution_count": 7,
      "metadata": {
        "id": "VIet0as9kVhV"
      },
      "outputs": [],
      "source": [
        "from datetime import datetime\n",
        "\n",
        "df['unix_time'] = df['release_date'].apply(lambda x: int(datetime.strptime(x, \"%Y-%m-%d\").timestamp()))\n",
        "del(df['release_date'])\n",
        "df.rename({\"unix_time\":\"release_date_unix\"}, inplace=True)"
      ]
    },
    {
      "cell_type": "code",
      "execution_count": 8,
      "metadata": {
        "colab": {
          "base_uri": "https://localhost:8080/",
          "height": 537
        },
        "id": "6dyObcxfLaVa",
        "outputId": "2bdb2ce9-7022-4cf3-dc81-0f65cdba2ee9"
      },
      "outputs": [
        {
          "output_type": "display_data",
          "data": {
            "text/plain": [
              "<Figure size 640x480 with 1 Axes>"
            ],
            "image/png": "[encoded data removed]"
          },
          "metadata": {}
        }
      ],
      "source": [
        "df['budget'].plot.hist(bins=250)\n",
        "plt.title('Budget Distribution')\n",
        "plt.xlabel('Budget')\n",
        "plt.ylabel('N entries')\n",
        "plt.xscale('log')\n",
        "x_ticks = [10**6, 5*10**6,10**7, 5 * 10**7, 8 *10**7, 10**8]\n",
        "plt.xticks(x_ticks, [str(x) for x in x_ticks], rotation = 70)\n",
        "\n",
        "plt.show()\n",
        "\n"
      ]
    },
    {
      "cell_type": "markdown",
      "metadata": {
        "id": "tGRXttVEiA52"
      },
      "source": [
        "# **Data Overview**\n",
        "The cleaned data includes 40951 entries"
      ]
    },
    {
      "cell_type": "code",
      "execution_count": null,
      "metadata": {
        "colab": {
          "base_uri": "https://localhost:8080/"
        },
        "id": "1Xv_xwZDxtqB",
        "outputId": "45db6418-6f7b-4c82-a855-7431ac794ee5"
      },
      "outputs": [
        {
          "output_type": "stream",
          "name": "stdout",
          "text": [
            "<class 'pandas.core.frame.DataFrame'>\n",
            "RangeIndex: 40951 entries, 0 to 40950\n",
            "Data columns (total 19 columns):\n",
            " #   Column                 Non-Null Count  Dtype  \n",
            "---  ------                 --------------  -----  \n",
            " 0   level_0                40951 non-null  int64  \n",
            " 1   index                  40951 non-null  int64  \n",
            " 2   adult                  40951 non-null  object \n",
            " 3   belongs_to_collection  40951 non-null  object \n",
            " 4   budget                 40951 non-null  int64  \n",
            " 5   genres                 40951 non-null  object \n",
            " 6   id                     40951 non-null  int64  \n",
            " 7   popularity             40951 non-null  float64\n",
            " 8   production_companies   40951 non-null  object \n",
            " 9   production_countries   40951 non-null  object \n",
            " 10  revenue                40951 non-null  float64\n",
            " 11  runtime_days           40951 non-null  float64\n",
            " 12  spoken_languages       40951 non-null  object \n",
            " 13  title                  40951 non-null  object \n",
            " 14  year                   40951 non-null  object \n",
            " 15  rating                 40951 non-null  float64\n",
            " 16  unix_time              40951 non-null  int64  \n",
            " 17  description text       40951 non-null  object \n",
            " 18  description embedding  40951 non-null  object \n",
            "dtypes: float64(4), int64(5), object(10)\n",
            "memory usage: 5.9+ MB\n"
          ]
        }
      ],
      "source": [
        "df.info()"
      ]
    },
    {
      "cell_type": "code",
      "execution_count": 14,
      "metadata": {
        "id": "eXqAZ1f6lQDE"
      },
      "outputs": [],
      "source": [
        "df.to_csv('Movie_Recommendation_Processed.csv', index = False)"
      ]
    },
    {
      "cell_type": "markdown",
      "metadata": {
        "id": "d2yBrHllq4Tc"
      },
      "source": [
        "Done!\n",
        "\n",
        "\n",
        "\n",
        "\n",
        "\n",
        "\n",
        "\n",
        "\n",
        "\n"
      ]
    }
  ],
  "metadata": {
    "colab": {
      "provenance": []
    },
    "kernelspec": {
      "display_name": "Python 3",
      "name": "python3"
    },
    "language_info": {
      "name": "python"
    }
  },
  "nbformat": 4,
  "nbformat_minor": 0
}
