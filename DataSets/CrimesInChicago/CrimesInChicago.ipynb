{
  "cells": [
    {
      "cell_type": "markdown",
      "metadata": {
        "id": "1Kone1nET7HS"
      },
      "source": [
        "# Classic Search With Hyperspace\n",
        "This notebook demonstrates the use of Hyperspace engine for classic (keyword and value matching) search. The datase set is taken from [Kaggle](https://www.kaggle.com/datasets/chicago/chicago-crime).\n",
        "\n",
        "## The Dataset - Crimes In Chicago Dataset\n",
        "From Kaggle:\n",
        "\"This dataset reflects reported incidents of crime (with the exception of murders where data exists for each victim) that occurred in the City of Chicago from 2001 to present, minus the most recent seven days. Data is extracted from the Chicago Police Department's CLEAR (Citizen Law Enforcement Analysis and Reporting) system. In order to protect the privacy of crime victims, addresses are shown at the block level only and specific locations are not identified. This data includes unverified reports supplied to the Police Department. The preliminary crime classifications may be changed at a later date based upon additional investigation and there is always the possibility of mechanical or human error. Therefore, the Chicago Police Department does not guarantee (either expressed or implied) the accuracy, completeness, timeliness, or correct sequencing of the information and the information should not be used for comparison purposes over time.\"\n",
        "\n",
        "The dataset includes 8 Million documents.\n",
        "\n",
        "\n",
        "## Setting up the Hyper Space environment\n",
        "Setting the enviorment requires the following steps\n",
        "\n",
        "\n",
        "1. Download and install the client API\n",
        "2. Connect to a server\n",
        "3. Create data scheme file\n",
        "4. Create collection\n",
        "5. Ingest data\n",
        "6. Run query"
      ],
      "id": "1Kone1nET7HS"
    },
    {
      "cell_type": "markdown",
      "metadata": {
        "id": "LEChRdiP1ygv"
      },
      "source": [
        "We mount a cloud folder which hosts the client files and install the client"
      ],
      "id": "LEChRdiP1ygv"
    },
    {
      "cell_type": "markdown",
      "metadata": {
        "id": "SZwFmp6tVLZ_"
      },
      "source": [
        "###Install the Hyperspace client API\n"
      ],
      "id": "SZwFmp6tVLZ_"
    },
    {
      "cell_type": "code",
      "execution_count": 2,
      "metadata": {
        "colab": {
          "base_uri": "https://localhost:8080/"
        },
        "id": "l1DTYoFb1vnF",
        "outputId": "465faf8c-2799-4152-ad1f-1346d53c613c"
      },
      "outputs": [
        {
          "output_type": "stream",
          "name": "stdout",
          "text": [
            "Collecting git+https://github.com/hyper-space-io/hyperspace-py\n",
            "  Cloning https://github.com/hyper-space-io/hyperspace-py to /tmp/pip-req-build-cym8wpgw\n",
            "  Running command git clone --filter=blob:none --quiet https://github.com/hyper-space-io/hyperspace-py /tmp/pip-req-build-cym8wpgw\n",
            "  Resolved https://github.com/hyper-space-io/hyperspace-py to commit e397b51e57fd6c3d83cdde8a8ed1b6b81d0509a7\n",
            "  Preparing metadata (setup.py) ... \u001b[?25l\u001b[?25hdone\n",
            "Requirement already satisfied: urllib3>=1.15 in /usr/local/lib/python3.10/dist-packages (from hyperspace==1.0.0) (1.26.16)\n",
            "Requirement already satisfied: six>=1.10 in /usr/local/lib/python3.10/dist-packages (from hyperspace==1.0.0) (1.16.0)\n",
            "Requirement already satisfied: certifi in /usr/local/lib/python3.10/dist-packages (from hyperspace==1.0.0) (2023.7.22)\n",
            "Requirement already satisfied: python-dateutil in /usr/local/lib/python3.10/dist-packages (from hyperspace==1.0.0) (2.8.2)\n",
            "Building wheels for collected packages: hyperspace\n",
            "  Building wheel for hyperspace (setup.py) ... \u001b[?25l\u001b[?25hdone\n",
            "  Created wheel for hyperspace: filename=hyperspace-1.0.0-py3-none-any.whl size=35778 sha256=63969fa2c89094433ae89b6ce77c9dead40af18360f06c3e38822779362324d6\n",
            "  Stored in directory: /tmp/pip-ephem-wheel-cache-dq_9vkzt/wheels/c4/96/59/f4b91d653fdbfc819e48a7dacbea1c9f3de59a1bc113aa840d\n",
            "Successfully built hyperspace\n",
            "Installing collected packages: hyperspace\n",
            "Successfully installed hyperspace-1.0.0\n"
          ]
        }
      ],
      "source": [
        "pip install git+https://github.com/hyper-space-io/hyperspace-py"
      ],
      "id": "l1DTYoFb1vnF"
    },
    {
      "cell_type": "markdown",
      "metadata": {
        "id": "TCZSwM6DVeDm"
      },
      "source": [
        "###Connect to Server\n",
        "\n",
        "Using the Hyperspace engine requires connection to a remote machine with pre-provided credendtials."
      ],
      "id": "TCZSwM6DVeDm"
    },
    {
      "cell_type": "code",
      "execution_count": 3,
      "metadata": {
        "id": "8NVXuwyozUi7"
      },
      "outputs": [],
      "source": [
        "import hyperspace\n",
        "\n",
        "hyperspace_client = hyperspace.HyperspaceClientApi(host='https://search-master-demo.development.hyper-space.xyz',\n",
        "                                                   username=username, password=password)"
      ],
      "id": "8NVXuwyozUi7"
    },
    {
      "cell_type": "markdown",
      "source": [
        "We check the status before proceeding"
      ],
      "metadata": {
        "id": "1rxCqQ58kuzL"
      },
      "id": "1rxCqQ58kuzL"
    },
    {
      "cell_type": "code",
      "execution_count": 5,
      "metadata": {
        "id": "cH_lWsLLza0n",
        "colab": {
          "base_uri": "https://localhost:8080/",
          "height": 121
        },
        "outputId": "e2ead2a2-7506-44a5-9c3d-083b6bebc66c"
      },
      "outputs": [
        {
          "output_type": "display_data",
          "data": {
            "text/plain": [
              "[{'Collections size': {'all-MiniLM-L6-v2%20ArXiv%20titles': 376501},\n",
              "  'FPGA memory usage in GB': '0.1045GB',\n",
              "  'FPGA memory usage in percentage': '0.1045%',\n",
              "  'Hostname': 'hyperspace-demo-0',\n",
              "  'Number of total vectors': 376501},\n",
              " {'Number of data nodes': 1}]"
            ]
          },
          "metadata": {}
        }
      ],
      "source": [
        "cluster_status = hyperspace_client.cluster_status()\n",
        "display(cluster_status)"
      ],
      "id": "cH_lWsLLza0n"
    },
    {
      "cell_type": "markdown",
      "metadata": {
        "id": "HXmdh3YGVfQV"
      },
      "source": [
        "###Create the data scheme file\n",
        "\n",
        "Similarly to other search databases, Hyperspace requires a data schema file which outlines the data scheme."
      ],
      "id": "HXmdh3YGVfQV"
    },
    {
      "cell_type": "code",
      "source": [
        "import json\n",
        "\n",
        "config = {\n",
        "  \"configuration\": {\n",
        "    \"ID\": {\n",
        "      \"type\": \"integer\"\n",
        "    },\n",
        "    \"Case Number\": {\n",
        "      \"type\": \"keyword\"\n",
        "    },\n",
        "    \"Date\": {\n",
        "      \"type\": \"date\",\n",
        "      \"format\": \"MM/dd/yyyy hh:mm:ss a\"\n",
        "    },\n",
        "    \"Block\": {\n",
        "      \"type\": \"keyword\"\n",
        "    },\n",
        "    \"IUCR\": {\n",
        "      \"type\": \"keyword\"\n",
        "    },\n",
        "    \"Primary Type\": {\n",
        "      \"type\": \"keyword\"\n",
        "    },\n",
        "    \"Description\": {\n",
        "      \"type\": \"keyword\"\n",
        "    },\n",
        "    \"Location Description\": {\n",
        "      \"type\": \"keyword\"\n",
        "    },\n",
        "    \"Arrest\": {\n",
        "      \"type\": \"boolean\"\n",
        "    },\n",
        "    \"Domestic\": {\n",
        "      \"type\": \"boolean\"\n",
        "    },\n",
        "    \"Beat\": {\n",
        "      \"type\": \"integer\"\n",
        "    },\n",
        "    \"District\": {\n",
        "      \"type\": \"integer\"\n",
        "    },\n",
        "    \"Ward\": {\n",
        "      \"type\": \"integer\"\n",
        "    },\n",
        "    \"Community Area\": {\n",
        "      \"type\": \"integer\"\n",
        "    },\n",
        "    \"FBI Code\": {\n",
        "      \"type\": \"keyword\"\n",
        "    },\n",
        "    \"X Coordinate\": {\n",
        "      \"type\": \"integer\"\n",
        "    },\n",
        "    \"Y Coordinate\": {\n",
        "      \"type\": \"integer\"\n",
        "    },\n",
        "    \"Year\": {\n",
        "      \"type\": \"integer\"\n",
        "    },\n",
        "    \"Updated On\": {\n",
        "      \"type\": \"date\",\n",
        "      \"format\": \"MM/dd/yyyy hh:mm:ss a\"\n",
        "    },\n",
        "    \"Latitude\": {\n",
        "      \"type\": \"float\"\n",
        "    },\n",
        "    \"Longitude\": {\n",
        "      \"type\": \"float\"\n",
        "    },\n",
        "    \"Location\": {\n",
        "      \"type\": \"geo_point\",\n",
        "      \"struct_type\": \"list\"\n",
        "    }\n",
        "  }\n",
        "}\n",
        "\n",
        "with open('crime-config.json', 'w') as f:\n",
        "    f.write(json.dumps(config, indent=2))\n",
        "\n"
      ],
      "metadata": {
        "id": "wEPB1q3mno6H"
      },
      "id": "wEPB1q3mno6H",
      "execution_count": 6,
      "outputs": []
    },
    {
      "cell_type": "markdown",
      "source": [
        "The dataset fields\n",
        "\n",
        "\n",
        "1. **Case Number {'type': 'keyword'}** -\n",
        "The Chicago Police Department RD Number (Records Division Number), which is unique to the incident.\n",
        "2. **Date {'type': 'date', 'format': 'MM/dd/yyyy hh:mm:ss a'}** - Date when the incident occurred. this is sometimes a best estimate.\n",
        "3. **Block {'type 'keyword'}** -The partially redacted address where the incident occurred, placing it on the same block as the actual address.\n",
        "4. **IUCR {'type 'keyword'}** - The Illinois Unifrom Crime Reporting code. This is directly linked to the Primary Type and Description. See the list of IUCR codes at https://data.cityofchicago.org/d/c7ck-438e.\n",
        "5. **Primary Type {'type 'keyword'}** - The primary description of the IUCR code.\n",
        "6. **Description {'type 'keyword'}** - The secondary description of the IUCR code, a subcategory of the primary description.\n",
        "7. **Location Description {'type 'keyword'}** - Description of the location where the incident occurred.\n",
        "8. **Arrest {'type 'boolean'}** - Indicates whether an arrest was made.\n",
        "9. **Domestic {'type 'boolean'}** - Indicates whether the incident was domestic-related as defined by the Illinois Domestic Violence Act.\n",
        "10. **Beat {'type 'integer'}** - Indicates the beat where the incident occurred. A beat is the smallest police geographic area – each beat has a dedicated police beat car. Three to five beats make up a police sector, and three sectors make up a police district. The Chicago Police Department has 22 police districts. See the beats at https://data.cityofchicago.org/d/aerh-rz74.\n",
        "11. **District {'type 'integer'}** - Indicates the police district where the incident occurred. See the districts at https://data.cityofchicago.org/d/fthy-xz3r.\n",
        "12. **Ward {'type 'integer'}** - The ward (City Council district) where the incident occurred. See the wards at https://data.cityofchicago.org/d/sp34-6z76.\n",
        "13. **Community Area {'type 'integer'}** - Indicates the community area where the incident occurred. Chicago has 77 community areas. See the community areas at https://data.cityofchicago.org/d/cauq-8yn6.\n",
        "14. **FBI Code {'type 'keyword'}** - Indicates the crime classification as outlined in the FBI's National Incident-Based Reporting System (NIBRS). See the Chicago Police Department listing of these classifications at http://gis.chicagopolice.org/clearmap_crime_sums/crime_types.html.\n",
        "15. **X Coordinate {'type 'integer'}** - The x coordinate of the location where the incident occurred in State Plane Illinois East NAD 1983 projection. This location is shifted from the actual location for partial redaction but falls on the same block.\n",
        "16. **Y Coordinate {'type 'integer'}** - The y coordinate of the location where the incident occurred in State Plane Illinois East NAD 1983 projection. This location is shifted from the actual location for partial redaction but falls on the same block.\n",
        "17. **Year {'type 'integer'}** - Year the incident occurred.\n",
        "18. **Updated On {'type 'date', 'format 'MM/dd/yyyy hh:mm:ss a'}** - Date and time the record was last updated.\n",
        "19. **Latitude {'type 'float'}** - The latitude of the location where the incident occurred. This location is shifted from the actual location for partial redaction but falls on the same block.\n",
        "20. **Longitude {'type 'float'}** - The longitude of the location where the incident occurred. This location is shifted from the actual location for partial redaction but falls on the same block.\n",
        "21. **Location {'type 'geo_point', 'struct_type 'list'}** - The location where the incident occurred in a format that allows for creation of maps and other geographic operations on this data portal. This location is shifted from the actual location for partial redaction but falls on the same block.\n",
        "\n",
        "  \n",
        "  \n",
        "  \n",
        "  \n",
        "  \n",
        "\n"
      ],
      "metadata": {
        "id": "aGy0rFa7ZiT7"
      },
      "id": "aGy0rFa7ZiT7"
    },
    {
      "cell_type": "markdown",
      "metadata": {
        "id": "7RTDkUsr3ead"
      },
      "source": [
        "### Create Collection\n",
        "Collections are used to store data of similar context, etc. We will erase the current collection, create a new one, and ingest data."
      ],
      "id": "7RTDkUsr3ead"
    },
    {
      "cell_type": "code",
      "execution_count": 8,
      "metadata": {
        "colab": {
          "base_uri": "https://localhost:8080/"
        },
        "id": "aOj7VVTtlM_o",
        "outputId": "d4d4f418-93f7-452b-f793-a1529e73f2c6"
      },
      "outputs": [
        {
          "output_type": "execute_result",
          "data": {
            "text/plain": [
              "[{'Collections size': {'CrimesInChicago': 0,\n",
              "   'all-MiniLM-L6-v2%20ArXiv%20titles': 376501},\n",
              "  'FPGA memory usage in GB': '0.1047GB',\n",
              "  'FPGA memory usage in percentage': '0.1047%',\n",
              "  'Hostname': 'hyperspace-demo-0',\n",
              "  'Number of total vectors': 376501},\n",
              " {'Number of data nodes': 1}]"
            ]
          },
          "metadata": {},
          "execution_count": 8
        }
      ],
      "source": [
        "delete_collections = True\n",
        "collection_name = 'CrimesInChicago'\n",
        "\n",
        "if delete_collections:\n",
        "  if collection_name in cluster_status[0]['Collections size']:\n",
        "    hyperspace_client.delete_collection(collection_name)\n",
        "\n",
        "hyperspace_client.create_collection('crime-config.json', collection_name)\n",
        "hyperspace_client.cluster_status()"
      ],
      "id": "aOj7VVTtlM_o"
    },
    {
      "cell_type": "markdown",
      "metadata": {
        "id": "lUpgHD2VWFXd"
      },
      "source": [
        "### Ingest data\n",
        "\n",
        "We load the datasets from and ingest it in batches of 500 documents"
      ],
      "id": "lUpgHD2VWFXd"
    },
    {
      "cell_type": "code",
      "execution_count": 9,
      "metadata": {
        "id": "94de3343"
      },
      "outputs": [],
      "source": [
        "metadata = open('crimes-dataset-processed_data.json')"
      ],
      "id": "94de3343"
    },
    {
      "cell_type": "code",
      "source": [
        "BATCH_SIZE = 500\n",
        "\n",
        "batch = []\n",
        "for i, metadata_row in enumerate(metadata):\n",
        "    row = {key: value for key, value in json.loads(metadata_row).items() if key in config[\"configuration\"].keys()}\n",
        "    batch.append(hyperspace.Document(str(i), row))\n",
        "\n",
        "    if i % BATCH_SIZE == 0:\n",
        "        response = hyperspace_client.add_batch(batch, collection_name)\n",
        "        batch.clear()\n",
        "        print(i, response)\n",
        "\n"
      ],
      "metadata": {
        "id": "qPTZ0a1-mPj2"
      },
      "id": "qPTZ0a1-mPj2",
      "execution_count": null,
      "outputs": []
    },
    {
      "cell_type": "code",
      "source": [
        "hyperspace_client.commit(collection_name)"
      ],
      "metadata": {
        "colab": {
          "base_uri": "https://localhost:8080/"
        },
        "id": "WAKc15t7nOvt",
        "outputId": "8e86eaf2-164c-4008-a71d-07662cff3876"
      },
      "id": "WAKc15t7nOvt",
      "execution_count": 13,
      "outputs": [
        {
          "output_type": "execute_result",
          "data": {
            "text/plain": [
              "{'code': 200, 'message': 'Dataset committed successfully', 'status': 'OK'}"
            ]
          },
          "metadata": {},
          "execution_count": 13
        }
      ]
    },
    {
      "cell_type": "markdown",
      "metadata": {
        "id": "8lRgTyKwWJ84"
      },
      "source": [
        "#Define Logic and Run a Query\n",
        "We will build a classic search query using Hyperspace. In the query,  we will randomly select an incident and find similar one. The score function is given under\n",
        "Crime_Score_Function.py\n"
      ],
      "id": "8lRgTyKwWJ84"
    },
    {
      "cell_type": "code",
      "execution_count": 14,
      "metadata": {
        "colab": {
          "base_uri": "https://localhost:8080/"
        },
        "id": "0YdFBOCsOJka",
        "outputId": "5767eeb4-bf99-4e34-eb77-7a1832c71341"
      },
      "outputs": [
        {
          "output_type": "stream",
          "name": "stdout",
          "text": [
            "{'Arrest': False,\n",
            " 'Beat': 522,\n",
            " 'Block': '0000X W 114TH PL',\n",
            " 'Case Number': 'HY411431',\n",
            " 'Community Area': 49,\n",
            " 'Date': 1441439580,\n",
            " 'Description': 'AGGRAVATED:KNIFE/CUTTING INSTR',\n",
            " 'District': 5,\n",
            " 'Domestic': False,\n",
            " 'FBI Code': '04B',\n",
            " 'ID': 10224815,\n",
            " 'IUCR': '0420',\n",
            " 'Latitude': 41.686218054,\n",
            " 'Location': [41.686218054, -87.623739069],\n",
            " 'Location Description': 'RESIDENCE',\n",
            " 'Longitude': -87.623739069,\n",
            " 'Primary Type': 'BATTERY',\n",
            " 'Updated On': 1518270601,\n",
            " 'Ward': 34,\n",
            " 'X Coordinate': 1178072,\n",
            " 'Y Coordinate': 1829048,\n",
            " 'Year': 2015}\n"
          ]
        }
      ],
      "source": [
        "from pprint import pprint\n",
        "\n",
        "input_vector = hyperspace_client.get_document(collection_name, \"65\")\n",
        "pprint(input_vector)"
      ],
      "id": "0YdFBOCsOJka"
    },
    {
      "cell_type": "markdown",
      "source": [
        "We will use a very simple logic, which matchs the description and location, and make sure case number doesn't match so we won't get back the same result.\n",
        "\n",
        "We use the following logic:\n",
        "\n",
        "\n",
        "*   Match crime description and not case number\n",
        "*   geo_dist match (ge distance)\n",
        "*   Match district and window_match the date\n",
        "*   Match Block\n",
        "\n",
        "Score function can be view in the next block\n",
        "\n",
        "\n",
        "\n"
      ],
      "metadata": {
        "id": "ozeEfW7b6g9Z"
      },
      "id": "ozeEfW7b6g9Z"
    },
    {
      "cell_type": "code",
      "source": [
        "def similarity_sf(Q, V):\n",
        "    score = 0.0\n",
        "\n",
        "    if match('Description') and not match('Case Number'):\n",
        "        score = rarity_max('Description')\n",
        "    if geo_dist_match('Location',4):\n",
        "        score += 10\n",
        "    if match('District') and window_match('Date', \"100d\", \"40d\"):\n",
        "        score -= 5\n",
        "    return score\n"
      ],
      "metadata": {
        "id": "U7855U01Bp8X"
      },
      "id": "U7855U01Bp8X",
      "execution_count": null,
      "outputs": []
    },
    {
      "cell_type": "code",
      "execution_count": 22,
      "metadata": {
        "colab": {
          "base_uri": "https://localhost:8080/"
        },
        "id": "5ff98e9d",
        "outputId": "9d421676-7386-481d-b467-fffdc8b04b6a"
      },
      "outputs": [
        {
          "output_type": "stream",
          "name": "stdout",
          "text": [
            "query run time: 3.16817\n",
            "1 id 125277 score =  14.190526962280273 : {'Arrest': False, 'Beat': 522, 'Block': '0000X W 114TH PL', 'Case Number': 'HY554174', 'Community Area': 49, 'Date': 1451404800, 'Description': 'AUTOMOBILE', 'District': 5, 'Domestic': False, 'FBI Code': '07', 'ID': 10362444, 'IUCR': '0910', 'Latitude': 41.686211437, 'Location': [41.686211437, -87.624445722], 'Location Description': 'STREET', 'Longitude': -87.624445722, 'Primary Type': 'MOTOR VEHICLE THEFT', 'Updated On': 1452176074, 'Ward': 34, 'X Coordinate': 1177879, 'Y Coordinate': 1829044, 'Year': 2015}\n",
            "2 id 13936 score =  14.190526962280273 : {'Arrest': True, 'Beat': 522, 'Block': '0000X W 114TH PL', 'Case Number': 'HY434421', 'Community Area': 49, 'Date': 1442949840, 'Description': 'AGGRAVATED DOMESTIC BATTERY: OTHER DANG WEAPON', 'District': 5, 'Domestic': True, 'FBI Code': '04B', 'ID': 10246412, 'IUCR': '0497', 'Latitude': 41.68621653, 'Location': [41.68621653, -87.623936782], 'Location Description': 'RESIDENCE', 'Longitude': -87.623936782, 'Primary Type': 'BATTERY', 'Updated On': 1443616537, 'Ward': 34, 'X Coordinate': 1178018, 'Y Coordinate': 1829047, 'Year': 2015}\n",
            "3 id 177880 score =  14.190526962280273 : {'Arrest': False, 'Beat': 522, 'Block': '0000X W 114TH PL', 'Case Number': 'HZ194224', 'Community Area': 49, 'Date': 1458208800, 'Description': 'FROM BUILDING', 'District': 5, 'Domestic': False, 'FBI Code': '06', 'ID': 10454848, 'IUCR': '0890', 'Latitude': 41.686214418, 'Location': [41.686214418, -87.624039314], 'Location Description': 'RESIDENCE', 'Longitude': -87.624039314, 'Primary Type': 'THEFT', 'Updated On': 1518270601, 'Ward': 34, 'X Coordinate': 1177990, 'Y Coordinate': 1829046, 'Year': 2016}\n",
            "4 id 231186 score =  14.190526962280273 : {'Arrest': True, 'Beat': 522, 'Block': '0000X W 114TH PL', 'Case Number': 'HZ349951', 'Community Area': 49, 'Date': 1468562400, 'Description': 'DOMESTIC BATTERY SIMPLE', 'District': 5, 'Domestic': True, 'FBI Code': '08B', 'ID': 10599008, 'IUCR': '0486', 'Latitude': 41.68621653, 'Location': [41.68621653, -87.623936782], 'Location Description': 'STREET', 'Longitude': -87.623936782, 'Primary Type': 'BATTERY', 'Updated On': 1518270601, 'Ward': 34, 'X Coordinate': 1178018, 'Y Coordinate': 1829047, 'Year': 2016}\n",
            "5 id 278160 score =  14.190526962280273 : {'Arrest': True, 'Beat': 522, 'Block': '0000X W 114TH PL', 'Case Number': 'HV299689', 'Community Area': 49, 'Date': 1337770800, 'Description': 'POSS: HEROIN(WHITE)', 'District': 5, 'Domestic': False, 'FBI Code': '18', 'ID': 10887619, 'IUCR': '2024', 'Latitude': None, 'Location': [], 'Location Description': 'STREET', 'Longitude': None, 'Primary Type': 'NARCOTICS', 'Updated On': 1498913146, 'Ward': 34, 'X Coordinate': None, 'Y Coordinate': None, 'Year': 2012}\n",
            "6 id 284362 score =  14.190526962280273 : {'Arrest': False, 'Beat': 522, 'Block': '0000X W 114TH PL', 'Case Number': 'HZ256120', 'Community Area': 49, 'Date': 1462575600, 'Description': 'FORCIBLE ENTRY', 'District': 5, 'Domestic': False, 'FBI Code': '05', 'ID': 10514242, 'IUCR': '0610', 'Latitude': 41.68621705, 'Location': [41.68621705, -87.62402098], 'Location Description': 'RESIDENCE-GARAGE', 'Longitude': -87.62402098, 'Primary Type': 'BURGLARY', 'Updated On': 1518270601, 'Ward': 34, 'X Coordinate': 1177995, 'Y Coordinate': 1829047, 'Year': 2016}\n",
            "7 id 297057 score =  14.190526962280273 : {'Arrest': False, 'Beat': 522, 'Block': '0000X W 114TH PL', 'Case Number': 'JC473205', 'Community Area': 49, 'Date': 1571118840, 'Description': 'DOMESTIC BATTERY SIMPLE', 'District': 5, 'Domestic': False, 'FBI Code': '08B', 'ID': 11861341, 'IUCR': '0486', 'Latitude': 41.686214418, 'Location': [41.686214418, -87.624039314], 'Location Description': 'APARTMENT', 'Longitude': -87.624039314, 'Primary Type': 'BATTERY', 'Updated On': 1571749786, 'Ward': 34, 'X Coordinate': 1177990, 'Y Coordinate': 1829046, 'Year': 2019}\n",
            "8 id 304082 score =  14.190526962280273 : {'Arrest': False, 'Beat': 522, 'Block': '0000X W 114TH PL', 'Case Number': 'HZ291308', 'Community Area': 49, 'Date': 1464907200, 'Description': 'AGGRAVATED DOMESTIC BATTERY: KNIFE/CUTTING INST', 'District': 5, 'Domestic': True, 'FBI Code': '04B', 'ID': 10545528, 'IUCR': '0496', 'Latitude': 41.686216146, 'Location': [41.686216146, -87.623874549], 'Location Description': 'RESIDENCE', 'Longitude': -87.623874549, 'Primary Type': 'BATTERY', 'Updated On': 1518270601, 'Ward': 34, 'X Coordinate': 1178035, 'Y Coordinate': 1829047, 'Year': 2016}\n",
            "9 id 34082 score =  14.190526962280273 : {'Arrest': False, 'Beat': 522, 'Block': '0000X W 114TH PL', 'Case Number': 'HY468699', 'Community Area': 49, 'Date': 1445283000, 'Description': 'DOMESTIC BATTERY SIMPLE', 'District': 5, 'Domestic': True, 'FBI Code': '08B', 'ID': 10280367, 'IUCR': '0486', 'Latitude': 41.686214418, 'Location': [41.686214418, -87.624039314], 'Location Description': 'APARTMENT', 'Longitude': -87.624039314, 'Primary Type': 'BATTERY', 'Updated On': 1518270601, 'Ward': 34, 'X Coordinate': 1177990, 'Y Coordinate': 1829046, 'Year': 2015}\n",
            "10 id 37222 score =  14.190526962280273 : {'Arrest': False, 'Beat': 522, 'Block': '0000X W 114TH PL', 'Case Number': 'HY474009', 'Community Area': 49, 'Date': 1445623200, 'Description': 'DOMESTIC BATTERY SIMPLE', 'District': 5, 'Domestic': True, 'FBI Code': '08B', 'ID': 10286251, 'IUCR': '0486', 'Latitude': 41.686216146, 'Location': [41.686216146, -87.623874549], 'Location Description': 'RESIDENCE', 'Longitude': -87.623874549, 'Primary Type': 'BATTERY', 'Updated On': 1518270601, 'Ward': 34, 'X Coordinate': 1178035, 'Y Coordinate': 1829047, 'Year': 2015}\n",
            "11 id 4532 score =  14.190526962280273 : {'Arrest': False, 'Beat': 522, 'Block': '0000X W 114TH PL', 'Case Number': 'HY418962', 'Community Area': 49, 'Date': 1441953900, 'Description': 'SIMPLE', 'District': 5, 'Domestic': False, 'FBI Code': '08B', 'ID': 10231362, 'IUCR': '0460', 'Latitude': 41.686219916, 'Location': [41.686219916, -87.623596268], 'Location Description': 'STREET', 'Longitude': -87.623596268, 'Primary Type': 'BATTERY', 'Updated On': 1518270601, 'Ward': 34, 'X Coordinate': 1178111, 'Y Coordinate': 1829049, 'Year': 2015}\n",
            "12 id 6003 score =  14.190526962280273 : {'Arrest': False, 'Beat': 522, 'Block': '0000X W 114TH PL', 'Case Number': 'HY421423', 'Community Area': 49, 'Date': 1442123100, 'Description': 'SIMPLE', 'District': 5, 'Domestic': False, 'FBI Code': '08B', 'ID': 10233280, 'IUCR': '0460', 'Latitude': 41.686214418, 'Location': [41.686214418, -87.624039314], 'Location Description': 'APARTMENT', 'Longitude': -87.624039314, 'Primary Type': 'BATTERY', 'Updated On': 1518270601, 'Ward': 34, 'X Coordinate': 1177990, 'Y Coordinate': 1829046, 'Year': 2015}\n",
            "13 id 61920 score =  14.190526962280273 : {'Arrest': False, 'Beat': 522, 'Block': '0000X W 114TH PL', 'Case Number': 'HY517448', 'Community Area': 49, 'Date': 1448697600, 'Description': 'DOMESTIC BATTERY SIMPLE', 'District': 5, 'Domestic': True, 'FBI Code': '08B', 'ID': 10326778, 'IUCR': '0486', 'Latitude': 41.686214418, 'Location': [41.686214418, -87.624039314], 'Location Description': 'APARTMENT', 'Longitude': -87.624039314, 'Primary Type': 'BATTERY', 'Updated On': 1518270601, 'Ward': 34, 'X Coordinate': 1177990, 'Y Coordinate': 1829046, 'Year': 2015}\n",
            "14 id 65 score =  14.190526962280273 : {'Arrest': False, 'Beat': 522, 'Block': '0000X W 114TH PL', 'Case Number': 'HY411431', 'Community Area': 49, 'Date': 1441439580, 'Description': 'AGGRAVATED:KNIFE/CUTTING INSTR', 'District': 5, 'Domestic': False, 'FBI Code': '04B', 'ID': 10224815, 'IUCR': '0420', 'Latitude': 41.686218054, 'Location': [41.686218054, -87.623739069], 'Location Description': 'RESIDENCE', 'Longitude': -87.623739069, 'Primary Type': 'BATTERY', 'Updated On': 1518270601, 'Ward': 34, 'X Coordinate': 1178072, 'Y Coordinate': 1829048, 'Year': 2015}\n",
            "15 id 71213 score =  14.190526962280273 : {'Arrest': False, 'Beat': 522, 'Block': '0000X W 114TH PL', 'Case Number': 'HY355129', 'Community Area': 49, 'Date': 1427882400, 'Description': 'OVER $500', 'District': 5, 'Domestic': False, 'FBI Code': '06', 'ID': 10166813, 'IUCR': '0810', 'Latitude': 41.686216824, 'Location': [41.686216824, -87.623984372], 'Location Description': 'RESIDENCE PORCH/HALLWAY', 'Longitude': -87.623984372, 'Primary Type': 'THEFT', 'Updated On': 1518270601, 'Ward': 34, 'X Coordinate': 1178005, 'Y Coordinate': 1829047, 'Year': 2015}\n",
            "16 id 87921 score =  14.190526962280273 : {'Arrest': False, 'Beat': 522, 'Block': '0000X W 114TH PL', 'Case Number': 'HY382528', 'Community Area': 49, 'Date': 1439560800, 'Description': 'SIMPLE', 'District': 5, 'Domestic': False, 'FBI Code': '08B', 'ID': 10195518, 'IUCR': '0460', 'Latitude': 41.686211776, 'Location': [41.686211776, -87.624500634], 'Location Description': 'RESIDENCE', 'Longitude': -87.624500634, 'Primary Type': 'BATTERY', 'Updated On': 1518270601, 'Ward': 34, 'X Coordinate': 1177864, 'Y Coordinate': 1829044, 'Year': 2015}\n",
            "17 id 1007 score =  11.90092658996582 : {'Arrest': False, 'Beat': 1724, 'Block': '044XX N RICHMOND ST', 'Case Number': 'HY413211', 'Community Area': 14, 'Date': 1441561500, 'Description': 'AGGRAVATED:KNIFE/CUTTING INSTR', 'District': 17, 'Domestic': False, 'FBI Code': '04A', 'ID': 10225914, 'IUCR': '0520', 'Latitude': 41.961852026, 'Location': [41.961852026, -87.702151769], 'Location Description': 'STREET', 'Longitude': -87.702151769, 'Primary Type': 'ASSAULT', 'Updated On': 1518270601, 'Ward': 33, 'X Coordinate': 1155916, 'Y Coordinate': 1929321, 'Year': 2015}\n",
            "18 id 1021 score =  11.90092658996582 : {'Arrest': True, 'Beat': 531, 'Block': '114XX S PRAIRIE AVE', 'Case Number': 'HY413236', 'Community Area': 49, 'Date': 1441561500, 'Description': 'AGGRAVATED:KNIFE/CUTTING INSTR', 'District': 5, 'Domestic': False, 'FBI Code': '04B', 'ID': 10225933, 'IUCR': '0420', 'Latitude': 41.686521024, 'Location': [41.686521024, -87.61683831], 'Location Description': 'RESIDENCE', 'Longitude': -87.61683831, 'Primary Type': 'BATTERY', 'Updated On': 1518270601, 'Ward': 9, 'X Coordinate': 1179956, 'Y Coordinate': 1829174, 'Year': 2015}\n",
            "19 id 1148 score =  11.90092658996582 : {'Arrest': True, 'Beat': 321, 'Block': '065XX S RHODES AVE', 'Case Number': 'HY413465', 'Community Area': 42, 'Date': 1441566000, 'Description': 'AGGRAVATED:KNIFE/CUTTING INSTR', 'District': 3, 'Domestic': True, 'FBI Code': '04A', 'ID': 10226083, 'IUCR': '0520', 'Latitude': 41.776105804, 'Location': [41.776105804, -87.611926629], 'Location Description': 'APARTMENT', 'Longitude': -87.611926629, 'Primary Type': 'ASSAULT', 'Updated On': 1518270601, 'Ward': 20, 'X Coordinate': 1181024, 'Y Coordinate': 1861829, 'Year': 2015}\n",
            "20 id 1176 score =  11.90092658996582 : {'Arrest': False, 'Beat': 714, 'Block': '062XX S MARSHFIELD AVE', 'Case Number': 'HY413529', 'Community Area': 67, 'Date': 1441584000, 'Description': 'AGGRAVATED:KNIFE/CUTTING INSTR', 'District': 7, 'Domestic': False, 'FBI Code': '04B', 'ID': 10226118, 'IUCR': '0420', 'Latitude': 41.780683143, 'Location': [41.780683143, -87.665459906], 'Location Description': 'RESIDENTIAL YARD (FRONT/BACK)', 'Longitude': -87.665459906, 'Primary Type': 'BATTERY', 'Updated On': 1518270601, 'Ward': 16, 'X Coordinate': 1166409, 'Y Coordinate': 1863379, 'Year': 2015}\n",
            "21 id 228 score =  11.90092658996582 : {'Arrest': True, 'Beat': 1225, 'Block': '018XX W JACKSON BLVD', 'Case Number': 'HY411896', 'Community Area': 28, 'Date': 1441463760, 'Description': 'AGGRAVATED:KNIFE/CUTTING INSTR', 'District': 12, 'Domestic': False, 'FBI Code': '04B', 'ID': 10225013, 'IUCR': '0420', 'Latitude': 41.877532516, 'Location': [41.877532516, -87.672336114], 'Location Description': 'CONSTRUCTION SITE', 'Longitude': -87.672336114, 'Primary Type': 'BATTERY', 'Updated On': 1518270601, 'Ward': 2, 'X Coordinate': 1164262, 'Y Coordinate': 1898656, 'Year': 2015}\n",
            "22 id 288 score =  11.90092658996582 : {'Arrest': False, 'Beat': 1914, 'Block': '045XX N MARINE DR', 'Case Number': 'HY412166', 'Community Area': 3, 'Date': 1441480500, 'Description': 'AGGRAVATED:KNIFE/CUTTING INSTR', 'District': 19, 'Domestic': False, 'FBI Code': '04A', 'ID': 10225098, 'IUCR': '0520', 'Latitude': 41.964633904, 'Location': [41.964633904, -87.648400513], 'Location Description': 'PARK PROPERTY', 'Longitude': -87.648400513, 'Primary Type': 'ASSAULT', 'Updated On': 1518270601, 'Ward': 46, 'X Coordinate': 1170527, 'Y Coordinate': 1930447, 'Year': 2015}\n",
            "23 id 322 score =  11.90092658996582 : {'Arrest': True, 'Beat': 2031, 'Block': '028XX W LAWRENCE AVE', 'Case Number': 'HY412217', 'Community Area': 4, 'Date': 1441454400, 'Description': 'AGGRAVATED:KNIFE/CUTTING INSTR', 'District': 20, 'Domestic': True, 'FBI Code': '04A', 'ID': 10225135, 'IUCR': '0520', 'Latitude': 41.968529752, 'Location': [41.968529752, -87.698860976], 'Location Description': 'PARK PROPERTY', 'Longitude': -87.698860976, 'Primary Type': 'ASSAULT', 'Updated On': 1518270601, 'Ward': 40, 'X Coordinate': 1156793, 'Y Coordinate': 1931761, 'Year': 2015}\n",
            "24 id 413 score =  11.90092658996582 : {'Arrest': False, 'Beat': 1123, 'Block': '002XX N ST LOUIS AVE', 'Case Number': 'HY412306', 'Community Area': 27, 'Date': 1441494000, 'Description': 'AGGRAVATED:KNIFE/CUTTING INSTR', 'District': 11, 'Domestic': False, 'FBI Code': '04B', 'ID': 10225234, 'IUCR': '0420', 'Latitude': 41.885759278, 'Location': [41.885759278, -87.713588042], 'Location Description': 'SIDEWALK', 'Longitude': -87.713588042, 'Primary Type': 'BATTERY', 'Updated On': 1518270601, 'Ward': 28, 'X Coordinate': 1153006, 'Y Coordinate': 1901570, 'Year': 2015}\n",
            "25 id 438 score =  11.90092658996582 : {'Arrest': False, 'Beat': 233, 'Block': '006XX E 51ST ST', 'Case Number': 'HY412385', 'Community Area': 40, 'Date': 1441492800, 'Description': 'AGGRAVATED:KNIFE/CUTTING INSTR', 'District': 2, 'Domestic': False, 'FBI Code': '04B', 'ID': 10225265, 'IUCR': '0420', 'Latitude': 41.802173267, 'Location': [41.802173267, -87.610974131], 'Location Description': 'STREET', 'Longitude': -87.610974131, 'Primary Type': 'BATTERY', 'Updated On': 1518270601, 'Ward': 4, 'X Coordinate': 1181204, 'Y Coordinate': 1871330, 'Year': 2015}\n",
            "26 id 456 score =  11.90092658996582 : {'Arrest': False, 'Beat': 1913, 'Block': '045XX N BROADWAY', 'Case Number': 'HY409709', 'Community Area': 3, 'Date': 1441337160, 'Description': 'AGGRAVATED:KNIFE/CUTTING INSTR', 'District': 19, 'Domestic': False, 'FBI Code': '04B', 'ID': 10225282, 'IUCR': '0420', 'Latitude': 41.964618881, 'Location': [41.964618881, -87.656975296], 'Location Description': 'ALLEY', 'Longitude': -87.656975296, 'Primary Type': 'BATTERY', 'Updated On': 1518270601, 'Ward': 46, 'X Coordinate': 1168195, 'Y Coordinate': 1930423, 'Year': 2015}\n",
            "27 id 581 score =  11.90092658996582 : {'Arrest': True, 'Beat': 613, 'Block': '082XX S RACINE AVE', 'Case Number': 'HY236509', 'Community Area': 71, 'Date': 1430036160, 'Description': 'AGGRAVATED:KNIFE/CUTTING INSTR', 'District': 6, 'Domestic': False, 'FBI Code': '04A', 'ID': 10047230, 'IUCR': '0520', 'Latitude': 41.744229473, 'Location': [41.744229473, -87.653569625], 'Location Description': 'CONVENIENCE STORE', 'Longitude': -87.653569625, 'Primary Type': 'ASSAULT', 'Updated On': 1518270601, 'Ward': 21, 'X Coordinate': 1169757, 'Y Coordinate': 1850121, 'Year': 2015}\n",
            "28 id 603 score =  11.90092658996582 : {'Arrest': True, 'Beat': 2534, 'Block': '043XX W NORTH AVE', 'Case Number': 'HY412589', 'Community Area': 23, 'Date': 1441524060, 'Description': 'AGGRAVATED:KNIFE/CUTTING INSTR', 'District': 25, 'Domestic': False, 'FBI Code': '04B', 'ID': 10225464, 'IUCR': '0420', 'Latitude': 41.909770708, 'Location': [41.909770708, -87.735196552], 'Location Description': 'PARKING LOT/GARAGE(NON.RESID.)', 'Longitude': -87.735196552, 'Primary Type': 'BATTERY', 'Updated On': 1518270601, 'Ward': 31, 'X Coordinate': 1147061, 'Y Coordinate': 1910278, 'Year': 2015}\n",
            "29 id 954 score =  11.90092658996582 : {'Arrest': True, 'Beat': 2525, 'Block': '021XX N PULASKI RD', 'Case Number': 'HY413197', 'Community Area': 20, 'Date': 1441560840, 'Description': 'AGGRAVATED:KNIFE/CUTTING INSTR', 'District': 25, 'Domestic': True, 'FBI Code': '04A', 'ID': 10225848, 'IUCR': '0520', 'Latitude': 41.919418374, 'Location': [41.919418374, -87.726626066], 'Location Description': 'RESIDENTIAL YARD (FRONT/BACK)', 'Longitude': -87.726626066, 'Primary Type': 'ASSAULT', 'Updated On': 1518270601, 'Ward': 30, 'X Coordinate': 1149369, 'Y Coordinate': 1913810, 'Year': 2015}\n",
            "30 id 962 score =  11.90092658996582 : {'Arrest': True, 'Beat': 424, 'Block': '089XX S BUFFALO AVE', 'Case Number': 'HY413141', 'Community Area': 46, 'Date': 1441556100, 'Description': 'AGGRAVATED:KNIFE/CUTTING INSTR', 'District': 4, 'Domestic': True, 'FBI Code': '04A', 'ID': 10225859, 'IUCR': '0520', 'Latitude': 41.733300748, 'Location': [41.733300748, -87.544367092], 'Location Description': 'SIDEWALK', 'Longitude': -87.544367092, 'Primary Type': 'ASSAULT', 'Updated On': 1518270601, 'Ward': 10, 'X Coordinate': 1199595, 'Y Coordinate': 1846393, 'Year': 2015}\n"
          ]
        }
      ],
      "source": [
        "response = hyperspace_client.set_function('Crime_Score_Function.py', collection_name=collection_name, function_name='similarity_sf')\n",
        "\n",
        "query = {\n",
        "    'params': input_vector,\n",
        "     \"query\": {\"boost\": 1}\n",
        "}\n",
        "\n",
        "results = hyperspace_client.search(query,\n",
        "                                        size=30,\n",
        "                                        function_name='similarity_sf',\n",
        "                                        collection_name=collection_name)\n",
        "print(\"query run time:\", results[\"took_ms\"])\n",
        "for i, result in enumerate(results['similarity']):\n",
        "  vector_api_response = hyperspace_client.get_document(document_id=result['document_id'], collection_name=collection_name)\n",
        "  print(i + 1, \"id\", result['document_id'], \"score = \" , result[\"score\"] ,\":\", vector_api_response)\n",
        "\n"
      ],
      "id": "5ff98e9d"
    },
    {
      "cell_type": "markdown",
      "source": [
        "We display the top 30 results. Note that results with similar score are ordered arbitrarily, so more complex logic will likely result in better outcome.\n",
        "\n",
        "For more information, visit us at [Hyperspace](https://www.hyper-space.io/)"
      ],
      "metadata": {
        "id": "EOdmFy7WDBGx"
      },
      "id": "EOdmFy7WDBGx"
    }
  ],
  "metadata": {
    "colab": {
      "provenance": []
    },
    "kernelspec": {
      "display_name": "Python 3 (ipykernel)",
      "language": "python",
      "name": "python3"
    },
    "language_info": {
      "codemirror_mode": {
        "name": "ipython",
        "version": 3
      },
      "file_extension": ".py",
      "mimetype": "text/x-python",
      "name": "python",
      "nbconvert_exporter": "python",
      "pygments_lexer": "ipython3",
      "version": "3.9.13"
    }
  },
  "nbformat": 4,
  "nbformat_minor": 5
}
