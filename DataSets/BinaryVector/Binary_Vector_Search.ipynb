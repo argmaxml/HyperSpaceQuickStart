{
  "cells": [
    {
      "cell_type": "markdown",
      "source": [
        "![63f78014766fd30436c18a79_Hyperspace - navbar logo.png](data:image/png;base64,iVBORw0KGgoAAAANSUhEUgAAAMoAAAAYCAYAAAC7k2KMAAAACXBIWXMAAAsTAAALEwEAmpwYAAAAAXNSR0IArs4c6QAAAARnQU1BAACxjwv8YQUAAApoSURBVHgB7VtdaBzXFT737q6xXUimTfPiUHtNXdKmpZHBeTHUlqBN6Uts4R/8pvUfhL7oxwkE+uDVQyEQ25JeSsBKtHprYxvZfikNBq9TmpcEtKatgxu3HbXEeXBNNzI4RjtzT865Mzs7MzszO6NVYpHMB2Jn5v7/nHO+c+4VQI4cOXLkyJEjR46vCCLq4/FTF/cjKgMyYMOGUv3N14dNyJHja4guQTk2cem0AKxCZgiztEEOZRGW4xOX5jrF8cpbZw9eDuc58cqFQVRypP1uKzlZmw62QYI9DSiebL+/de7A0cj2SAFQvn3td1mwZ86/cbiRVFcYCHBzwwZ5OWmc4XaSYD8hx2vV4ab/28mxhQEl1WhcGSGhiYg3ouYrCi+/tlC2LDVKym8QURhCILUnqA4xT2OJVXCVsQWjINVUUj+U0vORSklyP1or6rT/W9T4kzBWXTCWl1WFxrAXEQZ0PwSYNJYrX+a6FP2JJCSV1QkJA3kSrleqCzvTDxwr7SeBuEQ/XQuvFJaFL1+xaM3TjxmoBUWD8nhCd2LiwtLsuUNVfx53kaa4n7o9gY2wkDh1wT7h5okCa5bWij114pVL07NnDoxH5kEcIIGqQApsbMIk/QTmC4uWAUpU4sqg0j9jpGhMamw8SWBY8VF/q27PHM2Iwn3DQZoTk/JMvn3uQC2iuOFfo6h+OPPBdVyYefvcoWlIgLWi9ofrKy5bN+knsVwbrDQfLNsLgvuFPi2PUHbHMkrCEDsf/ayLDFU02H5+6Zc/gpdefA5mzx6A3bu2dVX06q/3wOu/+RU8+/2nYfcL7XQsUwOZKNtaQC+ygHr7HUGMksAG+rGyokbAJwCWXRyGPoAKx0hYpuCxgsaDsHDy1XcGolLTKT6tiOa0tu2jHySCU7yRE3MBdFlJFOk0vHYHlLgOkLS/nPno1Y/VoBiXwEJy9d1bcPuf92ILc/rRI7vg/Q9MeNyQdmFcSXvRfTUKDzRl0BTMsSZtrQqsimbC9C0KbHUU4kznS8EQerEdgWNhIYGc7GFBmwhqPC7xkVHoaX0RkLQbml6/UA7SGDw6qixRpZ+ujU599dEcYQqpjlpWsVECKNtSDTjptMkFNCy7UIeeEDUE+0ZcP8iyc3v1qJIOhY6w1AiDL48tlN9MWA8fG/B1BWZofbTlQJusr78fSjK72A7JyLQusYJy9U8fkVV5Dq79+WO4//+HXel/+WBJCxNj8e+fwuPG+enhxvHxizM0YY7WQqzQ4szPnjlUdya5DWHatqymq1U0iU7U/F+ozoar2TRKy0wnoJZQCdVxOCm9J6SE+uyZw3Xfpxpp2G28yZxuiufDZdi/IKZd9uoAmDxPc+G+MuVsUJ56sWDPkZAMk+LoKbBUx43zwbHUaM7B26Tt/kQAkf3M9kYXJj2zZdDWwZJWhX6qcWWJDQz66TA9T86eDVDrOtFtk5iEqxjQYCsbRa19yLQuMjZFILzxu/dg4MfPwPeeCfq2mzeW4Bc/2wGNv92FP1y5Cd/99mZYD7CxUAUfr2QNx/SDnjxtS0s1mWZTxIE0sgnrAESTb/hee9JdJdRomKKxVZ09e3Con/kQQjRSZfQJEa8Blax33sVochvoSxdm2P9kWKo4LcniCYlDtips7yEkmZFIveBFIFq1BFu3GNoP4WcWkiP7n4dFEpJndzwNP9+zg6zPLf3eDxDkCGnJvd0JohwwuQngBSfBGPcce1ocevY2hxRw+fzZSKc1NaRUI4HuSWX2KGLQuK5HJZDTOQSrgEtFPA3NUZ9wHp4LarfubVAUA8oWi24AoEFK5EavKFEvcATqwXIgOhcpcE60qWMRlJJ1CsqYZJnbCsxgajbbsXhBuNEtDYqORmVxhT0y2hmDTOuSQL1ukaX4Fjz1Hcda/JCcdsbWLY51YSf+/v2HcO2Tj8mP+R/0D+2IlSO+QxawY08TMOLTYJ62bZEfAxnA4Uf/ZKITXSl3cpB2O3Ow3qMaI4mSpOuImKJ+uJsQDfK3yuAbl0IxE1XM9dtCDrAzzzSO/Ry9Y2EqlQpH0wgMkmbXc+uCIlADwbpFTPRN+IW67vqH5vEJPSZdngSXhaYeLkn0sExcoVMTdny1PpFpXWRiKnl7Dx+1nDgc/X3+0HnetKnk/G4uwXqEbRe6NAvz2jQOfAjOZLp/NORysFLMJHirhT4v8PohApuTN15MaFf7bURDdlI5DqlH0yuqkwRmka0UZOqH3mR+ITH5jCtcRteLHepLQj3va9v/PBKOVK4nxFMvcuQfft6Ca+/dgc2bivCfTz4jp/0u3P7XPR3pun3nnrYqO/f8QOdLio6lAk2aKGAt/JkOtGiDitOQASwQ5GTO+yMhzGFhjcCbk4RkMpYqBNEk3txXKDq2H4Dj5NQmjstVDhV+ZnpDtGegALBXgT4KaG9Mw1pJdqgT0OS1s1FWo3wdxxH39VnIJ49NvFPhZ/JN6ETHYwxGVGBEr+XERe+dwsllWBtkWpfEqBdv/iP7fkr+x6fw/odL+jsLxdzvP9TnKOyXXH33I4+e9QNy2MyojUeTWo65aZMJq3FYOTxMTXtWQ1jFJtlUM2NdzZQCldARGC7ZhUaLIlQBuiChp8PKGr1Nq9x+8N80U5qCE053qQ8M9KqL2p4hZebRK54PtlpJRbQj7mfPaE8Lj8gEabUSyIqt1l0J+HwtrfzGwlm039ay53rdNvAh07okRr1YGP5797Mua8HCwuHh3bvK2rr8485a+CjrEUJPZvuPN0U/EaJV90Jgk88ZwpTSPbeIBQU2pphWRR1IaksTEQRIgqQIV3g+kvI7tCuFALZBwhBFv8IRPr5tEM6jD5Sd4M0cjfnfa33omHzgSFaFQ8NPRYR/d/5kiz5w5Hy7X9iqLUuOSBgU46/GJVpPFKfTXvnhzU11TXrnBbQxjk1cGIu6OuLe2dOaV9ly8fipSzUh1HyRwtt2qWWQ0NHG6kQEUcjLsMZotVTwwBPUfFQ+9FHr4rLFfa7605k2F2TnZgXfNqDx0HM7Akan++i/GpMuyJJlXRKpF1sVFojFv0aHfllImIatBfX6GsPABB9rY1NTjdRWqnvTiNOkubvCvJKJjJ+y0kYiC1RpSYog2RJEgPYIMy4g0BeCUaV61PkHQx8LuHnJB+k6ImArfnJsYTgQwXMEo9JuyIcmBRXShN0zrUuAeqHv8IitBQvLiVOXPP/EDz6MfO23f9S0jM9XHAjzkQFfOTX5JoE3DV9F8X0ymJuH8/GmpI1w1DkFjwcHJlJurExwqI/vNF1GWxOdhqJzNkICE0WbvAhe4ng48lYYWkV0sycCFoW0yjSZo0RJi4cODw5luTIt9B0mFzL6jlBBlRooLS9f6pNxCZdXE3MnXUtnEs7/4iiUJqwGNBah0p3/RCmWYrFoUhQqdszsH5ygg9V2P1mhMrcPz71rJWr6npUt9gsJ+qoLbcymQlxix7yHQ9sMrFFBZTrt9pdNasdSslaUVs/QsCsA2/VlT8RBGs823Q7S3gO4SRG9WqIP2ce6rNk/bilVqn8ZkpwjR44cOXLkyJEjR45vFL4Aeoh6Zli/bmMAAAAASUVORK5CYII=)"
      ],
      "metadata": {
        "id": "yZ7FEZEejbP9"
      },
      "id": "yZ7FEZEejbP9"
    },
    {
      "cell_type": "markdown",
      "source": [
        "#  Binary Vector and Metadata Search with Hyperspace\n",
        "This notebook demonstrates the use of Hyperspace engine for a hybrid search, which combines vector search of binaryy vectors and metadata filtering over their corresponding metadata.\n",
        "\n",
        "# The Dataset\n",
        "The dataset includes randomly generated binary vectors of dimension 800 and corresponding metadata, that describes stores.\n",
        "\n",
        "## The Dataset Fields\n",
        "The metadata includes the following fields:\n",
        "1. **country** [string] - The Country in which the store is located\n",
        "2. **city** [string] - The city in which the store is located\n",
        "3. **street** [keyword] - The street in which the store is located\n",
        "4. **zip_code** [integer] - The store zipcode\n",
        "5. **open_now** [boolean] - Is the store open\n",
        "6. **vertical** [keyword] - The store vertical (industry)\n",
        "\n",
        "# Setting up the Hyperspace environment\n",
        "Setting the Hyperspace environment and running queries, includes the following steps\n",
        "\n",
        "1. Download and install the client API\n",
        "2. Connect to a server\n",
        "3. Create data schema file\n",
        "4. Create collection\n",
        "5. Ingest data\n",
        "6. Define Logic and Run a Query\n"
      ],
      "metadata": {
        "id": "DQf1g53MLo9r"
      },
      "id": "DQf1g53MLo9r"
    },
    {
      "cell_type": "markdown",
      "source": [
        "# 1. Install the client API\n",
        "Hyperspace API can be installed directly from git, using the following command:"
      ],
      "metadata": {
        "id": "qol984iQq_O4"
      },
      "id": "qol984iQq_O4"
    },
    {
      "cell_type": "code",
      "source": [
        "pip install git+https://github.com/hyper-space-io/hyperspace-py"
      ],
      "metadata": {
        "id": "U6p1YrVOL19j"
      },
      "id": "U6p1YrVOL19j",
      "execution_count": null,
      "outputs": []
    },
    {
      "cell_type": "markdown",
      "source": [
        "# 2. Connect to a server\n",
        "\n",
        "Once the Hyperspace API is installed, the database can be accessed by creating a local instance of the Hyperspace client. This step requires host address, username and password."
      ],
      "metadata": {
        "id": "EtEeKuxJ7E2Q"
      },
      "id": "EtEeKuxJ7E2Q"
    },
    {
      "cell_type": "code",
      "execution_count": null,
      "id": "4161f9f8",
      "metadata": {
        "id": "4161f9f8"
      },
      "outputs": [],
      "source": [
        "import hyperspace\n",
        "\n",
        "hyperspace_client = hyperspace.HyperspaceClientApi(host='https://search-master-demo.development.hyper-space.xyz',\n",
        "                                                   username=username, password=password)"
      ]
    },
    {
      "cell_type": "markdown",
      "source": [
        "Before continuuing, let us check that the cluster is live"
      ],
      "metadata": {
        "id": "yQb-y862X7Ec"
      },
      "id": "yQb-y862X7Ec"
    },
    {
      "cell_type": "code",
      "source": [
        "cluster_status = hyperspace_client.cluster_status()\n",
        "display(cluster_status)"
      ],
      "metadata": {
        "id": "pl7oBXaTYDMq"
      },
      "id": "pl7oBXaTYDMq",
      "execution_count": null,
      "outputs": []
    },
    {
      "cell_type": "markdown",
      "source": [
        "#3.   Create a Data Schema File\n",
        "\n",
        "Similarly to other search databases, Hyper-Space database requires a configuration file that outlines the data schema. Here, we create a config file that corresponds to the fields of the given dataset.\n",
        "\n",
        "For vector fields, we also provide the index type to be used, and the metric. . Current options for index include \"**brute_force**\", \"**hnsw**\", \"**ivf**\", and \"**bin_ivf**\" for binary vectors, and \"**IP**\" (inner product) as a metric for floating point vectors and \"**Hamming**\" ([hamming distance](https://en.wikipedia.org/wiki/Hamming_distance)) for binary vectors.\n",
        "Note that the key 'low_cardinality' enables faster search for low cardinality fields."
      ],
      "metadata": {
        "id": "6BG-FyOlujHE"
      },
      "id": "6BG-FyOlujHE"
    },
    {
      "cell_type": "code",
      "execution_count": null,
      "id": "976b2177",
      "metadata": {
        "id": "976b2177"
      },
      "outputs": [],
      "source": [
        "import json\n",
        "vector_dimension = 800 # bits\n",
        "config = {\n",
        "    \"configuration\": {\n",
        "        'city': {\"type\": 'keyword'},\n",
        "        'country': {\"type\": 'keyword'},\n",
        "        'open_now': {\"type\": 'boolean'},\n",
        "        'zip_code': {\"type\": 'integer'},\n",
        "        'street': {\"type\": 'keyword'},\n",
        "        'vertical': {\"type\": 'keyword', 'low_cardinality': True},\n",
        "        \"vector\": {\n",
        "            \"type\": \"dense_vector\",\n",
        "            \"index_type\": \"bin_ivf\",\n",
        "            \"dim\": vector_dimension,\n",
        "            \"metric\": \"hamming\"\n",
        "        }\n",
        "    }\n",
        "}\n",
        "\n",
        "with open('config.json', 'w') as f:\n",
        "    f.write(json.dumps(config, indent=2))\n"
      ]
    },
    {
      "cell_type": "markdown",
      "source": [
        "## 4. Create Collection\n",
        "The Hyerspace engine stroes data in Collections, where each collecction commonly hosts data of similar context, etc. Each search is then perfomed within a collection. We create a collection using the command \"**create_collection**(schema_filename, collection_name)\"."
      ],
      "metadata": {
        "id": "g1DHlx75uklY"
      },
      "id": "g1DHlx75uklY"
    },
    {
      "cell_type": "code",
      "execution_count": null,
      "id": "2a787dba",
      "metadata": {
        "id": "2a787dba"
      },
      "outputs": [],
      "source": [
        "collection_name = 'GeneratedData'\n",
        "delete_collection = False\n",
        "\n",
        "if delete_collection:\n",
        "    hyperspace_client.delete_collection(collection_name)\n",
        "\n",
        "hyperspace_client.create_collection('config.json', collection_name)"
      ]
    },
    {
      "cell_type": "markdown",
      "source": [
        "# 5. Ingest data\n",
        "\n",
        "In the next step we ingest the dataset in batches of 250 documents. This number can be controlled by user, and in particular, can be increased in order improve ingestion time. We add batches of data using the command **add_batch**(batch, collection_name)."
      ],
      "metadata": {
        "id": "9eUT0cBRu31m"
      },
      "id": "9eUT0cBRu31m"
    },
    {
      "cell_type": "code",
      "source": [
        "import random\n",
        "import secrets\n",
        "import base64\n",
        "\n",
        "def generate_data(metadata, vector_dimension):\n",
        "    data_point = random.choice(metadata)\n",
        "    random_bytes = secrets.token_bytes(vector_dimension // 8)\n",
        "    data_point['vector'] =  base64.b64encode(random_bytes).decode()\n",
        "    return data_point"
      ],
      "metadata": {
        "id": "_XCNBaIHLjZZ"
      },
      "id": "_XCNBaIHLjZZ",
      "execution_count": null,
      "outputs": []
    },
    {
      "cell_type": "code",
      "execution_count": null,
      "id": "95086784",
      "metadata": {
        "id": "95086784"
      },
      "outputs": [],
      "source": [
        "import pickle\n",
        "with open(\"Generated_data.hsv\", 'rb') as file:\n",
        "  metadata = pickle.load(file)\n",
        "\n",
        "BATCH_SIZE = 250\n",
        "\n",
        "batch = []\n",
        "data = []\n",
        "\n",
        "\n",
        "for i, vec in enumerate(range(100000)):\n",
        "    data_point = generate_data(metadata, vector_dimension)\n",
        "    batch.append(hyperspace.Document(str(i), data_point))\n",
        "\n",
        "    if (i+1) % BATCH_SIZE == 0:\n",
        "        response = hyperspace_client.add_batch(batch, collection_name)\n",
        "        print(i, response)\n",
        "        batch.clear()\n",
        "\n",
        "if batch:\n",
        "    hyperspace_client.add_batch(batch, collection_name)\n",
        "\n",
        "response = hyperspace_client.add_batch(batch, collection_name)\n",
        "\n",
        "hyperspace_client.commit(collection_name)\n",
        "\n"
      ]
    },
    {
      "cell_type": "code",
      "source": [
        "data_point"
      ],
      "metadata": {
        "colab": {
          "base_uri": "https://localhost:8080/"
        },
        "id": "-h7z75jMWjdk",
        "outputId": "cfb355d7-b5b1-4fda-b02f-18b282fdefa9"
      },
      "id": "-h7z75jMWjdk",
      "execution_count": null,
      "outputs": [
        {
          "output_type": "execute_result",
          "data": {
            "text/plain": [
              "{'city': 'North Mistyview',\n",
              " 'country': 'Gibraltar',\n",
              " 'open_now': True,\n",
              " 'zip_code': 31158,\n",
              " 'street': 'banana',\n",
              " 'vector': '9BHcg8G55CcOpuKrwHePARQnqT2NERUXcWY4u40tRCZKI+5/VA6lRb7I3mCfVeeOZvF2y11I8H8A9DJ4RLZY8aY8r44eaQr8vHgBjFDve1OCoNm+My0O2O+7BvUbiJj80CFgQg=='}"
            ]
          },
          "metadata": {},
          "execution_count": 10
        }
      ]
    },
    {
      "cell_type": "markdown",
      "source": [
        "#6. Define Logic and Run a Query\n",
        "We will build a hybrid search query using Hyper-space. In the query,  we will select a document and find similar ones."
      ],
      "metadata": {
        "id": "Yjo-yZwXDjkS"
      },
      "id": "Yjo-yZwXDjkS"
    },
    {
      "cell_type": "code",
      "execution_count": null,
      "id": "5c6e2ccb",
      "metadata": {
        "id": "5c6e2ccb"
      },
      "outputs": [],
      "source": [
        "score_function_filename = 'binary_score_function.py'\n",
        "hyperspace_client.set_function(score_function_filename, collection_name=collection_name, function_name='score_function')"
      ]
    },
    {
      "cell_type": "code",
      "execution_count": null,
      "id": "5ff98e9d",
      "metadata": {
        "id": "5ff98e9d"
      },
      "outputs": [],
      "source": [
        "import random\n",
        "from pprint import pprint\n",
        "\n",
        "input_vector =  {'vector': base64.b64encode(secrets.token_bytes(vector_dimension // 8)).decode(), 'country': 'France'}\n",
        "\n",
        "query = {\n",
        "    'params': input_vector,\n",
        "    \"knn\": {\n",
        "        \"query\": {\"boost\": 1},\n",
        "        \"vector\": {\n",
        "            \"boost\": 10,\n",
        "        }\n",
        "    }\n",
        "}\n",
        "\n",
        "results = hyperspace_client.search(query,\n",
        "                                        size=15,\n",
        "                                        function_name='score_function',\n",
        "                                        collection_name=collection_name)\n",
        "candidates = results['candidates']\n",
        "\n",
        "print(f\"Query run time: {results['took_ms']:.2f}ms\")\n",
        "print(f'query run time / candidates+1 = {results[\"took_ms\"] / (results[\"candidates\"] + 1):.2f}')\n",
        "pprint(results['similarity'])\n"
      ]
    },
    {
      "cell_type": "markdown",
      "source": [
        "# Results\n",
        "Let's view the results. Since the vectors are random, it is hard to evaluate the quality of the vector search, beyond the fact that results are sorted by Hamming distance. On the classic search side, we can see that the filters behave as expected."
      ],
      "metadata": {
        "id": "5lzGiQ3ON9bW"
      },
      "id": "5lzGiQ3ON9bW"
    },
    {
      "cell_type": "code",
      "execution_count": null,
      "id": "ddd7d6a1",
      "metadata": {
        "id": "ddd7d6a1"
      },
      "outputs": [],
      "source": [
        "for i, x in enumerate(results['similarity']):\n",
        "  vector = hyperspace_client.get_document(collection_name, x[\"document_id\"])\n",
        "  print(i, vector)"
      ]
    },
    {
      "cell_type": "markdown",
      "source": [
        "This notebook gave a simple example of the use of the Hyperspace engine for hybrid search. Hyperspace can support signficantly more complicated use cases with large databases, in extremley low latency."
      ],
      "metadata": {
        "id": "HHUPLwHjNE67"
      },
      "id": "HHUPLwHjNE67"
    }
  ],
  "metadata": {
    "kernelspec": {
      "display_name": "Python 3 (ipykernel)",
      "language": "python",
      "name": "python3"
    },
    "language_info": {
      "codemirror_mode": {
        "name": "ipython",
        "version": 3
      },
      "file_extension": ".py",
      "mimetype": "text/x-python",
      "name": "python",
      "nbconvert_exporter": "python",
      "pygments_lexer": "ipython3",
      "version": "3.9.13"
    },
    "colab": {
      "provenance": []
    }
  },
  "nbformat": 4,
  "nbformat_minor": 5
}
